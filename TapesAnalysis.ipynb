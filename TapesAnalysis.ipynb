{
  "nbformat": 4,
  "nbformat_minor": 0,
  "metadata": {
    "colab": {
      "provenance": [],
      "authorship_tag": "ABX9TyN5iN26NWqYSPgB6fBFJgDO",
      "include_colab_link": true
    },
    "kernelspec": {
      "name": "python3",
      "display_name": "Python 3"
    },
    "language_info": {
      "name": "python"
    }
  },
  "cells": [
    {
      "cell_type": "markdown",
      "metadata": {
        "id": "view-in-github",
        "colab_type": "text"
      },
      "source": [
        "<a href=\"https://colab.research.google.com/github/UoB-DSMP-2023-24/dsmp-2024-group22/blob/main/TapesAnalysis.ipynb\" target=\"_parent\"><img src=\"https://colab.research.google.com/assets/colab-badge.svg\" alt=\"Open In Colab\"/></a>"
      ]
    },
    {
      "cell_type": "code",
      "execution_count": 1,
      "metadata": {
        "id": "FGjbknQivdFl"
      },
      "outputs": [],
      "source": [
        "from google.colab import auth\n",
        "auth.authenticate_user()"
      ]
    },
    {
      "cell_type": "code",
      "source": [
        "from google.cloud import storage\n",
        "gcs = storage.Client()"
      ],
      "metadata": {
        "id": "quoDqzEiwoSR"
      },
      "execution_count": 2,
      "outputs": []
    },
    {
      "cell_type": "code",
      "source": [
        "import pandas as pd\n",
        "import io\n",
        "\n",
        "bucket_name = 'jpm-tapes'\n",
        "directory_path = 'Tapes/'\n",
        "\n",
        "bucket = gcs.get_bucket(bucket_name)"
      ],
      "metadata": {
        "id": "XwyIggaDwq5P"
      },
      "execution_count": 3,
      "outputs": []
    },
    {
      "cell_type": "code",
      "source": [
        "blobs = bucket.list_blobs(prefix=directory_path)\n",
        "\n",
        "dfs = []\n",
        "\n",
        "for blob in blobs:\n",
        "    blob_str = blob.download_as_text()\n",
        "    blob_df = pd.read_csv(io.StringIO(blob_str))\n",
        "    dfs.append(blob_df)\n",
        "\n",
        "df = pd.concat(dfs, ignore_index=True)"
      ],
      "metadata": {
        "id": "ehSidryAxFUn"
      },
      "execution_count": 4,
      "outputs": []
    },
    {
      "cell_type": "code",
      "source": [
        "print(df.head())"
      ],
      "metadata": {
        "colab": {
          "base_uri": "https://localhost:8080/"
        },
        "id": "MR4ypyTUxMTz",
        "outputId": "0b0cd295-1a05-42ee-a987-301eecf754f5"
      },
      "execution_count": 5,
      "outputs": [
        {
          "output_type": "stream",
          "name": "stdout",
          "text": [
            "   10.881    267    1  1.767   281  3.286   278   2  6.417   336  ...  9.145  \\\n",
            "0  11.067  269.0  1.0    NaN   NaN    NaN   NaN NaN    NaN   NaN  ...    NaN   \n",
            "1  11.222  267.0  2.0    NaN   NaN    NaN   NaN NaN    NaN   NaN  ...    NaN   \n",
            "2  12.338  270.0  2.0    NaN   NaN    NaN   NaN NaN    NaN   NaN  ...    NaN   \n",
            "3  13.733  267.0  3.0    NaN   NaN    NaN   NaN NaN    NaN   NaN  ...    NaN   \n",
            "4  18.321  265.0  2.0    NaN   NaN    NaN   NaN NaN    NaN   NaN  ...    NaN   \n",
            "\n",
            "    111  12.648   96  2.945   113   106  10.075  4.619   94  \n",
            "0   NaN     NaN  NaN    NaN   NaN   NaN     NaN    NaN  NaN  \n",
            "1   NaN     NaN  NaN    NaN   NaN   NaN     NaN    NaN  NaN  \n",
            "2   NaN     NaN  NaN    NaN   NaN   NaN     NaN    NaN  NaN  \n",
            "3   NaN     NaN  NaN    NaN   NaN   NaN     NaN    NaN  NaN  \n",
            "4   NaN     NaN  NaN    NaN   NaN   NaN     NaN    NaN  NaN  \n",
            "\n",
            "[5 rows x 208 columns]\n"
          ]
        }
      ]
    },
    {
      "cell_type": "code",
      "source": [
        "print(df.tail())"
      ],
      "metadata": {
        "id": "2_5WYSBRxNfb"
      },
      "execution_count": null,
      "outputs": []
    }
  ]
}