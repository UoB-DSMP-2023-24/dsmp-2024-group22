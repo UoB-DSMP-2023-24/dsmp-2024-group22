{
  "nbformat": 4,
  "nbformat_minor": 0,
  "metadata": {
    "colab": {
      "provenance": [],
      "authorship_tag": "ABX9TyNIEFZZp0dKzfWO4glfrPYU",
      "include_colab_link": true
    },
    "kernelspec": {
      "name": "python3",
      "display_name": "Python 3"
    },
    "language_info": {
      "name": "python"
    }
  },
  "cells": [
    {
      "cell_type": "markdown",
      "metadata": {
        "id": "view-in-github",
        "colab_type": "text"
      },
      "source": [
        "<a href=\"https://colab.research.google.com/github/UoB-DSMP-2023-24/dsmp-2024-group22/blob/main/TapesAnalysis.ipynb\" target=\"_parent\"><img src=\"https://colab.research.google.com/assets/colab-badge.svg\" alt=\"Open In Colab\"/></a>"
      ]
    },
    {
      "cell_type": "code",
      "execution_count": 6,
      "metadata": {
        "id": "FGjbknQivdFl"
      },
      "outputs": [],
      "source": [
        "from google.colab import auth\n",
        "auth.authenticate_user()"
      ]
    },
    {
      "cell_type": "code",
      "source": [
        "from google.cloud import storage\n",
        "gcs = storage.Client()"
      ],
      "metadata": {
        "id": "quoDqzEiwoSR"
      },
      "execution_count": 7,
      "outputs": []
    },
    {
      "cell_type": "code",
      "source": [
        "import pandas as pd\n",
        "import io\n",
        "\n",
        "bucket_name = 'jpm-tapes'\n",
        "directory_path = 'Tapes/'\n",
        "\n",
        "bucket = gcs.get_bucket(bucket_name)"
      ],
      "metadata": {
        "id": "XwyIggaDwq5P"
      },
      "execution_count": 8,
      "outputs": []
    },
    {
      "cell_type": "code",
      "source": [
        "blobs = bucket.list_blobs(prefix=directory_path)\n",
        "\n",
        "dfs = []\n",
        "\n",
        "for blob in blobs:\n",
        "    if blob.name.endswith('.csv'):\n",
        "        content = blob.download_as_string()\n",
        "        df = pd.read_csv(io.BytesIO(content), delimiter='\\t', header=None)  # Assuming data is tab-separated\n",
        "        dfs.append(df)\n",
        "\n",
        "combined_df = pd.concat(dfs, ignore_index=True)\n"
      ],
      "metadata": {
        "id": "ehSidryAxFUn"
      },
      "execution_count": 9,
      "outputs": []
    },
    {
      "cell_type": "code",
      "source": [
        "print(combined_df.head())"
      ],
      "metadata": {
        "colab": {
          "base_uri": "https://localhost:8080/"
        },
        "id": "MR4ypyTUxMTz",
        "outputId": "278b91e0-3c72-4e70-bfb1-03bb3bc88d29"
      },
      "execution_count": 10,
      "outputs": [
        {
          "output_type": "stream",
          "name": "stdout",
          "text": [
            "                0\n",
            "0  10.881, 267, 1\n",
            "1  11.067, 269, 1\n",
            "2  11.222, 267, 2\n",
            "3  12.338, 270, 2\n",
            "4  13.733, 267, 3\n"
          ]
        }
      ]
    },
    {
      "cell_type": "code",
      "source": [
        "print(df.tail())"
      ],
      "metadata": {
        "id": "2_5WYSBRxNfb",
        "colab": {
          "base_uri": "https://localhost:8080/"
        },
        "outputId": "a28b0101-ed4d-4dfc-8007-a2a7d47018e6"
      },
      "execution_count": 11,
      "outputs": [
        {
          "output_type": "stream",
          "name": "stdout",
          "text": [
            "                       0\n",
            "27466  30594.706, 108, 2\n",
            "27467  30595.481, 108, 2\n",
            "27468  30596.349, 108, 3\n",
            "27469  30596.597, 108, 2\n",
            "27470  30596.597, 107, 2\n"
          ]
        }
      ]
    }
  ]
}