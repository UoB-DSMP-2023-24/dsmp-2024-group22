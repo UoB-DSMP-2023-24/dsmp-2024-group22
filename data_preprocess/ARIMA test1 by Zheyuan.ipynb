{
 "cells": [
  {
   "cell_type": "code",
   "execution_count": 2,
   "outputs": [],
   "source": [
    "import pandas as pd"
   ],
   "metadata": {
    "collapsed": false,
    "pycharm": {
     "name": "#%%\n"
    }
   }
  },
  {
   "cell_type": "code",
   "execution_count": 10,
   "outputs": [
    {
     "data": {
      "text/plain": "     Unnamed: 0        date  max_price  min_price  open_price  close_price\n0             0  2025-01-02      303.0      243.0       267.0        288.0\n1             1  2025-01-03      317.0      270.0       281.0        291.0\n2             2  2025-01-04        NaN        NaN         NaN          NaN\n3             3  2025-01-05        NaN        NaN         NaN          NaN\n4             4  2025-01-06      346.0      276.0       278.0        327.0\n..          ...         ...        ...        ...         ...          ...\n176         176  2025-06-27      113.0       93.0       106.0        111.0\n177         177  2025-06-28        NaN        NaN         NaN          NaN\n178         178  2025-06-29        NaN        NaN         NaN          NaN\n179         179  2025-06-30      113.0       93.0       103.0        110.0\n180         180  2025-07-01      114.0       93.0        94.0        107.0\n\n[181 rows x 6 columns]",
      "text/html": "<div>\n<style scoped>\n    .dataframe tbody tr th:only-of-type {\n        vertical-align: middle;\n    }\n\n    .dataframe tbody tr th {\n        vertical-align: top;\n    }\n\n    .dataframe thead th {\n        text-align: right;\n    }\n</style>\n<table border=\"1\" class=\"dataframe\">\n  <thead>\n    <tr style=\"text-align: right;\">\n      <th></th>\n      <th>Unnamed: 0</th>\n      <th>date</th>\n      <th>max_price</th>\n      <th>min_price</th>\n      <th>open_price</th>\n      <th>close_price</th>\n    </tr>\n  </thead>\n  <tbody>\n    <tr>\n      <th>0</th>\n      <td>0</td>\n      <td>2025-01-02</td>\n      <td>303.0</td>\n      <td>243.0</td>\n      <td>267.0</td>\n      <td>288.0</td>\n    </tr>\n    <tr>\n      <th>1</th>\n      <td>1</td>\n      <td>2025-01-03</td>\n      <td>317.0</td>\n      <td>270.0</td>\n      <td>281.0</td>\n      <td>291.0</td>\n    </tr>\n    <tr>\n      <th>2</th>\n      <td>2</td>\n      <td>2025-01-04</td>\n      <td>NaN</td>\n      <td>NaN</td>\n      <td>NaN</td>\n      <td>NaN</td>\n    </tr>\n    <tr>\n      <th>3</th>\n      <td>3</td>\n      <td>2025-01-05</td>\n      <td>NaN</td>\n      <td>NaN</td>\n      <td>NaN</td>\n      <td>NaN</td>\n    </tr>\n    <tr>\n      <th>4</th>\n      <td>4</td>\n      <td>2025-01-06</td>\n      <td>346.0</td>\n      <td>276.0</td>\n      <td>278.0</td>\n      <td>327.0</td>\n    </tr>\n    <tr>\n      <th>...</th>\n      <td>...</td>\n      <td>...</td>\n      <td>...</td>\n      <td>...</td>\n      <td>...</td>\n      <td>...</td>\n    </tr>\n    <tr>\n      <th>176</th>\n      <td>176</td>\n      <td>2025-06-27</td>\n      <td>113.0</td>\n      <td>93.0</td>\n      <td>106.0</td>\n      <td>111.0</td>\n    </tr>\n    <tr>\n      <th>177</th>\n      <td>177</td>\n      <td>2025-06-28</td>\n      <td>NaN</td>\n      <td>NaN</td>\n      <td>NaN</td>\n      <td>NaN</td>\n    </tr>\n    <tr>\n      <th>178</th>\n      <td>178</td>\n      <td>2025-06-29</td>\n      <td>NaN</td>\n      <td>NaN</td>\n      <td>NaN</td>\n      <td>NaN</td>\n    </tr>\n    <tr>\n      <th>179</th>\n      <td>179</td>\n      <td>2025-06-30</td>\n      <td>113.0</td>\n      <td>93.0</td>\n      <td>103.0</td>\n      <td>110.0</td>\n    </tr>\n    <tr>\n      <th>180</th>\n      <td>180</td>\n      <td>2025-07-01</td>\n      <td>114.0</td>\n      <td>93.0</td>\n      <td>94.0</td>\n      <td>107.0</td>\n    </tr>\n  </tbody>\n</table>\n<p>181 rows × 6 columns</p>\n</div>"
     },
     "execution_count": 10,
     "metadata": {},
     "output_type": "execute_result"
    }
   ],
   "source": [
    "#first,we try to prepare the data of ARIMA.\n",
    "adata=pd.read_csv(\"E:/mini project bristol/processed data(LOBS,tapes)/processed_tapes.csv\")\n",
    "adata"
   ],
   "metadata": {
    "collapsed": false,
    "pycharm": {
     "name": "#%%\n"
    }
   }
  },
  {
   "cell_type": "code",
   "execution_count": null,
   "outputs": [],
   "source": [],
   "metadata": {
    "collapsed": false,
    "pycharm": {
     "name": "#%%\n"
    }
   }
  }
 ],
 "metadata": {
  "kernelspec": {
   "display_name": "Python 3",
   "language": "python",
   "name": "python3"
  },
  "language_info": {
   "codemirror_mode": {
    "name": "ipython",
    "version": 2
   },
   "file_extension": ".py",
   "mimetype": "text/x-python",
   "name": "python",
   "nbconvert_exporter": "python",
   "pygments_lexer": "ipython2",
   "version": "2.7.6"
  }
 },
 "nbformat": 4,
 "nbformat_minor": 0
}