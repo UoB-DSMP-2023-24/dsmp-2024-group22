{
 "cells": [
  {
   "cell_type": "code",
   "execution_count": 2,
   "metadata": {
    "collapsed": true,
    "pycharm": {
     "name": "#%%\n"
    }
   },
   "outputs": [],
   "source": [
    "import pandas as pd\n",
    "import numpy as np"
   ]
  },
  {
   "cell_type": "code",
   "execution_count": 3,
   "outputs": [
    {
     "data": {
      "text/plain": "[[0.0, 'Exch0', [['bid', []], ['ask', []]]],\n [0.279, 'Exch0', [['bid', [[1, 6]]], ['ask', []]]],\n [1.333, 'Exch0', [['bid', [[1, 6]]], ['ask', [[800, 1]]]]],\n [1.581, 'Exch0', [['bid', [[1, 6]]], ['ask', [[799, 1]]]]],\n [1.643, 'Exch0', [['bid', [[1, 6]]], ['ask', [[798, 1]]]]]]"
     },
     "execution_count": 3,
     "metadata": {},
     "output_type": "execute_result"
    }
   ],
   "source": [
    "substring = \"Exch0\"\n",
    "# read the single file\n",
    "LOB = []\n",
    "file = \"C:/Users/14620/Desktop/test.txt\"\n",
    "file1 = \"E:/mini project bristol/JPMorgan_Set01/JPMorgan_Set01/LOBs/UoB_Set01_2025-01-02LOBs.txt\"\n",
    "\n",
    "with open(file1, 'r') as f:\n",
    "    for line in f:\n",
    "        new_line = line.replace(substring, f'\"{substring}\"')  #First, because Exch0 is a string, the string is first wrapped in quotes to prevent eval () from mistaking Exch0 for a variable name\n",
    "        LOB.append(eval(new_line.strip('\\n')))\n",
    "LOB[:5]"
   ],
   "metadata": {
    "collapsed": false,
    "pycharm": {
     "name": "#%%\n"
    }
   }
  },
  {
   "cell_type": "code",
   "execution_count": 6,
   "outputs": [
    {
     "data": {
      "text/plain": "array([[0.0, 'Exch0', list([['bid', []], ['ask', []]])],\n       [0.279, 'Exch0', list([['bid', [[1, 6]]], ['ask', []]])],\n       [1.333, 'Exch0', list([['bid', [[1, 6]]], ['ask', [[800, 1]]]])],\n       [1.581, 'Exch0', list([['bid', [[1, 6]]], ['ask', [[799, 1]]]])],\n       [1.643, 'Exch0', list([['bid', [[1, 6]]], ['ask', [[798, 1]]]])]],\n      dtype=object)"
     },
     "execution_count": 6,
     "metadata": {},
     "output_type": "execute_result"
    }
   ],
   "source": [
    "def dictionary(a):\n",
    "    it = iter(a)\n",
    "    res_dct = dict(zip(it, it))\n",
    "    return res_dct\n",
    "\n",
    "\n",
    "#Method: Use iterators to convert them into dictionary form\n",
    "\n",
    "New_data = []\n",
    "test_lines = np.asarray(LOB, dtype=object)  #The LOB is converted to a multidimensional array using the asarray method\n",
    "test_lines[:5]"
   ],
   "metadata": {
    "collapsed": false,
    "pycharm": {
     "name": "#%%\n"
    }
   }
  },
  {
   "cell_type": "code",
   "execution_count": 7,
   "outputs": [
    {
     "data": {
      "text/plain": "array([[{'Time': 0.0, 'Encode': 'Exch0', 'bid': [], 'ask': []}],\n       [{'Time': 0.279, 'Encode': 'Exch0', 'bid': [[1, 6]], 'ask': []}],\n       [{'Time': 1.333, 'Encode': 'Exch0', 'bid': [[1, 6]], 'ask': [[800, 1]]}],\n       [{'Time': 1.581, 'Encode': 'Exch0', 'bid': [[1, 6]], 'ask': [[799, 1]]}],\n       [{'Time': 1.643, 'Encode': 'Exch0', 'bid': [[1, 6]], 'ask': [[798, 1]]}]],\n      dtype=object)"
     },
     "execution_count": 7,
     "metadata": {},
     "output_type": "execute_result"
    }
   ],
   "source": [
    "for i in test_lines:\n",
    "    every_line = [[\"Time\", i[0]], [\"Encode\", i[1]], i[2][0], i[2][1]]\n",
    "    #Create a new column and put the data in the testlines array into the new format for easy computation below\n",
    "    New_data.append(every_line)\n",
    "\n",
    "\n",
    "for i in New_data:  #Put the data into the convert method and convert it all into dictionary format\n",
    "    i[0] = dictionary(i[0])\n",
    "    i[1] = dictionary(i[1])\n",
    "    i[2] = dictionary(i[2])\n",
    "    i[3] = dictionary(i[3])\n",
    "    i[0] = i[0] | i[1] | i[2] | i[3]  #Summarize all columns into the first column\n",
    "New_data = np.delete(New_data, [1, 2, 3], 1)  #Delete redundant columns\n",
    "New_data[:5]"
   ],
   "metadata": {
    "collapsed": false,
    "pycharm": {
     "name": "#%%\n"
    }
   }
  },
  {
   "cell_type": "code",
   "execution_count": 9,
   "outputs": [
    {
     "data": {
      "text/plain": "                                                   0\n0  {'Time': 0.0, 'Encode': 'Exch0', 'bid': [], 'a...\n1  {'Time': 0.279, 'Encode': 'Exch0', 'bid': [[1,...\n2  {'Time': 1.333, 'Encode': 'Exch0', 'bid': [[1,...\n3  {'Time': 1.581, 'Encode': 'Exch0', 'bid': [[1,...\n4  {'Time': 1.643, 'Encode': 'Exch0', 'bid': [[1,...",
      "text/html": "<div>\n<style scoped>\n    .dataframe tbody tr th:only-of-type {\n        vertical-align: middle;\n    }\n\n    .dataframe tbody tr th {\n        vertical-align: top;\n    }\n\n    .dataframe thead th {\n        text-align: right;\n    }\n</style>\n<table border=\"1\" class=\"dataframe\">\n  <thead>\n    <tr style=\"text-align: right;\">\n      <th></th>\n      <th>0</th>\n    </tr>\n  </thead>\n  <tbody>\n    <tr>\n      <th>0</th>\n      <td>{'Time': 0.0, 'Encode': 'Exch0', 'bid': [], 'a...</td>\n    </tr>\n    <tr>\n      <th>1</th>\n      <td>{'Time': 0.279, 'Encode': 'Exch0', 'bid': [[1,...</td>\n    </tr>\n    <tr>\n      <th>2</th>\n      <td>{'Time': 1.333, 'Encode': 'Exch0', 'bid': [[1,...</td>\n    </tr>\n    <tr>\n      <th>3</th>\n      <td>{'Time': 1.581, 'Encode': 'Exch0', 'bid': [[1,...</td>\n    </tr>\n    <tr>\n      <th>4</th>\n      <td>{'Time': 1.643, 'Encode': 'Exch0', 'bid': [[1,...</td>\n    </tr>\n  </tbody>\n</table>\n</div>"
     },
     "execution_count": 9,
     "metadata": {},
     "output_type": "execute_result"
    }
   ],
   "source": [
    "New_data2 = New_data.tolist()\n",
    "df_test = pd.DataFrame(New_data2)\n",
    "df_test[:5]"
   ],
   "metadata": {
    "collapsed": false,
    "pycharm": {
     "name": "#%%\n"
    }
   }
  },
  {
   "cell_type": "code",
   "execution_count": 12,
   "outputs": [
    {
     "data": {
      "text/plain": "array([{'Time': 0.0, 'Encode': 'Exch0', 'bid': [], 'ask': []},\n       {'Time': 0.279, 'Encode': 'Exch0', 'bid': [[1, 6]], 'ask': []},\n       {'Time': 1.333, 'Encode': 'Exch0', 'bid': [[1, 6]], 'ask': [[800, 1]]},\n       {'Time': 1.581, 'Encode': 'Exch0', 'bid': [[1, 6]], 'ask': [[799, 1]]},\n       {'Time': 1.643, 'Encode': 'Exch0', 'bid': [[1, 6]], 'ask': [[798, 1]]}],\n      dtype=object)"
     },
     "execution_count": 12,
     "metadata": {},
     "output_type": "execute_result"
    }
   ],
   "source": [
    "data_test = New_data.flatten()\n",
    "data_test[:5]"
   ],
   "metadata": {
    "collapsed": false,
    "pycharm": {
     "name": "#%%\n"
    }
   }
  },
  {
   "cell_type": "code",
   "execution_count": 13,
   "outputs": [
    {
     "data": {
      "text/plain": "      Encode       bid         ask\nTime                              \n0.000  Exch0        []          []\n0.279  Exch0  [[1, 6]]          []\n1.333  Exch0  [[1, 6]]  [[800, 1]]\n1.581  Exch0  [[1, 6]]  [[799, 1]]\n1.643  Exch0  [[1, 6]]  [[798, 1]]",
      "text/html": "<div>\n<style scoped>\n    .dataframe tbody tr th:only-of-type {\n        vertical-align: middle;\n    }\n\n    .dataframe tbody tr th {\n        vertical-align: top;\n    }\n\n    .dataframe thead th {\n        text-align: right;\n    }\n</style>\n<table border=\"1\" class=\"dataframe\">\n  <thead>\n    <tr style=\"text-align: right;\">\n      <th></th>\n      <th>Encode</th>\n      <th>bid</th>\n      <th>ask</th>\n    </tr>\n    <tr>\n      <th>Time</th>\n      <th></th>\n      <th></th>\n      <th></th>\n    </tr>\n  </thead>\n  <tbody>\n    <tr>\n      <th>0.000</th>\n      <td>Exch0</td>\n      <td>[]</td>\n      <td>[]</td>\n    </tr>\n    <tr>\n      <th>0.279</th>\n      <td>Exch0</td>\n      <td>[[1, 6]]</td>\n      <td>[]</td>\n    </tr>\n    <tr>\n      <th>1.333</th>\n      <td>Exch0</td>\n      <td>[[1, 6]]</td>\n      <td>[[800, 1]]</td>\n    </tr>\n    <tr>\n      <th>1.581</th>\n      <td>Exch0</td>\n      <td>[[1, 6]]</td>\n      <td>[[799, 1]]</td>\n    </tr>\n    <tr>\n      <th>1.643</th>\n      <td>Exch0</td>\n      <td>[[1, 6]]</td>\n      <td>[[798, 1]]</td>\n    </tr>\n  </tbody>\n</table>\n</div>"
     },
     "execution_count": 13,
     "metadata": {},
     "output_type": "execute_result"
    }
   ],
   "source": [
    "data_test2 = data_test.tolist()  #Before converting a dict directly to a dataframe, it must be converted to a list\n",
    "data_test2\n",
    "df = pd.DataFrame(data_test2)\n",
    "df = df.set_index(\"Time\")\n",
    "df.head(5)"
   ],
   "metadata": {
    "collapsed": false,
    "pycharm": {
     "name": "#%%\n"
    }
   }
  },
  {
   "cell_type": "code",
   "execution_count": 14,
   "outputs": [],
   "source": [
    "df1 = df.copy()"
   ],
   "metadata": {
    "collapsed": false,
    "pycharm": {
     "name": "#%%\n"
    }
   }
  },
  {
   "cell_type": "code",
   "execution_count": 15,
   "outputs": [],
   "source": [
    "def LOBs_df(df):\n",
    "    best_bid_price = []\n",
    "    best_ask_price = []\n",
    "    bid_volume = []\n",
    "    ask_volume = []\n",
    "    bid_ask_spread = []\n",
    "    median_price = []\n",
    "\n",
    "    #important variable\n",
    "    #in some range of price, The cumulative number of bid and ask orders called book depth\n",
    "    book_Depth = []\n",
    "    #The difference in quantity between a bid order and a ask order at a given price level or in the entire order book. This can be used to gauge the bias of market participants' sentiment, which can affect short-term price movements.\n",
    "    order_Imbalance = []\n",
    "\n",
    "    for bid_line, ask_line in zip(df['bid'], df['ask']):  #iterrows function, calculate those things in each row\n",
    "        if len(bid_line) > 0:  #when bid_line >0,which means we have bid price\n",
    "            best_bid_price.append(bid_line[0][0])  #add first bid price\n",
    "            bid_volume.append(bid_line[0][1])  #add first bid volume\n",
    "        else:  # which means we do not have bid price(NaN)\n",
    "            best_bid_price.append(np.nan)\n",
    "            bid_volume.append(np.nan)\n",
    "\n",
    "        if len(ask_line) > 0:  #same as above\n",
    "            best_ask_price.append(ask_line[0][0])\n",
    "            ask_volume.append(ask_line[0][1])\n",
    "        else:  # which means we do not have ask price(NaN)\n",
    "            best_ask_price.append(np.nan)\n",
    "            ask_volume.append(np.nan)\n",
    "\n",
    "        if len(bid_line) > 0 and len(ask_line) > 0:  #we have all the bid and ask price\n",
    "            bid_ask_spread.append(ask_line[0][0] - bid_line[0][0])\n",
    "            median_price.append((ask_line[0][0] + bid_line[0][0]) / 2)\n",
    "        else:\n",
    "            bid_ask_spread.append(np.nan)\n",
    "            median_price.append(np.nan)\n",
    "\n",
    "        bid_depth = bid_line[0][1] if len(bid_line) > 0 else 0\n",
    "        ask_depth = ask_line[0][1] if len(ask_line) > 0 else 0\n",
    "        book_Depth.append(bid_depth + ask_depth)\n",
    "        order_Imbalance.append(bid_depth - ask_depth)\n",
    "\n",
    "\n",
    "    df.insert(1, \"bid_ask_spread\", bid_ask_spread)\n",
    "    df.insert(2, \"Mid_Price\", median_price)\n",
    "    df.insert(3, \"Best_bid_price\", best_bid_price)\n",
    "    df.insert(4, \"bid_volume\", bid_volume)\n",
    "    df.insert(5, \"Best_ask_price\", best_ask_price)\n",
    "    df.insert(6, \"ask_volume\", ask_volume)\n",
    "    df.insert(7, \"book_Depth\", book_Depth)\n",
    "    df.insert(8, \"order_Imbalance\", order_Imbalance)\n",
    "\n",
    "    return df"
   ],
   "metadata": {
    "collapsed": false,
    "pycharm": {
     "name": "#%%\n"
    }
   }
  },
  {
   "cell_type": "code",
   "execution_count": 18,
   "outputs": [
    {
     "ename": "ValueError",
     "evalue": "cannot insert bid_ask_spread, already exists",
     "output_type": "error",
     "traceback": [
      "\u001B[1;31m---------------------------------------------------------------------------\u001B[0m",
      "\u001B[1;31mValueError\u001B[0m                                Traceback (most recent call last)",
      "\u001B[1;32m~\\AppData\\Local\\Temp/ipykernel_9708/1813558973.py\u001B[0m in \u001B[0;36m<module>\u001B[1;34m\u001B[0m\n\u001B[1;32m----> 1\u001B[1;33m \u001B[0mdf2\u001B[0m\u001B[1;33m=\u001B[0m\u001B[0mLOBs_df\u001B[0m\u001B[1;33m(\u001B[0m\u001B[0mdf1\u001B[0m\u001B[1;33m)\u001B[0m\u001B[1;33m\u001B[0m\u001B[1;33m\u001B[0m\u001B[0m\n\u001B[0m\u001B[0;32m      2\u001B[0m \u001B[0mdf2\u001B[0m\u001B[1;33m=\u001B[0m\u001B[0mdf2\u001B[0m\u001B[1;33m.\u001B[0m\u001B[0mdrop\u001B[0m\u001B[1;33m(\u001B[0m\u001B[0mcolumns\u001B[0m\u001B[1;33m=\u001B[0m\u001B[1;33m[\u001B[0m\u001B[1;34m\"bid\"\u001B[0m\u001B[1;33m,\u001B[0m \u001B[1;34m\"ask\"\u001B[0m\u001B[1;33m]\u001B[0m\u001B[1;33m)\u001B[0m\u001B[1;33m\u001B[0m\u001B[1;33m\u001B[0m\u001B[0m\n\u001B[0;32m      3\u001B[0m \u001B[0mdf2\u001B[0m\u001B[1;33m.\u001B[0m\u001B[0mhead\u001B[0m\u001B[1;33m(\u001B[0m\u001B[1;36m5\u001B[0m\u001B[1;33m)\u001B[0m\u001B[1;33m\u001B[0m\u001B[1;33m\u001B[0m\u001B[0m\n",
      "\u001B[1;32m~\\AppData\\Local\\Temp/ipykernel_9708/2264964203.py\u001B[0m in \u001B[0;36mLOBs_df\u001B[1;34m(df)\u001B[0m\n\u001B[0;32m     41\u001B[0m \u001B[1;33m\u001B[0m\u001B[0m\n\u001B[0;32m     42\u001B[0m \u001B[1;33m\u001B[0m\u001B[0m\n\u001B[1;32m---> 43\u001B[1;33m     \u001B[0mdf\u001B[0m\u001B[1;33m.\u001B[0m\u001B[0minsert\u001B[0m\u001B[1;33m(\u001B[0m\u001B[1;36m1\u001B[0m\u001B[1;33m,\u001B[0m \u001B[1;34m\"bid_ask_spread\"\u001B[0m\u001B[1;33m,\u001B[0m \u001B[0mbid_ask_spread\u001B[0m\u001B[1;33m)\u001B[0m\u001B[1;33m\u001B[0m\u001B[1;33m\u001B[0m\u001B[0m\n\u001B[0m\u001B[0;32m     44\u001B[0m     \u001B[0mdf\u001B[0m\u001B[1;33m.\u001B[0m\u001B[0minsert\u001B[0m\u001B[1;33m(\u001B[0m\u001B[1;36m2\u001B[0m\u001B[1;33m,\u001B[0m \u001B[1;34m\"Mid_Price\"\u001B[0m\u001B[1;33m,\u001B[0m \u001B[0mmedian_price\u001B[0m\u001B[1;33m)\u001B[0m\u001B[1;33m\u001B[0m\u001B[1;33m\u001B[0m\u001B[0m\n\u001B[0;32m     45\u001B[0m     \u001B[0mdf\u001B[0m\u001B[1;33m.\u001B[0m\u001B[0minsert\u001B[0m\u001B[1;33m(\u001B[0m\u001B[1;36m3\u001B[0m\u001B[1;33m,\u001B[0m \u001B[1;34m\"Best_bid_price\"\u001B[0m\u001B[1;33m,\u001B[0m \u001B[0mbest_bid_price\u001B[0m\u001B[1;33m)\u001B[0m\u001B[1;33m\u001B[0m\u001B[1;33m\u001B[0m\u001B[0m\n",
      "\u001B[1;32mD:\\zzyAnaconda\\lib\\site-packages\\pandas\\core\\frame.py\u001B[0m in \u001B[0;36minsert\u001B[1;34m(self, loc, column, value, allow_duplicates)\u001B[0m\n\u001B[0;32m   4438\u001B[0m         \u001B[1;32mif\u001B[0m \u001B[1;32mnot\u001B[0m \u001B[0mallow_duplicates\u001B[0m \u001B[1;32mand\u001B[0m \u001B[0mcolumn\u001B[0m \u001B[1;32min\u001B[0m \u001B[0mself\u001B[0m\u001B[1;33m.\u001B[0m\u001B[0mcolumns\u001B[0m\u001B[1;33m:\u001B[0m\u001B[1;33m\u001B[0m\u001B[1;33m\u001B[0m\u001B[0m\n\u001B[0;32m   4439\u001B[0m             \u001B[1;31m# Should this be a different kind of error??\u001B[0m\u001B[1;33m\u001B[0m\u001B[1;33m\u001B[0m\u001B[0m\n\u001B[1;32m-> 4440\u001B[1;33m             \u001B[1;32mraise\u001B[0m \u001B[0mValueError\u001B[0m\u001B[1;33m(\u001B[0m\u001B[1;34mf\"cannot insert {column}, already exists\"\u001B[0m\u001B[1;33m)\u001B[0m\u001B[1;33m\u001B[0m\u001B[1;33m\u001B[0m\u001B[0m\n\u001B[0m\u001B[0;32m   4441\u001B[0m         \u001B[1;32mif\u001B[0m \u001B[1;32mnot\u001B[0m \u001B[0misinstance\u001B[0m\u001B[1;33m(\u001B[0m\u001B[0mloc\u001B[0m\u001B[1;33m,\u001B[0m \u001B[0mint\u001B[0m\u001B[1;33m)\u001B[0m\u001B[1;33m:\u001B[0m\u001B[1;33m\u001B[0m\u001B[1;33m\u001B[0m\u001B[0m\n\u001B[0;32m   4442\u001B[0m             \u001B[1;32mraise\u001B[0m \u001B[0mTypeError\u001B[0m\u001B[1;33m(\u001B[0m\u001B[1;34m\"loc must be int\"\u001B[0m\u001B[1;33m)\u001B[0m\u001B[1;33m\u001B[0m\u001B[1;33m\u001B[0m\u001B[0m\n",
      "\u001B[1;31mValueError\u001B[0m: cannot insert bid_ask_spread, already exists"
     ]
    }
   ],
   "source": [
    "df2=LOBs_df(df1)\n",
    "df2=df2.drop(columns=[\"bid\", \"ask\"])"
   ],
   "metadata": {
    "collapsed": false,
    "pycharm": {
     "name": "#%%\n"
    }
   }
  },
  {
   "cell_type": "code",
   "execution_count": 20,
   "outputs": [
    {
     "data": {
      "text/plain": "      Encode  bid_ask_spread  Mid_Price  Best_bid_price  bid_volume  \\\nTime                                                                  \n0.000  Exch0             NaN        NaN             NaN         NaN   \n0.279  Exch0             NaN        NaN             1.0         6.0   \n1.333  Exch0           799.0      400.5             1.0         6.0   \n1.581  Exch0           798.0      400.0             1.0         6.0   \n1.643  Exch0           797.0      399.5             1.0         6.0   \n1.736  Exch0           537.0      529.5           261.0         1.0   \n1.984  Exch0           536.0      529.0           261.0         1.0   \n2.015  Exch0            77.0      299.5           261.0         1.0   \n2.139  Exch0            36.0      279.0           261.0         1.0   \n2.697  Exch0            35.0      279.5           262.0         6.0   \n3.069  Exch0            34.0      279.0           262.0         6.0   \n3.131  Exch0            34.0      279.0           262.0         6.0   \n3.255  Exch0            34.0      279.0           262.0         6.0   \n3.286  Exch0            30.0      277.0           262.0         6.0   \n3.441  Exch0            29.0      277.5           263.0         6.0   \n3.782  Exch0            28.0      277.0           263.0         6.0   \n3.813  Exch0            27.0      277.5           264.0         6.0   \n3.906  Exch0            27.0      277.5           264.0         6.0   \n4.216  Exch0            24.0      276.0           264.0         6.0   \n4.340  Exch0            24.0      276.0           264.0         6.0   \n4.433  Exch0            23.0      275.5           264.0         6.0   \n4.650  Exch0            23.0      275.5           264.0         6.0   \n4.898  Exch0            23.0      275.5           264.0         6.0   \n4.929  Exch0            22.0      275.0           264.0         6.0   \n\n       Best_ask_price  ask_volume  book_Depth  order_Imbalance  \nTime                                                            \n0.000             NaN         NaN           0                0  \n0.279             NaN         NaN           6                6  \n1.333           800.0         1.0           7                5  \n1.581           799.0         1.0           7                5  \n1.643           798.0         1.0           7                5  \n1.736           798.0         1.0           2                0  \n1.984           797.0         1.0           2                0  \n2.015           338.0         3.0           4               -2  \n2.139           297.0         5.0           6               -4  \n2.697           297.0         5.0          11                1  \n3.069           296.0         1.0           7                5  \n3.131           296.0         1.0           7                5  \n3.255           296.0         1.0           7                5  \n3.286           292.0         5.0          11                1  \n3.441           292.0         5.0          11                1  \n3.782           291.0         1.0           7                5  \n3.813           291.0         1.0           7                5  \n3.906           291.0         1.0           7                5  \n4.216           288.0         5.0          11                1  \n4.340           288.0         5.0          11                1  \n4.433           287.0         1.0           7                5  \n4.650           287.0         4.0          10                2  \n4.898           287.0         4.0          10                2  \n4.929           286.0         1.0           7                5  ",
      "text/html": "<div>\n<style scoped>\n    .dataframe tbody tr th:only-of-type {\n        vertical-align: middle;\n    }\n\n    .dataframe tbody tr th {\n        vertical-align: top;\n    }\n\n    .dataframe thead th {\n        text-align: right;\n    }\n</style>\n<table border=\"1\" class=\"dataframe\">\n  <thead>\n    <tr style=\"text-align: right;\">\n      <th></th>\n      <th>Encode</th>\n      <th>bid_ask_spread</th>\n      <th>Mid_Price</th>\n      <th>Best_bid_price</th>\n      <th>bid_volume</th>\n      <th>Best_ask_price</th>\n      <th>ask_volume</th>\n      <th>book_Depth</th>\n      <th>order_Imbalance</th>\n    </tr>\n    <tr>\n      <th>Time</th>\n      <th></th>\n      <th></th>\n      <th></th>\n      <th></th>\n      <th></th>\n      <th></th>\n      <th></th>\n      <th></th>\n      <th></th>\n    </tr>\n  </thead>\n  <tbody>\n    <tr>\n      <th>0.000</th>\n      <td>Exch0</td>\n      <td>NaN</td>\n      <td>NaN</td>\n      <td>NaN</td>\n      <td>NaN</td>\n      <td>NaN</td>\n      <td>NaN</td>\n      <td>0</td>\n      <td>0</td>\n    </tr>\n    <tr>\n      <th>0.279</th>\n      <td>Exch0</td>\n      <td>NaN</td>\n      <td>NaN</td>\n      <td>1.0</td>\n      <td>6.0</td>\n      <td>NaN</td>\n      <td>NaN</td>\n      <td>6</td>\n      <td>6</td>\n    </tr>\n    <tr>\n      <th>1.333</th>\n      <td>Exch0</td>\n      <td>799.0</td>\n      <td>400.5</td>\n      <td>1.0</td>\n      <td>6.0</td>\n      <td>800.0</td>\n      <td>1.0</td>\n      <td>7</td>\n      <td>5</td>\n    </tr>\n    <tr>\n      <th>1.581</th>\n      <td>Exch0</td>\n      <td>798.0</td>\n      <td>400.0</td>\n      <td>1.0</td>\n      <td>6.0</td>\n      <td>799.0</td>\n      <td>1.0</td>\n      <td>7</td>\n      <td>5</td>\n    </tr>\n    <tr>\n      <th>1.643</th>\n      <td>Exch0</td>\n      <td>797.0</td>\n      <td>399.5</td>\n      <td>1.0</td>\n      <td>6.0</td>\n      <td>798.0</td>\n      <td>1.0</td>\n      <td>7</td>\n      <td>5</td>\n    </tr>\n    <tr>\n      <th>1.736</th>\n      <td>Exch0</td>\n      <td>537.0</td>\n      <td>529.5</td>\n      <td>261.0</td>\n      <td>1.0</td>\n      <td>798.0</td>\n      <td>1.0</td>\n      <td>2</td>\n      <td>0</td>\n    </tr>\n    <tr>\n      <th>1.984</th>\n      <td>Exch0</td>\n      <td>536.0</td>\n      <td>529.0</td>\n      <td>261.0</td>\n      <td>1.0</td>\n      <td>797.0</td>\n      <td>1.0</td>\n      <td>2</td>\n      <td>0</td>\n    </tr>\n    <tr>\n      <th>2.015</th>\n      <td>Exch0</td>\n      <td>77.0</td>\n      <td>299.5</td>\n      <td>261.0</td>\n      <td>1.0</td>\n      <td>338.0</td>\n      <td>3.0</td>\n      <td>4</td>\n      <td>-2</td>\n    </tr>\n    <tr>\n      <th>2.139</th>\n      <td>Exch0</td>\n      <td>36.0</td>\n      <td>279.0</td>\n      <td>261.0</td>\n      <td>1.0</td>\n      <td>297.0</td>\n      <td>5.0</td>\n      <td>6</td>\n      <td>-4</td>\n    </tr>\n    <tr>\n      <th>2.697</th>\n      <td>Exch0</td>\n      <td>35.0</td>\n      <td>279.5</td>\n      <td>262.0</td>\n      <td>6.0</td>\n      <td>297.0</td>\n      <td>5.0</td>\n      <td>11</td>\n      <td>1</td>\n    </tr>\n    <tr>\n      <th>3.069</th>\n      <td>Exch0</td>\n      <td>34.0</td>\n      <td>279.0</td>\n      <td>262.0</td>\n      <td>6.0</td>\n      <td>296.0</td>\n      <td>1.0</td>\n      <td>7</td>\n      <td>5</td>\n    </tr>\n    <tr>\n      <th>3.131</th>\n      <td>Exch0</td>\n      <td>34.0</td>\n      <td>279.0</td>\n      <td>262.0</td>\n      <td>6.0</td>\n      <td>296.0</td>\n      <td>1.0</td>\n      <td>7</td>\n      <td>5</td>\n    </tr>\n    <tr>\n      <th>3.255</th>\n      <td>Exch0</td>\n      <td>34.0</td>\n      <td>279.0</td>\n      <td>262.0</td>\n      <td>6.0</td>\n      <td>296.0</td>\n      <td>1.0</td>\n      <td>7</td>\n      <td>5</td>\n    </tr>\n    <tr>\n      <th>3.286</th>\n      <td>Exch0</td>\n      <td>30.0</td>\n      <td>277.0</td>\n      <td>262.0</td>\n      <td>6.0</td>\n      <td>292.0</td>\n      <td>5.0</td>\n      <td>11</td>\n      <td>1</td>\n    </tr>\n    <tr>\n      <th>3.441</th>\n      <td>Exch0</td>\n      <td>29.0</td>\n      <td>277.5</td>\n      <td>263.0</td>\n      <td>6.0</td>\n      <td>292.0</td>\n      <td>5.0</td>\n      <td>11</td>\n      <td>1</td>\n    </tr>\n    <tr>\n      <th>3.782</th>\n      <td>Exch0</td>\n      <td>28.0</td>\n      <td>277.0</td>\n      <td>263.0</td>\n      <td>6.0</td>\n      <td>291.0</td>\n      <td>1.0</td>\n      <td>7</td>\n      <td>5</td>\n    </tr>\n    <tr>\n      <th>3.813</th>\n      <td>Exch0</td>\n      <td>27.0</td>\n      <td>277.5</td>\n      <td>264.0</td>\n      <td>6.0</td>\n      <td>291.0</td>\n      <td>1.0</td>\n      <td>7</td>\n      <td>5</td>\n    </tr>\n    <tr>\n      <th>3.906</th>\n      <td>Exch0</td>\n      <td>27.0</td>\n      <td>277.5</td>\n      <td>264.0</td>\n      <td>6.0</td>\n      <td>291.0</td>\n      <td>1.0</td>\n      <td>7</td>\n      <td>5</td>\n    </tr>\n    <tr>\n      <th>4.216</th>\n      <td>Exch0</td>\n      <td>24.0</td>\n      <td>276.0</td>\n      <td>264.0</td>\n      <td>6.0</td>\n      <td>288.0</td>\n      <td>5.0</td>\n      <td>11</td>\n      <td>1</td>\n    </tr>\n    <tr>\n      <th>4.340</th>\n      <td>Exch0</td>\n      <td>24.0</td>\n      <td>276.0</td>\n      <td>264.0</td>\n      <td>6.0</td>\n      <td>288.0</td>\n      <td>5.0</td>\n      <td>11</td>\n      <td>1</td>\n    </tr>\n    <tr>\n      <th>4.433</th>\n      <td>Exch0</td>\n      <td>23.0</td>\n      <td>275.5</td>\n      <td>264.0</td>\n      <td>6.0</td>\n      <td>287.0</td>\n      <td>1.0</td>\n      <td>7</td>\n      <td>5</td>\n    </tr>\n    <tr>\n      <th>4.650</th>\n      <td>Exch0</td>\n      <td>23.0</td>\n      <td>275.5</td>\n      <td>264.0</td>\n      <td>6.0</td>\n      <td>287.0</td>\n      <td>4.0</td>\n      <td>10</td>\n      <td>2</td>\n    </tr>\n    <tr>\n      <th>4.898</th>\n      <td>Exch0</td>\n      <td>23.0</td>\n      <td>275.5</td>\n      <td>264.0</td>\n      <td>6.0</td>\n      <td>287.0</td>\n      <td>4.0</td>\n      <td>10</td>\n      <td>2</td>\n    </tr>\n    <tr>\n      <th>4.929</th>\n      <td>Exch0</td>\n      <td>22.0</td>\n      <td>275.0</td>\n      <td>264.0</td>\n      <td>6.0</td>\n      <td>286.0</td>\n      <td>1.0</td>\n      <td>7</td>\n      <td>5</td>\n    </tr>\n  </tbody>\n</table>\n</div>"
     },
     "execution_count": 20,
     "metadata": {},
     "output_type": "execute_result"
    }
   ],
   "source": [
    "df2[:5]"
   ],
   "metadata": {
    "collapsed": false,
    "pycharm": {
     "name": "#%%\n"
    }
   }
  },
  {
   "cell_type": "code",
   "execution_count": 22,
   "outputs": [],
   "source": [
    "df2.to_csv(\"E:/mini project bristol/processed data(LOBS,tapes)/processed_LOBs.csv\")"
   ],
   "metadata": {
    "collapsed": false,
    "pycharm": {
     "name": "#%%\n"
    }
   }
  },
  {
   "cell_type": "code",
   "execution_count": null,
   "outputs": [],
   "source": [],
   "metadata": {
    "collapsed": false,
    "pycharm": {
     "name": "#%%\n"
    }
   }
  }
 ],
 "metadata": {
  "kernelspec": {
   "display_name": "Python 3",
   "language": "python",
   "name": "python3"
  },
  "language_info": {
   "codemirror_mode": {
    "name": "ipython",
    "version": 2
   },
   "file_extension": ".py",
   "mimetype": "text/x-python",
   "name": "python",
   "nbconvert_exporter": "python",
   "pygments_lexer": "ipython2",
   "version": "2.7.6"
  }
 },
 "nbformat": 4,
 "nbformat_minor": 0
}