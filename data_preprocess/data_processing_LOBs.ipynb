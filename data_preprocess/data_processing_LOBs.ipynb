{
 "cells": [
  {
   "cell_type": "code",
   "execution_count": 1,
   "metadata": {
    "collapsed": true,
    "pycharm": {
     "name": "#%%\n"
    }
   },
   "outputs": [],
   "source": [
    "import pandas as pd\n",
    "import numpy as np"
   ]
  },
  {
   "cell_type": "code",
   "execution_count": 1,
   "outputs": [
    {
     "data": {
      "text/plain": "[[1.643, 'Exch0', [['bid', [[1, 6]]], ['ask', [[798, 1]]]]],\n [1.736, 'Exch0', [['bid', [[261, 1], [1, 6]]], ['ask', [[798, 1]]]]],\n [1.984, 'Exch0', [['bid', [[261, 1], [1, 6]]], ['ask', [[797, 1]]]]],\n [2.015,\n  'Exch0',\n  [['bid', [[261, 1], [1, 6]]], ['ask', [[338, 3], [797, 1]]]]],\n [2.139,\n  'Exch0',\n  [['bid', [[261, 1], [1, 6]]], ['ask', [[297, 5], [338, 3], [797, 1]]]]],\n [2.697,\n  'Exch0',\n  [['bid', [[262, 6], [261, 1]]], ['ask', [[297, 5], [338, 3], [797, 1]]]]],\n [3.069,\n  'Exch0',\n  [['bid', [[262, 6], [261, 1]]],\n   ['ask', [[296, 1], [297, 5], [338, 3], [797, 1]]]]],\n [3.131,\n  'Exch0',\n  [['bid', [[262, 6], [261, 1]]],\n   ['ask', [[296, 1], [297, 5], [309, 3], [797, 1]]]]],\n [3.255,\n  'Exch0',\n  [['bid', [[262, 6], [261, 1]]],\n   ['ask', [[296, 1], [297, 5], [309, 3], [334, 4], [797, 1]]]]]]"
     },
     "execution_count": 1,
     "metadata": {},
     "output_type": "execute_result"
    }
   ],
   "source": [
    "substring=\"Exch0\"\n",
    "# read the single file\n",
    "LOB=[]\n",
    "file=\"C:/Users/14620/Desktop/test.txt\"\n",
    "\n",
    "with open(file,'r') as f:\n",
    "    for line in f:\n",
    "        new_line=line.replace(substring, f'\"{substring}\"')#首先因为Exch0是字符串，所以先将字符串包在了引号内，以防eval（）误以为Exch0是变量名\n",
    "        LOB.append(eval(new_line.strip('\\n')))\n",
    "LOB"
   ],
   "metadata": {
    "collapsed": false,
    "pycharm": {
     "name": "#%%\n"
    }
   }
  },
  {
   "cell_type": "code",
   "execution_count": 54,
   "outputs": [
    {
     "data": {
      "text/plain": "array([[1.643, 'Exch0', list([['bid', [[1, 6]]], ['ask', [[798, 1]]]])],\n       [1.736, 'Exch0',\n        list([['bid', [[261, 1], [1, 6]]], ['ask', [[798, 1]]]])],\n       [1.984, 'Exch0',\n        list([['bid', [[261, 1], [1, 6]]], ['ask', [[797, 1]]]])],\n       [2.015, 'Exch0',\n        list([['bid', [[261, 1], [1, 6]]], ['ask', [[338, 3], [797, 1]]]])],\n       [2.139, 'Exch0',\n        list([['bid', [[261, 1], [1, 6]]], ['ask', [[297, 5], [338, 3], [797, 1]]]])],\n       [2.697, 'Exch0',\n        list([['bid', [[262, 6], [261, 1]]], ['ask', [[297, 5], [338, 3], [797, 1]]]])],\n       [3.069, 'Exch0',\n        list([['bid', [[262, 6], [261, 1]]], ['ask', [[296, 1], [297, 5], [338, 3], [797, 1]]]])],\n       [3.131, 'Exch0',\n        list([['bid', [[262, 6], [261, 1]]], ['ask', [[296, 1], [297, 5], [309, 3], [797, 1]]]])],\n       [3.255, 'Exch0',\n        list([['bid', [[262, 6], [261, 1]]], ['ask', [[296, 1], [297, 5], [309, 3], [334, 4], [797, 1]]]])]],\n      dtype=object)"
     },
     "execution_count": 54,
     "metadata": {},
     "output_type": "execute_result"
    }
   ],
   "source": [
    "def Convert(a):\n",
    "    it=iter(a)\n",
    "    res_dct=dict(zip(it,it))\n",
    "    return res_dct\n",
    "#方法：用迭代器将他们转成字典形式\n",
    "\n",
    "New_data=[]\n",
    "test_lines=np.asarray(LOB,dtype=object)#用asarray方法将LOB转化为多维数组\n",
    "test_lines"
   ],
   "metadata": {
    "collapsed": false,
    "pycharm": {
     "name": "#%%\n"
    }
   }
  },
  {
   "cell_type": "code",
   "execution_count": 55,
   "outputs": [
    {
     "data": {
      "text/plain": "array([[{'Time': 1.643, 'Encode': 'Exch0', 'bid': [[1, 6]], 'ask': [[798, 1]]}],\n       [{'Time': 1.736, 'Encode': 'Exch0', 'bid': [[261, 1], [1, 6]], 'ask': [[798, 1]]}],\n       [{'Time': 1.984, 'Encode': 'Exch0', 'bid': [[261, 1], [1, 6]], 'ask': [[797, 1]]}],\n       [{'Time': 2.015, 'Encode': 'Exch0', 'bid': [[261, 1], [1, 6]], 'ask': [[338, 3], [797, 1]]}],\n       [{'Time': 2.139, 'Encode': 'Exch0', 'bid': [[261, 1], [1, 6]], 'ask': [[297, 5], [338, 3], [797, 1]]}],\n       [{'Time': 2.697, 'Encode': 'Exch0', 'bid': [[262, 6], [261, 1]], 'ask': [[297, 5], [338, 3], [797, 1]]}],\n       [{'Time': 3.069, 'Encode': 'Exch0', 'bid': [[262, 6], [261, 1]], 'ask': [[296, 1], [297, 5], [338, 3], [797, 1]]}],\n       [{'Time': 3.131, 'Encode': 'Exch0', 'bid': [[262, 6], [261, 1]], 'ask': [[296, 1], [297, 5], [309, 3], [797, 1]]}],\n       [{'Time': 3.255, 'Encode': 'Exch0', 'bid': [[262, 6], [261, 1]], 'ask': [[296, 1], [297, 5], [309, 3], [334, 4], [797, 1]]}]],\n      dtype=object)"
     },
     "execution_count": 55,
     "metadata": {},
     "output_type": "execute_result"
    }
   ],
   "source": [
    "for i in test_lines:\n",
    "    every_line=[[\"Time\",i[0]],[\"Encode\",i[1]],i[2][0],i[2][1]]\n",
    "    #创建新列，将testlines数组内的数据放进新的格式内，方便下面计算\n",
    "    New_data.append(every_line)\n",
    "New_data\n",
    "\n",
    "for i in New_data:#将数据放进convert方法中，全部转化成字典格式\n",
    "    i[0]=Convert(i[0])\n",
    "    i[1]=Convert(i[1])\n",
    "    i[2]=Convert(i[2])\n",
    "    i[3]=Convert(i[3])\n",
    "    i[0]=i[0]|i[1]|i[2]|i[3]#将所有列汇总到第一列\n",
    "New_data=np.delete(New_data,[1,2,3],1)#删除多余的列\n",
    "New_data"
   ],
   "metadata": {
    "collapsed": false,
    "pycharm": {
     "name": "#%%\n"
    }
   }
  },
  {
   "cell_type": "code",
   "execution_count": 84,
   "outputs": [
    {
     "data": {
      "text/plain": "                                                   0\n0  {'Time': 1.643, 'Encode': 'Exch0', 'bid': [[1,...\n1  {'Time': 1.736, 'Encode': 'Exch0', 'bid': [[26...\n2  {'Time': 1.984, 'Encode': 'Exch0', 'bid': [[26...\n3  {'Time': 2.015, 'Encode': 'Exch0', 'bid': [[26...\n4  {'Time': 2.139, 'Encode': 'Exch0', 'bid': [[26...\n5  {'Time': 2.697, 'Encode': 'Exch0', 'bid': [[26...\n6  {'Time': 3.069, 'Encode': 'Exch0', 'bid': [[26...\n7  {'Time': 3.131, 'Encode': 'Exch0', 'bid': [[26...\n8  {'Time': 3.255, 'Encode': 'Exch0', 'bid': [[26...",
      "text/html": "<div>\n<style scoped>\n    .dataframe tbody tr th:only-of-type {\n        vertical-align: middle;\n    }\n\n    .dataframe tbody tr th {\n        vertical-align: top;\n    }\n\n    .dataframe thead th {\n        text-align: right;\n    }\n</style>\n<table border=\"1\" class=\"dataframe\">\n  <thead>\n    <tr style=\"text-align: right;\">\n      <th></th>\n      <th>0</th>\n    </tr>\n  </thead>\n  <tbody>\n    <tr>\n      <th>0</th>\n      <td>{'Time': 1.643, 'Encode': 'Exch0', 'bid': [[1,...</td>\n    </tr>\n    <tr>\n      <th>1</th>\n      <td>{'Time': 1.736, 'Encode': 'Exch0', 'bid': [[26...</td>\n    </tr>\n    <tr>\n      <th>2</th>\n      <td>{'Time': 1.984, 'Encode': 'Exch0', 'bid': [[26...</td>\n    </tr>\n    <tr>\n      <th>3</th>\n      <td>{'Time': 2.015, 'Encode': 'Exch0', 'bid': [[26...</td>\n    </tr>\n    <tr>\n      <th>4</th>\n      <td>{'Time': 2.139, 'Encode': 'Exch0', 'bid': [[26...</td>\n    </tr>\n    <tr>\n      <th>5</th>\n      <td>{'Time': 2.697, 'Encode': 'Exch0', 'bid': [[26...</td>\n    </tr>\n    <tr>\n      <th>6</th>\n      <td>{'Time': 3.069, 'Encode': 'Exch0', 'bid': [[26...</td>\n    </tr>\n    <tr>\n      <th>7</th>\n      <td>{'Time': 3.131, 'Encode': 'Exch0', 'bid': [[26...</td>\n    </tr>\n    <tr>\n      <th>8</th>\n      <td>{'Time': 3.255, 'Encode': 'Exch0', 'bid': [[26...</td>\n    </tr>\n  </tbody>\n</table>\n</div>"
     },
     "execution_count": 84,
     "metadata": {},
     "output_type": "execute_result"
    }
   ],
   "source": [
    "New_data2=New_data.tolist()\n",
    "df_test=pd.DataFrame(New_data2)\n",
    "df_test"
   ],
   "metadata": {
    "collapsed": false,
    "pycharm": {
     "name": "#%%\n"
    }
   }
  },
  {
   "cell_type": "code",
   "execution_count": 85,
   "outputs": [
    {
     "data": {
      "text/plain": "array([{'Time': 1.643, 'Encode': 'Exch0', 'bid': [[1, 6]], 'ask': [[798, 1]]},\n       {'Time': 1.736, 'Encode': 'Exch0', 'bid': [[261, 1], [1, 6]], 'ask': [[798, 1]]},\n       {'Time': 1.984, 'Encode': 'Exch0', 'bid': [[261, 1], [1, 6]], 'ask': [[797, 1]]},\n       {'Time': 2.015, 'Encode': 'Exch0', 'bid': [[261, 1], [1, 6]], 'ask': [[338, 3], [797, 1]]},\n       {'Time': 2.139, 'Encode': 'Exch0', 'bid': [[261, 1], [1, 6]], 'ask': [[297, 5], [338, 3], [797, 1]]},\n       {'Time': 2.697, 'Encode': 'Exch0', 'bid': [[262, 6], [261, 1]], 'ask': [[297, 5], [338, 3], [797, 1]]},\n       {'Time': 3.069, 'Encode': 'Exch0', 'bid': [[262, 6], [261, 1]], 'ask': [[296, 1], [297, 5], [338, 3], [797, 1]]},\n       {'Time': 3.131, 'Encode': 'Exch0', 'bid': [[262, 6], [261, 1]], 'ask': [[296, 1], [297, 5], [309, 3], [797, 1]]},\n       {'Time': 3.255, 'Encode': 'Exch0', 'bid': [[262, 6], [261, 1]], 'ask': [[296, 1], [297, 5], [309, 3], [334, 4], [797, 1]]}],\n      dtype=object)"
     },
     "execution_count": 85,
     "metadata": {},
     "output_type": "execute_result"
    }
   ],
   "source": [
    "data_test=New_data.flatten()\n",
    "data_test"
   ],
   "metadata": {
    "collapsed": false,
    "pycharm": {
     "name": "#%%\n"
    }
   }
  },
  {
   "cell_type": "code",
   "execution_count": 111,
   "outputs": [
    {
     "data": {
      "text/plain": "      Encode                   bid  \\\nTime                                 \n1.643  Exch0              [[1, 6]]   \n1.736  Exch0    [[261, 1], [1, 6]]   \n1.984  Exch0    [[261, 1], [1, 6]]   \n2.015  Exch0    [[261, 1], [1, 6]]   \n2.139  Exch0    [[261, 1], [1, 6]]   \n2.697  Exch0  [[262, 6], [261, 1]]   \n3.069  Exch0  [[262, 6], [261, 1]]   \n3.131  Exch0  [[262, 6], [261, 1]]   \n3.255  Exch0  [[262, 6], [261, 1]]   \n\n                                                     ask  \nTime                                                      \n1.643                                         [[798, 1]]  \n1.736                                         [[798, 1]]  \n1.984                                         [[797, 1]]  \n2.015                               [[338, 3], [797, 1]]  \n2.139                     [[297, 5], [338, 3], [797, 1]]  \n2.697                     [[297, 5], [338, 3], [797, 1]]  \n3.069           [[296, 1], [297, 5], [338, 3], [797, 1]]  \n3.131           [[296, 1], [297, 5], [309, 3], [797, 1]]  \n3.255  [[296, 1], [297, 5], [309, 3], [334, 4], [797,...  ",
      "text/html": "<div>\n<style scoped>\n    .dataframe tbody tr th:only-of-type {\n        vertical-align: middle;\n    }\n\n    .dataframe tbody tr th {\n        vertical-align: top;\n    }\n\n    .dataframe thead th {\n        text-align: right;\n    }\n</style>\n<table border=\"1\" class=\"dataframe\">\n  <thead>\n    <tr style=\"text-align: right;\">\n      <th></th>\n      <th>Encode</th>\n      <th>bid</th>\n      <th>ask</th>\n    </tr>\n    <tr>\n      <th>Time</th>\n      <th></th>\n      <th></th>\n      <th></th>\n    </tr>\n  </thead>\n  <tbody>\n    <tr>\n      <th>1.643</th>\n      <td>Exch0</td>\n      <td>[[1, 6]]</td>\n      <td>[[798, 1]]</td>\n    </tr>\n    <tr>\n      <th>1.736</th>\n      <td>Exch0</td>\n      <td>[[261, 1], [1, 6]]</td>\n      <td>[[798, 1]]</td>\n    </tr>\n    <tr>\n      <th>1.984</th>\n      <td>Exch0</td>\n      <td>[[261, 1], [1, 6]]</td>\n      <td>[[797, 1]]</td>\n    </tr>\n    <tr>\n      <th>2.015</th>\n      <td>Exch0</td>\n      <td>[[261, 1], [1, 6]]</td>\n      <td>[[338, 3], [797, 1]]</td>\n    </tr>\n    <tr>\n      <th>2.139</th>\n      <td>Exch0</td>\n      <td>[[261, 1], [1, 6]]</td>\n      <td>[[297, 5], [338, 3], [797, 1]]</td>\n    </tr>\n    <tr>\n      <th>2.697</th>\n      <td>Exch0</td>\n      <td>[[262, 6], [261, 1]]</td>\n      <td>[[297, 5], [338, 3], [797, 1]]</td>\n    </tr>\n    <tr>\n      <th>3.069</th>\n      <td>Exch0</td>\n      <td>[[262, 6], [261, 1]]</td>\n      <td>[[296, 1], [297, 5], [338, 3], [797, 1]]</td>\n    </tr>\n    <tr>\n      <th>3.131</th>\n      <td>Exch0</td>\n      <td>[[262, 6], [261, 1]]</td>\n      <td>[[296, 1], [297, 5], [309, 3], [797, 1]]</td>\n    </tr>\n    <tr>\n      <th>3.255</th>\n      <td>Exch0</td>\n      <td>[[262, 6], [261, 1]]</td>\n      <td>[[296, 1], [297, 5], [309, 3], [334, 4], [797,...</td>\n    </tr>\n  </tbody>\n</table>\n</div>"
     },
     "execution_count": 111,
     "metadata": {},
     "output_type": "execute_result"
    }
   ],
   "source": [
    "data_test2=data_test.tolist()#在使用dict直接转换成dataframe前，需要转化成list\n",
    "data_test2\n",
    "df=pd.DataFrame(data_test2)\n",
    "df\n",
    "df=df.set_index(\"Time\")\n",
    "df\n",
    "#数据处理完毕，成功转化为dataframe"
   ],
   "metadata": {
    "collapsed": false,
    "pycharm": {
     "name": "#%%\n"
    }
   }
  },
  {
   "cell_type": "code",
   "execution_count": 161,
   "outputs": [
    {
     "name": "stdout",
     "output_type": "stream",
     "text": [
      "[1]\n",
      "[1, 261]\n",
      "[1, 261, 261]\n",
      "[1, 261, 261, 261]\n",
      "[1, 261, 261, 261, 261]\n",
      "[1, 261, 261, 261, 261, 262]\n",
      "[1, 261, 261, 261, 261, 262, 262]\n",
      "[1, 261, 261, 261, 261, 262, 262, 262]\n",
      "[1, 261, 261, 261, 261, 262, 262, 262, 262]\n"
     ]
    }
   ],
   "source": [
    "#定义并计算数据里的重点特征 例如best_bid_price和best_ask_price\n",
    "best_bid_price=[]\n",
    "best_ask_price=[]\n",
    "bid_volume=[]\n",
    "ask_volume=[]\n",
    "#计算混合重要数据，例如买卖价差，买卖价格平均数\n",
    "bid_ask_spread=[]#买卖价差\n",
    "median_price=[]#买卖价格平均数\n",
    "# best_bid和best_ask都是数据框最左边的\n",
    "for index,row in df.iterrows():#iterrows方法：按行进行迭代，每行单独进行计算，index是索引，row是列\n",
    "    bid_line=np.array(row.bid)\n",
    "    ask_line=np.array(row.ask)\n",
    "    best_bid_price.append(bid_line[0][0])\n",
    "    best_ask_price.append(ask_line[0][0])\n",
    "    bid_volume.append(bid_line[0][1])\n",
    "    ask_volume.append(bid_line[0][1])\n",
    "    bid_ask_spread.append(ask_line[0][0]-bid_line[0][0])\n",
    "    median_price.append((ask_line[0][0]+bid_line[0][0])/2)\n",
    "    print(best_bid_price)"
   ],
   "metadata": {
    "collapsed": false,
    "pycharm": {
     "name": "#%%\n"
    }
   }
  },
  {
   "cell_type": "code",
   "execution_count": 150,
   "outputs": [
    {
     "data": {
      "text/plain": "      Encode  best_bid_price  best_ask_price  best_bid_volume  \\\nTime                                                            \n1.643  Exch0               1             798                6   \n1.736  Exch0             261             798                1   \n1.984  Exch0             261             797                1   \n2.015  Exch0             261             338                1   \n2.139  Exch0             261             297                1   \n2.697  Exch0             262             297                6   \n3.069  Exch0             262             296                6   \n3.131  Exch0             262             296                6   \n3.255  Exch0             262             296                6   \n\n       best_ask_volume  bid_ask_spread  median_price                   bid  \\\nTime                                                                         \n1.643                6             797         399.5              [[1, 6]]   \n1.736                1             537         529.5    [[261, 1], [1, 6]]   \n1.984                1             536         529.0    [[261, 1], [1, 6]]   \n2.015                1              77         299.5    [[261, 1], [1, 6]]   \n2.139                1              36         279.0    [[261, 1], [1, 6]]   \n2.697                6              35         279.5  [[262, 6], [261, 1]]   \n3.069                6              34         279.0  [[262, 6], [261, 1]]   \n3.131                6              34         279.0  [[262, 6], [261, 1]]   \n3.255                6              34         279.0  [[262, 6], [261, 1]]   \n\n                                                     ask  \nTime                                                      \n1.643                                         [[798, 1]]  \n1.736                                         [[798, 1]]  \n1.984                                         [[797, 1]]  \n2.015                               [[338, 3], [797, 1]]  \n2.139                     [[297, 5], [338, 3], [797, 1]]  \n2.697                     [[297, 5], [338, 3], [797, 1]]  \n3.069           [[296, 1], [297, 5], [338, 3], [797, 1]]  \n3.131           [[296, 1], [297, 5], [309, 3], [797, 1]]  \n3.255  [[296, 1], [297, 5], [309, 3], [334, 4], [797,...  ",
      "text/html": "<div>\n<style scoped>\n    .dataframe tbody tr th:only-of-type {\n        vertical-align: middle;\n    }\n\n    .dataframe tbody tr th {\n        vertical-align: top;\n    }\n\n    .dataframe thead th {\n        text-align: right;\n    }\n</style>\n<table border=\"1\" class=\"dataframe\">\n  <thead>\n    <tr style=\"text-align: right;\">\n      <th></th>\n      <th>Encode</th>\n      <th>best_bid_price</th>\n      <th>best_ask_price</th>\n      <th>best_bid_volume</th>\n      <th>best_ask_volume</th>\n      <th>bid_ask_spread</th>\n      <th>median_price</th>\n      <th>bid</th>\n      <th>ask</th>\n    </tr>\n    <tr>\n      <th>Time</th>\n      <th></th>\n      <th></th>\n      <th></th>\n      <th></th>\n      <th></th>\n      <th></th>\n      <th></th>\n      <th></th>\n      <th></th>\n    </tr>\n  </thead>\n  <tbody>\n    <tr>\n      <th>1.643</th>\n      <td>Exch0</td>\n      <td>1</td>\n      <td>798</td>\n      <td>6</td>\n      <td>6</td>\n      <td>797</td>\n      <td>399.5</td>\n      <td>[[1, 6]]</td>\n      <td>[[798, 1]]</td>\n    </tr>\n    <tr>\n      <th>1.736</th>\n      <td>Exch0</td>\n      <td>261</td>\n      <td>798</td>\n      <td>1</td>\n      <td>1</td>\n      <td>537</td>\n      <td>529.5</td>\n      <td>[[261, 1], [1, 6]]</td>\n      <td>[[798, 1]]</td>\n    </tr>\n    <tr>\n      <th>1.984</th>\n      <td>Exch0</td>\n      <td>261</td>\n      <td>797</td>\n      <td>1</td>\n      <td>1</td>\n      <td>536</td>\n      <td>529.0</td>\n      <td>[[261, 1], [1, 6]]</td>\n      <td>[[797, 1]]</td>\n    </tr>\n    <tr>\n      <th>2.015</th>\n      <td>Exch0</td>\n      <td>261</td>\n      <td>338</td>\n      <td>1</td>\n      <td>1</td>\n      <td>77</td>\n      <td>299.5</td>\n      <td>[[261, 1], [1, 6]]</td>\n      <td>[[338, 3], [797, 1]]</td>\n    </tr>\n    <tr>\n      <th>2.139</th>\n      <td>Exch0</td>\n      <td>261</td>\n      <td>297</td>\n      <td>1</td>\n      <td>1</td>\n      <td>36</td>\n      <td>279.0</td>\n      <td>[[261, 1], [1, 6]]</td>\n      <td>[[297, 5], [338, 3], [797, 1]]</td>\n    </tr>\n    <tr>\n      <th>2.697</th>\n      <td>Exch0</td>\n      <td>262</td>\n      <td>297</td>\n      <td>6</td>\n      <td>6</td>\n      <td>35</td>\n      <td>279.5</td>\n      <td>[[262, 6], [261, 1]]</td>\n      <td>[[297, 5], [338, 3], [797, 1]]</td>\n    </tr>\n    <tr>\n      <th>3.069</th>\n      <td>Exch0</td>\n      <td>262</td>\n      <td>296</td>\n      <td>6</td>\n      <td>6</td>\n      <td>34</td>\n      <td>279.0</td>\n      <td>[[262, 6], [261, 1]]</td>\n      <td>[[296, 1], [297, 5], [338, 3], [797, 1]]</td>\n    </tr>\n    <tr>\n      <th>3.131</th>\n      <td>Exch0</td>\n      <td>262</td>\n      <td>296</td>\n      <td>6</td>\n      <td>6</td>\n      <td>34</td>\n      <td>279.0</td>\n      <td>[[262, 6], [261, 1]]</td>\n      <td>[[296, 1], [297, 5], [309, 3], [797, 1]]</td>\n    </tr>\n    <tr>\n      <th>3.255</th>\n      <td>Exch0</td>\n      <td>262</td>\n      <td>296</td>\n      <td>6</td>\n      <td>6</td>\n      <td>34</td>\n      <td>279.0</td>\n      <td>[[262, 6], [261, 1]]</td>\n      <td>[[296, 1], [297, 5], [309, 3], [334, 4], [797,...</td>\n    </tr>\n  </tbody>\n</table>\n</div>"
     },
     "execution_count": 150,
     "metadata": {},
     "output_type": "execute_result"
    }
   ],
   "source": [
    "df.insert(1,\"best_bid_price\",best_bid_price)\n",
    "df.insert(2,\"best_ask_price\",best_ask_price)\n",
    "df.insert(3,\"bid_volume\",bid_volume)\n",
    "df.insert(4,\"ask_volume\",ask_volume)\n",
    "df.insert(5,\"bid_ask_spread\",bid_ask_spread)\n",
    "df.insert(6,\"median_price\",median_price)\n",
    "df"
   ],
   "metadata": {
    "collapsed": false,
    "pycharm": {
     "name": "#%%\n"
    }
   }
  },
  {
   "cell_type": "code",
   "execution_count": 154,
   "outputs": [
    {
     "name": "stdout",
     "output_type": "stream",
     "text": [
      "5\n"
     ]
    }
   ],
   "source": [
    "#最长的出价个数，无论bid or ask\n",
    "max_level=0\n",
    "for index, row in df.iterrows():\n",
    "    level=max(len(row.bid),len(row.ask))\n",
    "    if level>=max_level:\n",
    "        max_level=level\n",
    "\n",
    "print(max_level)"
   ],
   "metadata": {
    "collapsed": false,
    "pycharm": {
     "name": "#%%\n"
    }
   }
  },
  {
   "cell_type": "code",
   "execution_count": null,
   "outputs": [],
   "source": [],
   "metadata": {
    "collapsed": false,
    "pycharm": {
     "name": "#%%\n"
    }
   }
  }
 ],
 "metadata": {
  "kernelspec": {
   "display_name": "Python 3",
   "language": "python",
   "name": "python3"
  },
  "language_info": {
   "codemirror_mode": {
    "name": "ipython",
    "version": 2
   },
   "file_extension": ".py",
   "mimetype": "text/x-python",
   "name": "python",
   "nbconvert_exporter": "python",
   "pygments_lexer": "ipython2",
   "version": "2.7.6"
  }
 },
 "nbformat": 4,
 "nbformat_minor": 0
}