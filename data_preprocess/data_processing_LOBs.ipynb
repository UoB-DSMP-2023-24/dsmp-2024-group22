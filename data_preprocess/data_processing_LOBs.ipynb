{
 "cells": [
  {
   "cell_type": "code",
   "execution_count": 77,
   "metadata": {
    "collapsed": true,
    "pycharm": {
     "name": "#%%\n"
    }
   },
   "outputs": [],
   "source": [
    "import pandas as pd\n",
    "import numpy as np"
   ]
  },
  {
   "cell_type": "code",
   "execution_count": 1,
   "outputs": [
    {
     "data": {
      "text/plain": "[[0.0, 'Exch0', [['bid', []], ['ask', []]]],\n [0.279, 'Exch0', [['bid', [[1, 6]]], ['ask', []]]],\n [1.333, 'Exch0', [['bid', [[1, 6]]], ['ask', [[800, 1]]]]],\n [1.581, 'Exch0', [['bid', [[1, 6]]], ['ask', [[799, 1]]]]],\n [1.643, 'Exch0', [['bid', [[1, 6]]], ['ask', [[798, 1]]]]]]"
     },
     "execution_count": 1,
     "metadata": {},
     "output_type": "execute_result"
    }
   ],
   "source": [
    "substring = \"Exch0\"\n",
    "# read the single file\n",
    "LOB = []\n",
    "file = \"C:/Users/14620/Desktop/test.txt\"\n",
    "file1 = \"E:/mini project bristol/JPMorgan_Set01/JPMorgan_Set01/LOBs/UoB_Set01_2025-01-02LOBs.txt\"\n",
    "\n",
    "with open(file1, 'r') as f:\n",
    "    for line in f:\n",
    "        new_line = line.replace(substring, f'\"{substring}\"')  #First, because Exch0 is a string, the string is first wrapped in quotes to prevent eval () from mistaking Exch0 for a variable name\n",
    "        LOB.append(eval(new_line.strip('\\n')))\n",
    "LOB[:5]"
   ],
   "metadata": {
    "collapsed": false,
    "pycharm": {
     "name": "#%%\n"
    }
   }
  },
  {
   "cell_type": "code",
   "execution_count": 252,
   "outputs": [
    {
     "data": {
      "text/plain": "array([[0.0, 'Exch0', list([['bid', []], ['ask', []]])],\n       [0.279, 'Exch0', list([['bid', [[1, 6]]], ['ask', []]])],\n       [1.333, 'Exch0', list([['bid', [[1, 6]]], ['ask', [[800, 1]]]])],\n       ...,\n       [30599.635, 'Exch0',\n        list([['bid', [[290, 1], [288, 2], [281, 4], [278, 1], [270, 4], [269, 1], [218, 1], [56, 5], [27, 4], [19, 2]]], ['ask', [[294, 1], [397, 5], [401, 5], [439, 3]]]])],\n       [30599.759, 'Exch0',\n        list([['bid', [[288, 1], [281, 4], [278, 1], [270, 4], [269, 1], [218, 1], [56, 5], [27, 4], [19, 2]]], ['ask', [[294, 1], [397, 5], [401, 5], [439, 3]]]])],\n       [30599.945, 'Exch0',\n        list([['bid', [[288, 1], [281, 4], [278, 1], [270, 4], [269, 1], [218, 1], [56, 5], [27, 4], [19, 2]]], ['ask', [[294, 1], [397, 5], [401, 5], [714, 3]]]])]],\n      dtype=object)"
     },
     "execution_count": 252,
     "metadata": {},
     "output_type": "execute_result"
    }
   ],
   "source": [
    "def dictionary(a):\n",
    "    it = iter(a)\n",
    "    res_dct = dict(zip(it, it))\n",
    "    return res_dct\n",
    "\n",
    "\n",
    "#Method: Use iterators to convert them into dictionary form\n",
    "\n",
    "New_data = []\n",
    "test_lines = np.asarray(LOB, dtype=object)  #The LOB is converted to a multidimensional array using the asarray method\n",
    "test_lines"
   ],
   "metadata": {
    "collapsed": false,
    "pycharm": {
     "name": "#%%\n"
    }
   }
  },
  {
   "cell_type": "code",
   "execution_count": 253,
   "outputs": [
    {
     "data": {
      "text/plain": "array([[{'Time': 0.0, 'Encode': 'Exch0', 'bid': [], 'ask': []}],\n       [{'Time': 0.279, 'Encode': 'Exch0', 'bid': [[1, 6]], 'ask': []}],\n       [{'Time': 1.333, 'Encode': 'Exch0', 'bid': [[1, 6]], 'ask': [[800, 1]]}],\n       ...,\n       [{'Time': 30599.635, 'Encode': 'Exch0', 'bid': [[290, 1], [288, 2], [281, 4], [278, 1], [270, 4], [269, 1], [218, 1], [56, 5], [27, 4], [19, 2]], 'ask': [[294, 1], [397, 5], [401, 5], [439, 3]]}],\n       [{'Time': 30599.759, 'Encode': 'Exch0', 'bid': [[288, 1], [281, 4], [278, 1], [270, 4], [269, 1], [218, 1], [56, 5], [27, 4], [19, 2]], 'ask': [[294, 1], [397, 5], [401, 5], [439, 3]]}],\n       [{'Time': 30599.945, 'Encode': 'Exch0', 'bid': [[288, 1], [281, 4], [278, 1], [270, 4], [269, 1], [218, 1], [56, 5], [27, 4], [19, 2]], 'ask': [[294, 1], [397, 5], [401, 5], [714, 3]]}]],\n      dtype=object)"
     },
     "execution_count": 253,
     "metadata": {},
     "output_type": "execute_result"
    }
   ],
   "source": [
    "for i in test_lines:\n",
    "    every_line = [[\"Time\", i[0]], [\"Encode\", i[1]], i[2][0], i[2][1]]\n",
    "    #Create a new column and put the data in the testlines array into the new format for easy computation below\n",
    "    New_data.append(every_line)\n",
    "New_data\n",
    "\n",
    "for i in New_data:  #Put the data into the convert method and convert it all into dictionary format\n",
    "    i[0] = dictionary(i[0])\n",
    "    i[1] = dictionary(i[1])\n",
    "    i[2] = dictionary(i[2])\n",
    "    i[3] = dictionary(i[3])\n",
    "    i[0] = i[0] | i[1] | i[2] | i[3]  #Summarize all columns into the first column\n",
    "New_data = np.delete(New_data, [1, 2, 3], 1)  #Delete redundant columns\n",
    "New_data"
   ],
   "metadata": {
    "collapsed": false,
    "pycharm": {
     "name": "#%%\n"
    }
   }
  },
  {
   "cell_type": "code",
   "execution_count": 254,
   "outputs": [
    {
     "data": {
      "text/plain": "                                                        0\n0       {'Time': 0.0, 'Encode': 'Exch0', 'bid': [], 'a...\n1       {'Time': 0.279, 'Encode': 'Exch0', 'bid': [[1,...\n2       {'Time': 1.333, 'Encode': 'Exch0', 'bid': [[1,...\n3       {'Time': 1.581, 'Encode': 'Exch0', 'bid': [[1,...\n4       {'Time': 1.643, 'Encode': 'Exch0', 'bid': [[1,...\n...                                                   ...\n352965  {'Time': 30599.542, 'Encode': 'Exch0', 'bid': ...\n352966  {'Time': 30599.573, 'Encode': 'Exch0', 'bid': ...\n352967  {'Time': 30599.635, 'Encode': 'Exch0', 'bid': ...\n352968  {'Time': 30599.759, 'Encode': 'Exch0', 'bid': ...\n352969  {'Time': 30599.945, 'Encode': 'Exch0', 'bid': ...\n\n[352970 rows x 1 columns]",
      "text/html": "<div>\n<style scoped>\n    .dataframe tbody tr th:only-of-type {\n        vertical-align: middle;\n    }\n\n    .dataframe tbody tr th {\n        vertical-align: top;\n    }\n\n    .dataframe thead th {\n        text-align: right;\n    }\n</style>\n<table border=\"1\" class=\"dataframe\">\n  <thead>\n    <tr style=\"text-align: right;\">\n      <th></th>\n      <th>0</th>\n    </tr>\n  </thead>\n  <tbody>\n    <tr>\n      <th>0</th>\n      <td>{'Time': 0.0, 'Encode': 'Exch0', 'bid': [], 'a...</td>\n    </tr>\n    <tr>\n      <th>1</th>\n      <td>{'Time': 0.279, 'Encode': 'Exch0', 'bid': [[1,...</td>\n    </tr>\n    <tr>\n      <th>2</th>\n      <td>{'Time': 1.333, 'Encode': 'Exch0', 'bid': [[1,...</td>\n    </tr>\n    <tr>\n      <th>3</th>\n      <td>{'Time': 1.581, 'Encode': 'Exch0', 'bid': [[1,...</td>\n    </tr>\n    <tr>\n      <th>4</th>\n      <td>{'Time': 1.643, 'Encode': 'Exch0', 'bid': [[1,...</td>\n    </tr>\n    <tr>\n      <th>...</th>\n      <td>...</td>\n    </tr>\n    <tr>\n      <th>352965</th>\n      <td>{'Time': 30599.542, 'Encode': 'Exch0', 'bid': ...</td>\n    </tr>\n    <tr>\n      <th>352966</th>\n      <td>{'Time': 30599.573, 'Encode': 'Exch0', 'bid': ...</td>\n    </tr>\n    <tr>\n      <th>352967</th>\n      <td>{'Time': 30599.635, 'Encode': 'Exch0', 'bid': ...</td>\n    </tr>\n    <tr>\n      <th>352968</th>\n      <td>{'Time': 30599.759, 'Encode': 'Exch0', 'bid': ...</td>\n    </tr>\n    <tr>\n      <th>352969</th>\n      <td>{'Time': 30599.945, 'Encode': 'Exch0', 'bid': ...</td>\n    </tr>\n  </tbody>\n</table>\n<p>352970 rows × 1 columns</p>\n</div>"
     },
     "execution_count": 254,
     "metadata": {},
     "output_type": "execute_result"
    }
   ],
   "source": [
    "New_data2 = New_data.tolist()\n",
    "df_test = pd.DataFrame(New_data2)\n",
    "df_test"
   ],
   "metadata": {
    "collapsed": false,
    "pycharm": {
     "name": "#%%\n"
    }
   }
  },
  {
   "cell_type": "code",
   "execution_count": 255,
   "outputs": [
    {
     "data": {
      "text/plain": "array([{'Time': 0.0, 'Encode': 'Exch0', 'bid': [], 'ask': []},\n       {'Time': 0.279, 'Encode': 'Exch0', 'bid': [[1, 6]], 'ask': []},\n       {'Time': 1.333, 'Encode': 'Exch0', 'bid': [[1, 6]], 'ask': [[800, 1]]},\n       ...,\n       {'Time': 30599.635, 'Encode': 'Exch0', 'bid': [[290, 1], [288, 2], [281, 4], [278, 1], [270, 4], [269, 1], [218, 1], [56, 5], [27, 4], [19, 2]], 'ask': [[294, 1], [397, 5], [401, 5], [439, 3]]},\n       {'Time': 30599.759, 'Encode': 'Exch0', 'bid': [[288, 1], [281, 4], [278, 1], [270, 4], [269, 1], [218, 1], [56, 5], [27, 4], [19, 2]], 'ask': [[294, 1], [397, 5], [401, 5], [439, 3]]},\n       {'Time': 30599.945, 'Encode': 'Exch0', 'bid': [[288, 1], [281, 4], [278, 1], [270, 4], [269, 1], [218, 1], [56, 5], [27, 4], [19, 2]], 'ask': [[294, 1], [397, 5], [401, 5], [714, 3]]}],\n      dtype=object)"
     },
     "execution_count": 255,
     "metadata": {},
     "output_type": "execute_result"
    }
   ],
   "source": [
    "data_test = New_data.flatten()\n",
    "data_test"
   ],
   "metadata": {
    "collapsed": false,
    "pycharm": {
     "name": "#%%\n"
    }
   }
  },
  {
   "cell_type": "code",
   "execution_count": 256,
   "outputs": [
    {
     "data": {
      "text/plain": "          Encode                                                bid  \\\nTime                                                                  \n0.000      Exch0                                                 []   \n0.279      Exch0                                           [[1, 6]]   \n1.333      Exch0                                           [[1, 6]]   \n1.581      Exch0                                           [[1, 6]]   \n1.643      Exch0                                           [[1, 6]]   \n...          ...                                                ...   \n30599.542  Exch0  [[290, 1], [288, 2], [281, 4], [278, 1], [270,...   \n30599.573  Exch0  [[290, 1], [288, 2], [281, 4], [278, 1], [270,...   \n30599.635  Exch0  [[290, 1], [288, 2], [281, 4], [278, 1], [270,...   \n30599.759  Exch0  [[288, 1], [281, 4], [278, 1], [270, 4], [269,...   \n30599.945  Exch0  [[288, 1], [281, 4], [278, 1], [270, 4], [269,...   \n\n                                                ask  \nTime                                                 \n0.000                                            []  \n0.279                                            []  \n1.333                                    [[800, 1]]  \n1.581                                    [[799, 1]]  \n1.643                                    [[798, 1]]  \n...                                             ...  \n30599.542  [[294, 1], [401, 5], [610, 5], [720, 3]]  \n30599.573  [[294, 1], [401, 5], [439, 3], [610, 5]]  \n30599.635  [[294, 1], [397, 5], [401, 5], [439, 3]]  \n30599.759  [[294, 1], [397, 5], [401, 5], [439, 3]]  \n30599.945  [[294, 1], [397, 5], [401, 5], [714, 3]]  \n\n[352970 rows x 3 columns]",
      "text/html": "<div>\n<style scoped>\n    .dataframe tbody tr th:only-of-type {\n        vertical-align: middle;\n    }\n\n    .dataframe tbody tr th {\n        vertical-align: top;\n    }\n\n    .dataframe thead th {\n        text-align: right;\n    }\n</style>\n<table border=\"1\" class=\"dataframe\">\n  <thead>\n    <tr style=\"text-align: right;\">\n      <th></th>\n      <th>Encode</th>\n      <th>bid</th>\n      <th>ask</th>\n    </tr>\n    <tr>\n      <th>Time</th>\n      <th></th>\n      <th></th>\n      <th></th>\n    </tr>\n  </thead>\n  <tbody>\n    <tr>\n      <th>0.000</th>\n      <td>Exch0</td>\n      <td>[]</td>\n      <td>[]</td>\n    </tr>\n    <tr>\n      <th>0.279</th>\n      <td>Exch0</td>\n      <td>[[1, 6]]</td>\n      <td>[]</td>\n    </tr>\n    <tr>\n      <th>1.333</th>\n      <td>Exch0</td>\n      <td>[[1, 6]]</td>\n      <td>[[800, 1]]</td>\n    </tr>\n    <tr>\n      <th>1.581</th>\n      <td>Exch0</td>\n      <td>[[1, 6]]</td>\n      <td>[[799, 1]]</td>\n    </tr>\n    <tr>\n      <th>1.643</th>\n      <td>Exch0</td>\n      <td>[[1, 6]]</td>\n      <td>[[798, 1]]</td>\n    </tr>\n    <tr>\n      <th>...</th>\n      <td>...</td>\n      <td>...</td>\n      <td>...</td>\n    </tr>\n    <tr>\n      <th>30599.542</th>\n      <td>Exch0</td>\n      <td>[[290, 1], [288, 2], [281, 4], [278, 1], [270,...</td>\n      <td>[[294, 1], [401, 5], [610, 5], [720, 3]]</td>\n    </tr>\n    <tr>\n      <th>30599.573</th>\n      <td>Exch0</td>\n      <td>[[290, 1], [288, 2], [281, 4], [278, 1], [270,...</td>\n      <td>[[294, 1], [401, 5], [439, 3], [610, 5]]</td>\n    </tr>\n    <tr>\n      <th>30599.635</th>\n      <td>Exch0</td>\n      <td>[[290, 1], [288, 2], [281, 4], [278, 1], [270,...</td>\n      <td>[[294, 1], [397, 5], [401, 5], [439, 3]]</td>\n    </tr>\n    <tr>\n      <th>30599.759</th>\n      <td>Exch0</td>\n      <td>[[288, 1], [281, 4], [278, 1], [270, 4], [269,...</td>\n      <td>[[294, 1], [397, 5], [401, 5], [439, 3]]</td>\n    </tr>\n    <tr>\n      <th>30599.945</th>\n      <td>Exch0</td>\n      <td>[[288, 1], [281, 4], [278, 1], [270, 4], [269,...</td>\n      <td>[[294, 1], [397, 5], [401, 5], [714, 3]]</td>\n    </tr>\n  </tbody>\n</table>\n<p>352970 rows × 3 columns</p>\n</div>"
     },
     "execution_count": 256,
     "metadata": {},
     "output_type": "execute_result"
    }
   ],
   "source": [
    "data_test2 = data_test.tolist()  #Before converting a dict directly to a dataframe, it must be converted to a list\n",
    "data_test2\n",
    "df = pd.DataFrame(data_test2)\n",
    "df\n",
    "df = df.set_index(\"Time\")\n",
    "df"
   ],
   "metadata": {
    "collapsed": false,
    "pycharm": {
     "name": "#%%\n"
    }
   }
  },
  {
   "cell_type": "code",
   "execution_count": 257,
   "outputs": [
    {
     "data": {
      "text/plain": "          Encode                                                bid  \\\nTime                                                                  \n0.000      Exch0                                                 []   \n0.279      Exch0                                           [[1, 6]]   \n1.333      Exch0                                           [[1, 6]]   \n1.581      Exch0                                           [[1, 6]]   \n1.643      Exch0                                           [[1, 6]]   \n...          ...                                                ...   \n30599.542  Exch0  [[290, 1], [288, 2], [281, 4], [278, 1], [270,...   \n30599.573  Exch0  [[290, 1], [288, 2], [281, 4], [278, 1], [270,...   \n30599.635  Exch0  [[290, 1], [288, 2], [281, 4], [278, 1], [270,...   \n30599.759  Exch0  [[288, 1], [281, 4], [278, 1], [270, 4], [269,...   \n30599.945  Exch0  [[288, 1], [281, 4], [278, 1], [270, 4], [269,...   \n\n                                                ask  \nTime                                                 \n0.000                                            []  \n0.279                                            []  \n1.333                                    [[800, 1]]  \n1.581                                    [[799, 1]]  \n1.643                                    [[798, 1]]  \n...                                             ...  \n30599.542  [[294, 1], [401, 5], [610, 5], [720, 3]]  \n30599.573  [[294, 1], [401, 5], [439, 3], [610, 5]]  \n30599.635  [[294, 1], [397, 5], [401, 5], [439, 3]]  \n30599.759  [[294, 1], [397, 5], [401, 5], [439, 3]]  \n30599.945  [[294, 1], [397, 5], [401, 5], [714, 3]]  \n\n[352970 rows x 3 columns]",
      "text/html": "<div>\n<style scoped>\n    .dataframe tbody tr th:only-of-type {\n        vertical-align: middle;\n    }\n\n    .dataframe tbody tr th {\n        vertical-align: top;\n    }\n\n    .dataframe thead th {\n        text-align: right;\n    }\n</style>\n<table border=\"1\" class=\"dataframe\">\n  <thead>\n    <tr style=\"text-align: right;\">\n      <th></th>\n      <th>Encode</th>\n      <th>bid</th>\n      <th>ask</th>\n    </tr>\n    <tr>\n      <th>Time</th>\n      <th></th>\n      <th></th>\n      <th></th>\n    </tr>\n  </thead>\n  <tbody>\n    <tr>\n      <th>0.000</th>\n      <td>Exch0</td>\n      <td>[]</td>\n      <td>[]</td>\n    </tr>\n    <tr>\n      <th>0.279</th>\n      <td>Exch0</td>\n      <td>[[1, 6]]</td>\n      <td>[]</td>\n    </tr>\n    <tr>\n      <th>1.333</th>\n      <td>Exch0</td>\n      <td>[[1, 6]]</td>\n      <td>[[800, 1]]</td>\n    </tr>\n    <tr>\n      <th>1.581</th>\n      <td>Exch0</td>\n      <td>[[1, 6]]</td>\n      <td>[[799, 1]]</td>\n    </tr>\n    <tr>\n      <th>1.643</th>\n      <td>Exch0</td>\n      <td>[[1, 6]]</td>\n      <td>[[798, 1]]</td>\n    </tr>\n    <tr>\n      <th>...</th>\n      <td>...</td>\n      <td>...</td>\n      <td>...</td>\n    </tr>\n    <tr>\n      <th>30599.542</th>\n      <td>Exch0</td>\n      <td>[[290, 1], [288, 2], [281, 4], [278, 1], [270,...</td>\n      <td>[[294, 1], [401, 5], [610, 5], [720, 3]]</td>\n    </tr>\n    <tr>\n      <th>30599.573</th>\n      <td>Exch0</td>\n      <td>[[290, 1], [288, 2], [281, 4], [278, 1], [270,...</td>\n      <td>[[294, 1], [401, 5], [439, 3], [610, 5]]</td>\n    </tr>\n    <tr>\n      <th>30599.635</th>\n      <td>Exch0</td>\n      <td>[[290, 1], [288, 2], [281, 4], [278, 1], [270,...</td>\n      <td>[[294, 1], [397, 5], [401, 5], [439, 3]]</td>\n    </tr>\n    <tr>\n      <th>30599.759</th>\n      <td>Exch0</td>\n      <td>[[288, 1], [281, 4], [278, 1], [270, 4], [269,...</td>\n      <td>[[294, 1], [397, 5], [401, 5], [439, 3]]</td>\n    </tr>\n    <tr>\n      <th>30599.945</th>\n      <td>Exch0</td>\n      <td>[[288, 1], [281, 4], [278, 1], [270, 4], [269,...</td>\n      <td>[[294, 1], [397, 5], [401, 5], [714, 3]]</td>\n    </tr>\n  </tbody>\n</table>\n<p>352970 rows × 3 columns</p>\n</div>"
     },
     "execution_count": 257,
     "metadata": {},
     "output_type": "execute_result"
    }
   ],
   "source": [
    "df1 = df.copy()\n",
    "df1"
   ],
   "metadata": {
    "collapsed": false,
    "pycharm": {
     "name": "#%%\n"
    }
   }
  },
  {
   "cell_type": "code",
   "execution_count": 258,
   "outputs": [],
   "source": [
    "def LOBs_df(df):\n",
    "    best_bid_price = []\n",
    "    best_ask_price = []\n",
    "    bid_volume = []\n",
    "    ask_volume = []\n",
    "    bid_ask_spread = []\n",
    "    median_price = []\n",
    "\n",
    "    #important variable\n",
    "    #in some range of price, The cumulative number of bid and ask orders called book depth\n",
    "    book_Depth = []\n",
    "    #The difference in quantity between a bid order and a ask order at a given price level or in the entire order book. This can be used to gauge the bias of market participants' sentiment, which can affect short-term price movements.\n",
    "    order_Imbalance = []\n",
    "\n",
    "    for bid_line, ask_line in zip(df['bid'], df['ask']):  #iterrows function, calculate those things in each row\n",
    "        if len(bid_line) > 0:  #when bid_line >0,which means we have bid price\n",
    "            best_bid_price.append(bid_line[0][0])  #add first bid price\n",
    "            bid_volume.append(bid_line[0][1])  #add first bid volume\n",
    "        else:  # which means we do not have bid price(NaN)\n",
    "            best_bid_price.append(np.nan)\n",
    "            bid_volume.append(np.nan)\n",
    "\n",
    "        if len(ask_line) > 0:  #same as above\n",
    "            best_ask_price.append(ask_line[0][0])\n",
    "            ask_volume.append(ask_line[0][1])\n",
    "        else:  # which means we do not have ask price(NaN)\n",
    "            best_ask_price.append(np.nan)\n",
    "            ask_volume.append(np.nan)\n",
    "\n",
    "        if len(bid_line) > 0 and len(ask_line) > 0:  #we have all the bid and ask price\n",
    "            bid_ask_spread.append(ask_line[0][0] - bid_line[0][0])\n",
    "            median_price.append((ask_line[0][0] + bid_line[0][0]) / 2)\n",
    "        else:\n",
    "            bid_ask_spread.append(np.nan)\n",
    "            median_price.append(np.nan)\n",
    "\n",
    "        bid_depth = bid_line[0][1] if len(bid_line) > 0 else 0\n",
    "        ask_depth = ask_line[0][1] if len(ask_line) > 0 else 0\n",
    "        book_Depth.append(bid_depth + ask_depth)\n",
    "        order_Imbalance.append(bid_depth - ask_depth)\n",
    "\n",
    "\n",
    "    df.insert(1, \"bid_ask_spread\", bid_ask_spread)\n",
    "    df.insert(2, \"Mid_Price\", median_price)\n",
    "    df.insert(3, \"Best_bid_price\", best_bid_price)\n",
    "    df.insert(4, \"bid_volume\", bid_volume)\n",
    "    df.insert(5, \"Best_ask_price\", best_ask_price)\n",
    "    df.insert(6, \"ask_volume\", ask_volume)\n",
    "    df.insert(7, \"book_Depth\", book_Depth)\n",
    "    df.insert(8, \"order_Imbalance\", order_Imbalance)\n",
    "\n",
    "    return df"
   ],
   "metadata": {
    "collapsed": false,
    "pycharm": {
     "name": "#%%\n"
    }
   }
  },
  {
   "cell_type": "code",
   "execution_count": 259,
   "outputs": [
    {
     "data": {
      "text/plain": "          Encode  bid_ask_spread  Mid_Price  Best_bid_price  bid_volume  \\\nTime                                                                      \n0.000      Exch0             NaN        NaN             NaN         NaN   \n0.279      Exch0             NaN        NaN             1.0         6.0   \n1.333      Exch0           799.0      400.5             1.0         6.0   \n1.581      Exch0           798.0      400.0             1.0         6.0   \n1.643      Exch0           797.0      399.5             1.0         6.0   \n...          ...             ...        ...             ...         ...   \n30599.542  Exch0             4.0      292.0           290.0         1.0   \n30599.573  Exch0             4.0      292.0           290.0         1.0   \n30599.635  Exch0             4.0      292.0           290.0         1.0   \n30599.759  Exch0             6.0      291.0           288.0         1.0   \n30599.945  Exch0             6.0      291.0           288.0         1.0   \n\n           Best_ask_price  ask_volume  book_Depth  order_Imbalance  \nTime                                                                \n0.000                 NaN         NaN           0                0  \n0.279                 NaN         NaN           6                6  \n1.333               800.0         1.0           7                5  \n1.581               799.0         1.0           7                5  \n1.643               798.0         1.0           7                5  \n...                   ...         ...         ...              ...  \n30599.542           294.0         1.0           2                0  \n30599.573           294.0         1.0           2                0  \n30599.635           294.0         1.0           2                0  \n30599.759           294.0         1.0           2                0  \n30599.945           294.0         1.0           2                0  \n\n[352970 rows x 9 columns]",
      "text/html": "<div>\n<style scoped>\n    .dataframe tbody tr th:only-of-type {\n        vertical-align: middle;\n    }\n\n    .dataframe tbody tr th {\n        vertical-align: top;\n    }\n\n    .dataframe thead th {\n        text-align: right;\n    }\n</style>\n<table border=\"1\" class=\"dataframe\">\n  <thead>\n    <tr style=\"text-align: right;\">\n      <th></th>\n      <th>Encode</th>\n      <th>bid_ask_spread</th>\n      <th>Mid_Price</th>\n      <th>Best_bid_price</th>\n      <th>bid_volume</th>\n      <th>Best_ask_price</th>\n      <th>ask_volume</th>\n      <th>book_Depth</th>\n      <th>order_Imbalance</th>\n    </tr>\n    <tr>\n      <th>Time</th>\n      <th></th>\n      <th></th>\n      <th></th>\n      <th></th>\n      <th></th>\n      <th></th>\n      <th></th>\n      <th></th>\n      <th></th>\n    </tr>\n  </thead>\n  <tbody>\n    <tr>\n      <th>0.000</th>\n      <td>Exch0</td>\n      <td>NaN</td>\n      <td>NaN</td>\n      <td>NaN</td>\n      <td>NaN</td>\n      <td>NaN</td>\n      <td>NaN</td>\n      <td>0</td>\n      <td>0</td>\n    </tr>\n    <tr>\n      <th>0.279</th>\n      <td>Exch0</td>\n      <td>NaN</td>\n      <td>NaN</td>\n      <td>1.0</td>\n      <td>6.0</td>\n      <td>NaN</td>\n      <td>NaN</td>\n      <td>6</td>\n      <td>6</td>\n    </tr>\n    <tr>\n      <th>1.333</th>\n      <td>Exch0</td>\n      <td>799.0</td>\n      <td>400.5</td>\n      <td>1.0</td>\n      <td>6.0</td>\n      <td>800.0</td>\n      <td>1.0</td>\n      <td>7</td>\n      <td>5</td>\n    </tr>\n    <tr>\n      <th>1.581</th>\n      <td>Exch0</td>\n      <td>798.0</td>\n      <td>400.0</td>\n      <td>1.0</td>\n      <td>6.0</td>\n      <td>799.0</td>\n      <td>1.0</td>\n      <td>7</td>\n      <td>5</td>\n    </tr>\n    <tr>\n      <th>1.643</th>\n      <td>Exch0</td>\n      <td>797.0</td>\n      <td>399.5</td>\n      <td>1.0</td>\n      <td>6.0</td>\n      <td>798.0</td>\n      <td>1.0</td>\n      <td>7</td>\n      <td>5</td>\n    </tr>\n    <tr>\n      <th>...</th>\n      <td>...</td>\n      <td>...</td>\n      <td>...</td>\n      <td>...</td>\n      <td>...</td>\n      <td>...</td>\n      <td>...</td>\n      <td>...</td>\n      <td>...</td>\n    </tr>\n    <tr>\n      <th>30599.542</th>\n      <td>Exch0</td>\n      <td>4.0</td>\n      <td>292.0</td>\n      <td>290.0</td>\n      <td>1.0</td>\n      <td>294.0</td>\n      <td>1.0</td>\n      <td>2</td>\n      <td>0</td>\n    </tr>\n    <tr>\n      <th>30599.573</th>\n      <td>Exch0</td>\n      <td>4.0</td>\n      <td>292.0</td>\n      <td>290.0</td>\n      <td>1.0</td>\n      <td>294.0</td>\n      <td>1.0</td>\n      <td>2</td>\n      <td>0</td>\n    </tr>\n    <tr>\n      <th>30599.635</th>\n      <td>Exch0</td>\n      <td>4.0</td>\n      <td>292.0</td>\n      <td>290.0</td>\n      <td>1.0</td>\n      <td>294.0</td>\n      <td>1.0</td>\n      <td>2</td>\n      <td>0</td>\n    </tr>\n    <tr>\n      <th>30599.759</th>\n      <td>Exch0</td>\n      <td>6.0</td>\n      <td>291.0</td>\n      <td>288.0</td>\n      <td>1.0</td>\n      <td>294.0</td>\n      <td>1.0</td>\n      <td>2</td>\n      <td>0</td>\n    </tr>\n    <tr>\n      <th>30599.945</th>\n      <td>Exch0</td>\n      <td>6.0</td>\n      <td>291.0</td>\n      <td>288.0</td>\n      <td>1.0</td>\n      <td>294.0</td>\n      <td>1.0</td>\n      <td>2</td>\n      <td>0</td>\n    </tr>\n  </tbody>\n</table>\n<p>352970 rows × 9 columns</p>\n</div>"
     },
     "execution_count": 259,
     "metadata": {},
     "output_type": "execute_result"
    }
   ],
   "source": [
    "df2=LOBs_df(df1)\n",
    "df2=df2.drop(columns=[\"bid\", \"ask\"])\n",
    "df2"
   ],
   "metadata": {
    "collapsed": false,
    "pycharm": {
     "name": "#%%\n"
    }
   }
  },
  {
   "cell_type": "code",
   "execution_count": 261,
   "outputs": [],
   "source": [
    "df2.to_excel(\"E:/mini project bristol/LOBs after processing/processed_LOBs.xlsx\")"
   ],
   "metadata": {
    "collapsed": false,
    "pycharm": {
     "name": "#%%\n"
    }
   }
  },
  {
   "cell_type": "code",
   "execution_count": null,
   "outputs": [],
   "source": [],
   "metadata": {
    "collapsed": false,
    "pycharm": {
     "name": "#%%\n"
    }
   }
  }
 ],
 "metadata": {
  "kernelspec": {
   "display_name": "Python 3",
   "language": "python",
   "name": "python3"
  },
  "language_info": {
   "codemirror_mode": {
    "name": "ipython",
    "version": 2
   },
   "file_extension": ".py",
   "mimetype": "text/x-python",
   "name": "python",
   "nbconvert_exporter": "python",
   "pygments_lexer": "ipython2",
   "version": "2.7.6"
  }
 },
 "nbformat": 4,
 "nbformat_minor": 0
}