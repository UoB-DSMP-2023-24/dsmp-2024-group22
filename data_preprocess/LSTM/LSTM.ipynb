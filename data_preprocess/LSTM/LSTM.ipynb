{
 "cells": [
  {
   "cell_type": "code",
   "execution_count": 1,
   "outputs": [
    {
     "name": "stderr",
     "output_type": "stream",
     "text": [
      "D:\\zzyAnaconda\\lib\\site-packages\\scipy\\__init__.py:146: UserWarning: A NumPy version >=1.16.5 and <1.23.0 is required for this version of SciPy (detected version 1.26.4\n",
      "  warnings.warn(f\"A NumPy version >={np_minversion} and <{np_maxversion}\"\n"
     ]
    }
   ],
   "source": [
    "import numpy as np\n",
    "import pandas as pd\n",
    "import keras\n",
    "from matplotlib import pyplot as plt\n",
    "import matplotlib.dates as mdates\n",
    "from sklearn.preprocessing import MinMaxScaler\n",
    "from keras.models import Sequential\n",
    "from keras.layers import LSTM, Dropout, Dense\n",
    "from keras.optimizers import Adam\n",
    "from sklearn.metrics import mean_squared_error, mean_absolute_error, r2_score\n",
    "import tensorflow as tf\n",
    "import math"
   ],
   "metadata": {
    "collapsed": false,
    "pycharm": {
     "name": "#%%\n"
    }
   }
  },
  {
   "cell_type": "code",
   "execution_count": null,
   "outputs": [],
   "source": [],
   "metadata": {
    "collapsed": false,
    "pycharm": {
     "name": "#%%\n"
    }
   }
  },
  {
   "cell_type": "code",
   "execution_count": 2,
   "outputs": [
    {
     "data": {
      "text/plain": "            max_price  min_price  open_price  close_price\ndate                                                     \n2025-01-02      303.0      243.0       267.0        288.0\n2025-01-03      317.0      270.0       281.0        291.0\n2025-01-06      346.0      276.0       278.0        327.0\n2025-01-07      388.0      317.0       336.0        369.0\n2025-01-08      374.0      303.0       365.0        311.0\n...               ...        ...         ...          ...\n2025-06-25      114.0       93.0        96.0        104.0\n2025-06-26      114.0       94.0       113.0        111.0\n2025-06-27      113.0       93.0       106.0        111.0\n2025-06-30      113.0       93.0       103.0        110.0\n2025-07-01      114.0       93.0        94.0        107.0\n\n[125 rows x 4 columns]",
      "text/html": "<div>\n<style scoped>\n    .dataframe tbody tr th:only-of-type {\n        vertical-align: middle;\n    }\n\n    .dataframe tbody tr th {\n        vertical-align: top;\n    }\n\n    .dataframe thead th {\n        text-align: right;\n    }\n</style>\n<table border=\"1\" class=\"dataframe\">\n  <thead>\n    <tr style=\"text-align: right;\">\n      <th></th>\n      <th>max_price</th>\n      <th>min_price</th>\n      <th>open_price</th>\n      <th>close_price</th>\n    </tr>\n    <tr>\n      <th>date</th>\n      <th></th>\n      <th></th>\n      <th></th>\n      <th></th>\n    </tr>\n  </thead>\n  <tbody>\n    <tr>\n      <th>2025-01-02</th>\n      <td>303.0</td>\n      <td>243.0</td>\n      <td>267.0</td>\n      <td>288.0</td>\n    </tr>\n    <tr>\n      <th>2025-01-03</th>\n      <td>317.0</td>\n      <td>270.0</td>\n      <td>281.0</td>\n      <td>291.0</td>\n    </tr>\n    <tr>\n      <th>2025-01-06</th>\n      <td>346.0</td>\n      <td>276.0</td>\n      <td>278.0</td>\n      <td>327.0</td>\n    </tr>\n    <tr>\n      <th>2025-01-07</th>\n      <td>388.0</td>\n      <td>317.0</td>\n      <td>336.0</td>\n      <td>369.0</td>\n    </tr>\n    <tr>\n      <th>2025-01-08</th>\n      <td>374.0</td>\n      <td>303.0</td>\n      <td>365.0</td>\n      <td>311.0</td>\n    </tr>\n    <tr>\n      <th>...</th>\n      <td>...</td>\n      <td>...</td>\n      <td>...</td>\n      <td>...</td>\n    </tr>\n    <tr>\n      <th>2025-06-25</th>\n      <td>114.0</td>\n      <td>93.0</td>\n      <td>96.0</td>\n      <td>104.0</td>\n    </tr>\n    <tr>\n      <th>2025-06-26</th>\n      <td>114.0</td>\n      <td>94.0</td>\n      <td>113.0</td>\n      <td>111.0</td>\n    </tr>\n    <tr>\n      <th>2025-06-27</th>\n      <td>113.0</td>\n      <td>93.0</td>\n      <td>106.0</td>\n      <td>111.0</td>\n    </tr>\n    <tr>\n      <th>2025-06-30</th>\n      <td>113.0</td>\n      <td>93.0</td>\n      <td>103.0</td>\n      <td>110.0</td>\n    </tr>\n    <tr>\n      <th>2025-07-01</th>\n      <td>114.0</td>\n      <td>93.0</td>\n      <td>94.0</td>\n      <td>107.0</td>\n    </tr>\n  </tbody>\n</table>\n<p>125 rows × 4 columns</p>\n</div>"
     },
     "execution_count": 2,
     "metadata": {},
     "output_type": "execute_result"
    }
   ],
   "source": [
    "df=pd.read_csv(\"E:\\git\\dsmp-2024-group22\\data_preprocess\\DATA\\processed_tapes.csv\",parse_dates=['date'],index_col='date')\n",
    "df=df.drop(\"Unnamed: 0\",axis=1)\n",
    "df=df.dropna()\n",
    "df=df.sort_values(by='date')\n",
    "df\n",
    "# df['date'] = pd.to_datetime(df['date'])"
   ],
   "metadata": {
    "collapsed": false,
    "pycharm": {
     "name": "#%%\n"
    }
   }
  },
  {
   "cell_type": "code",
   "execution_count": 3,
   "outputs": [
    {
     "data": {
      "text/plain": "array([[0.6690141 , 0.66079295, 0.63837636, 0.6996337 ],\n       [0.71830976, 0.7797357 , 0.6900369 , 0.71062267],\n       [0.82042253, 0.80616736, 0.67896676, 0.8424908 ],\n       [0.96830976, 0.9867841 , 0.8929889 , 0.99633694],\n       [0.919014  , 0.9251101 , 1.        , 0.78388274],\n       [0.89084506, 0.9118943 , 0.8191881 , 0.7875458 ],\n       [0.7852112 , 0.80616736, 0.8376384 , 0.67399263],\n       [0.84507036, 0.7929516 , 0.67896676, 0.9120879 ],\n       [0.8661971 , 0.92951536, 0.9335793 , 0.93406594],\n       [0.8661971 , 0.8634361 , 0.9667896 , 0.72893775],\n       [0.73239434, 0.73568285, 0.74907744, 0.64835167],\n       [0.7359154 , 0.75770926, 0.6937269 , 0.8205128 ],\n       [0.919014  , 0.9251101 , 0.7712177 , 0.992674  ],\n       [1.        , 0.9779736 , 0.9667896 , 0.8021978 ],\n       [0.7922535 , 0.814978  , 0.86715865, 0.7252747 ],\n       [0.6725352 , 0.753304  , 0.67896676, 0.6849817 ],\n       [0.7007042 , 0.7621145 , 0.67896676, 0.68131864],\n       [0.93309855, 0.7929516 , 0.6605166 , 1.        ],\n       [0.9507042 , 1.        , 0.9704797 , 0.9450549 ],\n       [0.9049295 , 0.8986784 , 0.9261992 , 0.78388274],\n       [0.77112675, 0.8634361 , 0.75645757, 0.8168498 ],\n       [0.7535211 , 0.83259916, 0.8560885 , 0.7692307 ],\n       [0.89084506, 0.8546256 , 0.71217704, 0.9450549 ],\n       [0.9225352 , 0.9911895 , 0.9926199 , 0.89377284],\n       [0.8697183 , 0.753304  , 0.9630996 , 0.6703297 ],\n       [0.7077464 , 0.73568285, 0.63099635, 0.77655673],\n       [0.80985916, 0.85903084, 0.7601476 , 0.7655678 ],\n       [0.80633795, 0.8634361 , 0.78597784, 0.83150184],\n       [0.8415493 , 0.92951536, 0.800738  , 0.9120879 ],\n       [0.8239436 , 0.7885463 , 0.9225092 , 0.71428573],\n       [0.6725352 , 0.75770926, 0.70848703, 0.69597065],\n       [0.69014084, 0.75770926, 0.6678966 , 0.74358976],\n       [0.8309859 , 0.814978  , 0.7380073 , 0.88644683],\n       [0.80985916, 0.89427316, 0.8450184 , 0.8278388 ],\n       [0.80985916, 0.6872246 , 0.8782288 , 0.5824176 ],\n       [0.59507036, 0.6255506 , 0.6162362 , 0.64102566],\n       [0.59859157, 0.629956  , 0.67158663, 0.5677656 ],\n       [0.7007042 , 0.63436127, 0.54981554, 0.71062267],\n       [0.7605634 , 0.8370044 , 0.7749077 , 0.7545787 ],\n       [0.7359154 , 0.7268722 , 0.78966784, 0.6446886 ],\n       [0.584507  , 0.6035242 , 0.63099635, 0.5531136 ],\n       [0.5352112 , 0.5814978 , 0.5424354 , 0.5677656 ],\n       [0.6267605 , 0.6696036 , 0.6088561 , 0.6593406 ],\n       [0.60915494, 0.6387665 , 0.6863469 , 0.5970696 ],\n       [0.5422535 , 0.44933918, 0.6162362 , 0.44322345],\n       [0.37323943, 0.43171808, 0.40590408, 0.41391942],\n       [0.3661972 , 0.4229075 , 0.38745388, 0.42857143],\n       [0.4471831 , 0.4405286 , 0.37638375, 0.50183153],\n       [0.4471831 , 0.49339208, 0.46494463, 0.42124543],\n       [0.42957744, 0.37004402, 0.46494463, 0.34798536],\n       [0.3028169 , 0.35242292, 0.3394834 , 0.34432235],\n       [0.31338027, 0.35242292, 0.35424355, 0.33333334],\n       [0.38028166, 0.36563876, 0.36531368, 0.41758242],\n       [0.38732395, 0.41409692, 0.40590408, 0.36996338],\n       [0.33802816, 0.30837002, 0.3911439 , 0.2930403 ],\n       [0.24999997, 0.24669603, 0.302583  , 0.21978024],\n       [0.2147887 , 0.23348019, 0.2398524 , 0.25641027],\n       [0.1971831 , 0.16740087, 0.2619926 , 0.16849819],\n       [0.1338028 , 0.14977977, 0.21033213, 0.13186812],\n       [0.15140846, 0.15418503, 0.19188192, 0.19413921],\n       [0.14436617, 0.16740087, 0.21402213, 0.1831502 ],\n       [0.16197184, 0.18061677, 0.2177122 , 0.19413921],\n       [0.15492955, 0.15859029, 0.202952  , 0.1794872 ],\n       [0.1338028 , 0.14537445, 0.19188192, 0.1758242 ],\n       [0.16549292, 0.14977977, 0.12177122, 0.21611723],\n       [0.18309858, 0.20264319, 0.17712179, 0.22710624],\n       [0.20070425, 0.18942735, 0.24723247, 0.21245423],\n       [0.21126762, 0.18502203, 0.15129152, 0.20146522],\n       [0.20070425, 0.22026435, 0.21033213, 0.24175826],\n       [0.18309858, 0.14977977, 0.19188192, 0.16849819],\n       [0.12323943, 0.14096919, 0.16605166, 0.16483518],\n       [0.16197184, 0.15418503, 0.15498152, 0.21978024],\n       [0.16197184, 0.14096919, 0.16236159, 0.15384617],\n       [0.13028166, 0.14977977, 0.17343172, 0.16849819],\n       [0.16901407, 0.1629956 , 0.18819186, 0.16483518],\n       [0.19366196, 0.20264319, 0.18450186, 0.23076925],\n       [0.26760563, 0.29074892, 0.2583026 , 0.31135532],\n       [0.2640845 , 0.28193834, 0.34686348, 0.2783883 ],\n       [0.22535208, 0.24229077, 0.30627307, 0.20879123],\n       [0.21126762, 0.20704845, 0.26568267, 0.19780222],\n       [0.24295774, 0.20704845, 0.23616233, 0.2783883 ],\n       [0.278169  , 0.30837002, 0.29520294, 0.2930403 ],\n       [0.30633804, 0.33480176, 0.3431734 , 0.35897437],\n       [0.30633804, 0.32599118, 0.36531368, 0.33333334],\n       [0.3274648 , 0.32158592, 0.302583  , 0.3809524 ],\n       [0.40140846, 0.41850218, 0.4907749 , 0.37728938],\n       [0.3450704 , 0.3171806 , 0.42435423, 0.31868133],\n       [0.2640845 , 0.2863436 , 0.30996308, 0.3003663 ],\n       [0.23591551, 0.26431718, 0.2583026 , 0.26739928],\n       [0.23591551, 0.25991186, 0.29151294, 0.26007327],\n       [0.23591551, 0.22026435, 0.302583  , 0.24175826],\n       [0.18309858, 0.1629956 , 0.24723247, 0.16117218],\n       [0.14084509, 0.13656387, 0.16605166, 0.14652017],\n       [0.1161972 , 0.11894271, 0.17712179, 0.14285713],\n       [0.12676057, 0.10572687, 0.15867159, 0.12454212],\n       [0.13028166, 0.14537445, 0.1808118 , 0.1758242 ],\n       [0.12676057, 0.11894271, 0.199262  , 0.12087911],\n       [0.09507042, 0.10132161, 0.13284132, 0.11355311],\n       [0.07746479, 0.08810574, 0.09594095, 0.1025641 ],\n       [0.09154928, 0.09251103, 0.15867159, 0.14285713],\n       [0.08450705, 0.06167403, 0.09594095, 0.08791208],\n       [0.04929578, 0.04845816, 0.07380074, 0.09157509],\n       [0.04225352, 0.03083703, 0.07749078, 0.05494505],\n       [0.02112675, 0.01762116, 0.0221402 , 0.05128205],\n       [0.01760563, 0.01762116, 0.01845017, 0.04395604],\n       [0.02464789, 0.01762116, 0.05535054, 0.06593406],\n       [0.02112675, 0.02643174, 0.07749078, 0.04029304],\n       [0.02464789, 0.02643174, 0.0295203 , 0.06593406],\n       [0.02816901, 0.02643174, 0.03321034, 0.06227106],\n       [0.02816901, 0.02643174, 0.02583024, 0.06959707],\n       [0.02112675, 0.01762116, 0.04059041, 0.04029304],\n       [0.01408452, 0.01321587, 0.03321034, 0.04395604],\n       [0.01408452, 0.01321587, 0.01476014, 0.03296703],\n       [0.01408452, 0.01321587, 0.05535054, 0.06593406],\n       [0.01408452, 0.00881058, 0.03321034, 0.04395604],\n       [0.00704226, 0.00440529, 0.02583024, 0.02930403],\n       [0.        , 0.00440529, 0.04797047, 0.04395604],\n       [0.        , 0.00440529, 0.05166051, 0.        ],\n       [0.        , 0.        , 0.05166051, 0.04029304],\n       [0.        , 0.        , 0.06273061, 0.04761904],\n       [0.00352111, 0.        , 0.00738007, 0.02564102],\n       [0.00352111, 0.00440529, 0.07011071, 0.05128205],\n       [0.        , 0.        , 0.04428044, 0.05128205],\n       [0.        , 0.        , 0.03321034, 0.04761904],\n       [0.00352111, 0.        , 0.        , 0.03663003]], dtype=float32)"
     },
     "execution_count": 3,
     "metadata": {},
     "output_type": "execute_result"
    }
   ],
   "source": [
    "values=df.values\n",
    "values=values.astype('float32')\n",
    "scaler = MinMaxScaler(feature_range=(0, 1))\n",
    "scaled = scaler.fit_transform(values)\n",
    "scaled"
   ],
   "metadata": {
    "collapsed": false,
    "pycharm": {
     "name": "#%%\n"
    }
   }
  },
  {
   "cell_type": "code",
   "execution_count": 4,
   "outputs": [],
   "source": [
    "#定义series_to_supervised()函数\n",
    "#将时间序列转换为监督学习问题\n",
    "def series_to_supervised(data, n_in=1, n_out=1, dropnan=True):\n",
    "\t\"\"\"\n",
    "\tFrame a time series as a supervised learning dataset.\n",
    "\tArguments:\n",
    "\t\tdata: Sequence of observations as a list or NumPy array.\n",
    "\t\tn_in: Number of lag observations as input (X).\n",
    "\t\tn_out: Number of observations as output (y).\n",
    "\t\tdropnan: Boolean whether or not to drop rows with NaN values.\n",
    "\tReturns:\n",
    "\t\tPandas DataFrame of series framed for supervised learning.\n",
    "\t\"\"\"\n",
    "\tn_vars = 1 if type(data) is list else data.shape[1]\n",
    "\tdf = pd.DataFrame(data)\n",
    "\tcols, names = list(), list()\n",
    "\t# input sequence (t-n, ... t-1)\n",
    "\tfor i in range(n_in, 0, -1):\n",
    "\t\tcols.append(df.shift(i))\n",
    "\t\tnames += [('var%d(t-%d)' % (j+1, i)) for j in range(n_vars)]\n",
    "\t# forecast sequence (t, t+1, ... t+n)\n",
    "\tfor i in range(0, n_out):\n",
    "\t\tcols.append(df.shift(-i))\n",
    "\t\tif i == 0:\n",
    "\t\t\tnames += [('var%d(t)' % (j+1)) for j in range(n_vars)]\n",
    "\t\telse:\n",
    "\t\t\tnames += [('var%d(t+%d)' % (j+1, i)) for j in range(n_vars)]\n",
    "\t# put it all together\n",
    "\tagg = pd.concat(cols, axis=1)\n",
    "\tagg.columns = names\n",
    "\t# drop rows with NaN values\n",
    "\tif dropnan:\n",
    "\t\tagg.dropna(inplace=True)\n",
    "\treturn agg"
   ],
   "metadata": {
    "collapsed": false,
    "pycharm": {
     "name": "#%%\n"
    }
   }
  },
  {
   "cell_type": "code",
   "execution_count": 5,
   "outputs": [
    {
     "data": {
      "text/plain": "     var1(t-1)  var2(t-1)  var3(t-1)  var4(t-1)   var4(t)\n1     0.669014   0.660793   0.638376   0.699634  0.710623\n2     0.718310   0.779736   0.690037   0.710623  0.842491\n3     0.820423   0.806167   0.678967   0.842491  0.996337\n4     0.968310   0.986784   0.892989   0.996337  0.783883\n5     0.919014   0.925110   1.000000   0.783883  0.787546\n..         ...        ...        ...        ...       ...\n120   0.000000   0.000000   0.062731   0.047619  0.025641\n121   0.003521   0.000000   0.007380   0.025641  0.051282\n122   0.003521   0.004405   0.070111   0.051282  0.051282\n123   0.000000   0.000000   0.044280   0.051282  0.047619\n124   0.000000   0.000000   0.033210   0.047619  0.036630\n\n[124 rows x 5 columns]",
      "text/html": "<div>\n<style scoped>\n    .dataframe tbody tr th:only-of-type {\n        vertical-align: middle;\n    }\n\n    .dataframe tbody tr th {\n        vertical-align: top;\n    }\n\n    .dataframe thead th {\n        text-align: right;\n    }\n</style>\n<table border=\"1\" class=\"dataframe\">\n  <thead>\n    <tr style=\"text-align: right;\">\n      <th></th>\n      <th>var1(t-1)</th>\n      <th>var2(t-1)</th>\n      <th>var3(t-1)</th>\n      <th>var4(t-1)</th>\n      <th>var4(t)</th>\n    </tr>\n  </thead>\n  <tbody>\n    <tr>\n      <th>1</th>\n      <td>0.669014</td>\n      <td>0.660793</td>\n      <td>0.638376</td>\n      <td>0.699634</td>\n      <td>0.710623</td>\n    </tr>\n    <tr>\n      <th>2</th>\n      <td>0.718310</td>\n      <td>0.779736</td>\n      <td>0.690037</td>\n      <td>0.710623</td>\n      <td>0.842491</td>\n    </tr>\n    <tr>\n      <th>3</th>\n      <td>0.820423</td>\n      <td>0.806167</td>\n      <td>0.678967</td>\n      <td>0.842491</td>\n      <td>0.996337</td>\n    </tr>\n    <tr>\n      <th>4</th>\n      <td>0.968310</td>\n      <td>0.986784</td>\n      <td>0.892989</td>\n      <td>0.996337</td>\n      <td>0.783883</td>\n    </tr>\n    <tr>\n      <th>5</th>\n      <td>0.919014</td>\n      <td>0.925110</td>\n      <td>1.000000</td>\n      <td>0.783883</td>\n      <td>0.787546</td>\n    </tr>\n    <tr>\n      <th>...</th>\n      <td>...</td>\n      <td>...</td>\n      <td>...</td>\n      <td>...</td>\n      <td>...</td>\n    </tr>\n    <tr>\n      <th>120</th>\n      <td>0.000000</td>\n      <td>0.000000</td>\n      <td>0.062731</td>\n      <td>0.047619</td>\n      <td>0.025641</td>\n    </tr>\n    <tr>\n      <th>121</th>\n      <td>0.003521</td>\n      <td>0.000000</td>\n      <td>0.007380</td>\n      <td>0.025641</td>\n      <td>0.051282</td>\n    </tr>\n    <tr>\n      <th>122</th>\n      <td>0.003521</td>\n      <td>0.004405</td>\n      <td>0.070111</td>\n      <td>0.051282</td>\n      <td>0.051282</td>\n    </tr>\n    <tr>\n      <th>123</th>\n      <td>0.000000</td>\n      <td>0.000000</td>\n      <td>0.044280</td>\n      <td>0.051282</td>\n      <td>0.047619</td>\n    </tr>\n    <tr>\n      <th>124</th>\n      <td>0.000000</td>\n      <td>0.000000</td>\n      <td>0.033210</td>\n      <td>0.047619</td>\n      <td>0.036630</td>\n    </tr>\n  </tbody>\n</table>\n<p>124 rows × 5 columns</p>\n</div>"
     },
     "execution_count": 5,
     "metadata": {},
     "output_type": "execute_result"
    }
   ],
   "source": [
    "reframed = series_to_supervised(scaled, 1, 1)\n",
    "reframed.drop(reframed.columns[[4,5,6]],axis=1,inplace=True)\n",
    "reframed"
   ],
   "metadata": {
    "collapsed": false,
    "pycharm": {
     "name": "#%%\n"
    }
   }
  },
  {
   "cell_type": "code",
   "execution_count": 6,
   "outputs": [
    {
     "name": "stdout",
     "output_type": "stream",
     "text": [
      "(99, 1, 4) (99,)\n",
      "(25, 1, 4) (25,)\n"
     ]
    }
   ],
   "source": [
    "# 划分训练集和测试集\n",
    "values = reframed.values\n",
    "train = np.concatenate([values[:50, :],values[75:,:]])\n",
    "test = values[50:75, :]\n",
    "# 划分训练集和测试集的输入和输出\n",
    "train_X, train_y = train[:, :-1], train[:, -1]\n",
    "test_X, test_y = test[:, :-1], test[:, -1]\n",
    "#转化为三维数据\n",
    "# reshape input to be 3D [samples, timesteps, features]\n",
    "train_X = train_X.reshape((train_X.shape[0], 1, train_X.shape[1]))\n",
    "test_X = test_X.reshape((test_X.shape[0], 1, test_X.shape[1]))\n",
    "print(train_X.shape, train_y.shape)\n",
    "print(test_X.shape, test_y.shape)"
   ],
   "metadata": {
    "collapsed": false,
    "pycharm": {
     "name": "#%%\n"
    }
   }
  },
  {
   "cell_type": "code",
   "execution_count": 7,
   "outputs": [
    {
     "data": {
      "text/plain": "array([[[0.3028169 , 0.35242292, 0.3394834 , 0.34432235]],\n\n       [[0.31338027, 0.35242292, 0.35424355, 0.33333334]],\n\n       [[0.38028166, 0.36563876, 0.36531368, 0.41758242]],\n\n       [[0.38732395, 0.41409692, 0.40590408, 0.36996338]],\n\n       [[0.33802816, 0.30837002, 0.3911439 , 0.2930403 ]],\n\n       [[0.24999997, 0.24669603, 0.302583  , 0.21978024]],\n\n       [[0.2147887 , 0.23348019, 0.2398524 , 0.25641027]],\n\n       [[0.1971831 , 0.16740087, 0.2619926 , 0.16849819]],\n\n       [[0.1338028 , 0.14977977, 0.21033213, 0.13186812]],\n\n       [[0.15140846, 0.15418503, 0.19188192, 0.19413921]],\n\n       [[0.14436617, 0.16740087, 0.21402213, 0.1831502 ]],\n\n       [[0.16197184, 0.18061677, 0.2177122 , 0.19413921]],\n\n       [[0.15492955, 0.15859029, 0.202952  , 0.1794872 ]],\n\n       [[0.1338028 , 0.14537445, 0.19188192, 0.1758242 ]],\n\n       [[0.16549292, 0.14977977, 0.12177122, 0.21611723]],\n\n       [[0.18309858, 0.20264319, 0.17712179, 0.22710624]],\n\n       [[0.20070425, 0.18942735, 0.24723247, 0.21245423]],\n\n       [[0.21126762, 0.18502203, 0.15129152, 0.20146522]],\n\n       [[0.20070425, 0.22026435, 0.21033213, 0.24175826]],\n\n       [[0.18309858, 0.14977977, 0.19188192, 0.16849819]],\n\n       [[0.12323943, 0.14096919, 0.16605166, 0.16483518]],\n\n       [[0.16197184, 0.15418503, 0.15498152, 0.21978024]],\n\n       [[0.16197184, 0.14096919, 0.16236159, 0.15384617]],\n\n       [[0.13028166, 0.14977977, 0.17343172, 0.16849819]],\n\n       [[0.16901407, 0.1629956 , 0.18819186, 0.16483518]]], dtype=float32)"
     },
     "execution_count": 7,
     "metadata": {},
     "output_type": "execute_result"
    }
   ],
   "source": [
    "test_X"
   ],
   "metadata": {
    "collapsed": false,
    "pycharm": {
     "name": "#%%\n"
    }
   }
  },
  {
   "cell_type": "code",
   "execution_count": 8,
   "outputs": [
    {
     "name": "stdout",
     "output_type": "stream",
     "text": [
      "Epoch 1/50\n"
     ]
    },
    {
     "name": "stderr",
     "output_type": "stream",
     "text": [
      "D:\\zzyAnaconda\\lib\\site-packages\\keras\\src\\layers\\rnn\\rnn.py:204: UserWarning: Do not pass an `input_shape`/`input_dim` argument to a layer. When using Sequential models, prefer using an `Input(shape)` object as the first layer in the model instead.\n",
      "  super().__init__(**kwargs)\n"
     ]
    },
    {
     "name": "stdout",
     "output_type": "stream",
     "text": [
      "7/7 - 1s - 199ms/step - loss: 0.4127 - val_loss: 0.1869\n",
      "Epoch 2/50\n",
      "7/7 - 0s - 6ms/step - loss: 0.3799 - val_loss: 0.1584\n",
      "Epoch 3/50\n",
      "7/7 - 0s - 7ms/step - loss: 0.3422 - val_loss: 0.1312\n",
      "Epoch 4/50\n",
      "7/7 - 0s - 7ms/step - loss: 0.3119 - val_loss: 0.1084\n",
      "Epoch 5/50\n",
      "7/7 - 0s - 7ms/step - loss: 0.2902 - val_loss: 0.0882\n",
      "Epoch 6/50\n",
      "7/7 - 0s - 6ms/step - loss: 0.2571 - val_loss: 0.0708\n",
      "Epoch 7/50\n",
      "7/7 - 0s - 6ms/step - loss: 0.2299 - val_loss: 0.0550\n",
      "Epoch 8/50\n",
      "7/7 - 0s - 7ms/step - loss: 0.2108 - val_loss: 0.0440\n",
      "Epoch 9/50\n",
      "7/7 - 0s - 7ms/step - loss: 0.1840 - val_loss: 0.0370\n",
      "Epoch 10/50\n",
      "7/7 - 0s - 6ms/step - loss: 0.1696 - val_loss: 0.0360\n",
      "Epoch 11/50\n",
      "7/7 - 0s - 6ms/step - loss: 0.1470 - val_loss: 0.0376\n",
      "Epoch 12/50\n",
      "7/7 - 0s - 7ms/step - loss: 0.1175 - val_loss: 0.0414\n",
      "Epoch 13/50\n",
      "7/7 - 0s - 7ms/step - loss: 0.1041 - val_loss: 0.0445\n",
      "Epoch 14/50\n",
      "7/7 - 0s - 7ms/step - loss: 0.1099 - val_loss: 0.0463\n",
      "Epoch 15/50\n",
      "7/7 - 0s - 6ms/step - loss: 0.0947 - val_loss: 0.0452\n",
      "Epoch 16/50\n",
      "7/7 - 0s - 6ms/step - loss: 0.0963 - val_loss: 0.0415\n",
      "Epoch 17/50\n",
      "7/7 - 0s - 6ms/step - loss: 0.0934 - val_loss: 0.0394\n",
      "Epoch 18/50\n",
      "7/7 - 0s - 7ms/step - loss: 0.0865 - val_loss: 0.0378\n",
      "Epoch 19/50\n",
      "7/7 - 0s - 6ms/step - loss: 0.0895 - val_loss: 0.0358\n",
      "Epoch 20/50\n",
      "7/7 - 0s - 7ms/step - loss: 0.0909 - val_loss: 0.0351\n",
      "Epoch 21/50\n",
      "7/7 - 0s - 6ms/step - loss: 0.0804 - val_loss: 0.0349\n",
      "Epoch 22/50\n",
      "7/7 - 0s - 7ms/step - loss: 0.0838 - val_loss: 0.0356\n",
      "Epoch 23/50\n",
      "7/7 - 0s - 7ms/step - loss: 0.0900 - val_loss: 0.0365\n",
      "Epoch 24/50\n",
      "7/7 - 0s - 6ms/step - loss: 0.0801 - val_loss: 0.0379\n",
      "Epoch 25/50\n",
      "7/7 - 0s - 7ms/step - loss: 0.0759 - val_loss: 0.0398\n",
      "Epoch 26/50\n",
      "7/7 - 0s - 6ms/step - loss: 0.0897 - val_loss: 0.0404\n",
      "Epoch 27/50\n",
      "7/7 - 0s - 7ms/step - loss: 0.0824 - val_loss: 0.0385\n",
      "Epoch 28/50\n",
      "7/7 - 0s - 6ms/step - loss: 0.0792 - val_loss: 0.0380\n",
      "Epoch 29/50\n",
      "7/7 - 0s - 7ms/step - loss: 0.0784 - val_loss: 0.0378\n",
      "Epoch 30/50\n",
      "7/7 - 0s - 6ms/step - loss: 0.0719 - val_loss: 0.0377\n",
      "Epoch 31/50\n",
      "7/7 - 0s - 6ms/step - loss: 0.0842 - val_loss: 0.0381\n",
      "Epoch 32/50\n",
      "7/7 - 0s - 6ms/step - loss: 0.0795 - val_loss: 0.0379\n",
      "Epoch 33/50\n",
      "7/7 - 0s - 7ms/step - loss: 0.0761 - val_loss: 0.0375\n",
      "Epoch 34/50\n",
      "7/7 - 0s - 6ms/step - loss: 0.0720 - val_loss: 0.0375\n",
      "Epoch 35/50\n",
      "7/7 - 0s - 6ms/step - loss: 0.0880 - val_loss: 0.0374\n",
      "Epoch 36/50\n",
      "7/7 - 0s - 6ms/step - loss: 0.0763 - val_loss: 0.0372\n",
      "Epoch 37/50\n",
      "7/7 - 0s - 6ms/step - loss: 0.0763 - val_loss: 0.0376\n",
      "Epoch 38/50\n",
      "7/7 - 0s - 7ms/step - loss: 0.0835 - val_loss: 0.0378\n",
      "Epoch 39/50\n",
      "7/7 - 0s - 7ms/step - loss: 0.0832 - val_loss: 0.0380\n",
      "Epoch 40/50\n",
      "7/7 - 0s - 6ms/step - loss: 0.0793 - val_loss: 0.0379\n",
      "Epoch 41/50\n",
      "7/7 - 0s - 7ms/step - loss: 0.0768 - val_loss: 0.0385\n",
      "Epoch 42/50\n",
      "7/7 - 0s - 7ms/step - loss: 0.0846 - val_loss: 0.0378\n",
      "Epoch 43/50\n",
      "7/7 - 0s - 6ms/step - loss: 0.0802 - val_loss: 0.0370\n",
      "Epoch 44/50\n",
      "7/7 - 0s - 8ms/step - loss: 0.0770 - val_loss: 0.0377\n",
      "Epoch 45/50\n",
      "7/7 - 0s - 7ms/step - loss: 0.0881 - val_loss: 0.0397\n",
      "Epoch 46/50\n",
      "7/7 - 0s - 6ms/step - loss: 0.0708 - val_loss: 0.0394\n",
      "Epoch 47/50\n",
      "7/7 - 0s - 7ms/step - loss: 0.0744 - val_loss: 0.0384\n",
      "Epoch 48/50\n",
      "7/7 - 0s - 6ms/step - loss: 0.0697 - val_loss: 0.0371\n",
      "Epoch 49/50\n",
      "7/7 - 0s - 7ms/step - loss: 0.0827 - val_loss: 0.0366\n",
      "Epoch 50/50\n",
      "7/7 - 0s - 6ms/step - loss: 0.0684 - val_loss: 0.0372\n"
     ]
    },
    {
     "data": {
      "text/plain": "<Figure size 720x432 with 1 Axes>",
      "image/png": "[encoded data removed]"
     },
     "metadata": {
      "needs_background": "light"
     },
     "output_type": "display_data"
    }
   ],
   "source": [
    "# 搭建LSTM模型\n",
    "model = Sequential()\n",
    "model.add(LSTM(32, input_shape=(train_X.shape[1], train_X.shape[2])))\n",
    "model.add(Dropout(0.2))\n",
    "model.add(Dense(1,activation='relu'))\n",
    "model.compile(loss='mae', optimizer='adam')\n",
    "# fit network\n",
    "history = model.fit(train_X, train_y, epochs=50, batch_size=16, validation_data=(test_X, test_y), verbose=2,shuffle=False)\n",
    "\n",
    "# 绘制损失图\n",
    "plt.figure(figsize=(10, 6))\n",
    "plt.plot(history.history['loss'], label='train')\n",
    "plt.plot(history.history['val_loss'], label='test')\n",
    "plt.title('jpmorgan train and test LSTM loss', fontsize='12')\n",
    "plt.ylabel('loss', fontsize='10')\n",
    "plt.xlabel('epoch', fontsize='10')\n",
    "plt.legend()\n",
    "plt.show()"
   ],
   "metadata": {
    "collapsed": false,
    "pycharm": {
     "name": "#%%\n"
    }
   }
  },
  {
   "cell_type": "code",
   "execution_count": 9,
   "outputs": [
    {
     "name": "stdout",
     "output_type": "stream",
     "text": [
      "\u001B[1m1/1\u001B[0m \u001B[32m━━━━━━━━━━━━━━━━━━━━\u001B[0m\u001B[37m\u001B[0m \u001B[1m0s\u001B[0m 108ms/step\n"
     ]
    }
   ],
   "source": [
    "#模型预测收益率\n",
    "y_predict = model.predict(test_X)\n",
    "test_X = test_X.reshape((test_X.shape[0], test_X.shape[2]))"
   ],
   "metadata": {
    "collapsed": false,
    "pycharm": {
     "name": "#%%\n"
    }
   }
  },
  {
   "cell_type": "code",
   "execution_count": 10,
   "outputs": [
    {
     "name": "stdout",
     "output_type": "stream",
     "text": [
      "反归一化后的预测结果： [183.88777 184.68697 195.90031 199.14178 182.54828 163.27267 159.00937\n",
      " 149.12976 139.20012 143.25987 144.24681 147.10089 143.50119 140.49496\n",
      " 141.50641 149.82355 152.745   147.49413 154.7678  143.41628 137.59212\n",
      " 143.51414 139.13959 139.22406 143.07265]\n",
      "反归一化后的真实结果： [188. 211. 198. 177. 157. 167. 143. 133. 150. 147. 150. 146. 145. 156.\n",
      " 159. 155. 152. 163. 143. 142. 157. 139. 143. 142. 160.]\n"
     ]
    }
   ],
   "source": [
    "# invert scaling for forecast\n",
    "#将预测结果按比例反归一化\n",
    "inv_y_test = np.concatenate((test_X[:, :3],y_predict), axis=1)\n",
    "inv_y_test = scaler.inverse_transform(inv_y_test)\n",
    "inv_y_predict=inv_y_test[:,-1]\n",
    "\n",
    "# invert scaling for actual\n",
    "#将真实结果按比例反归一化\n",
    "test_y = test_y.reshape((len(test_y), 1))\n",
    "inv_y_train = np.concatenate((test_X[:, :3],test_y), axis=1)\n",
    "inv_y_train = scaler.inverse_transform(inv_y_train)\n",
    "inv_y = inv_y_train[:, -1]\n",
    "print('反归一化后的预测结果：',inv_y_predict)\n",
    "print('反归一化后的真实结果：',inv_y)"
   ],
   "metadata": {
    "collapsed": false,
    "pycharm": {
     "name": "#%%\n"
    }
   }
  },
  {
   "cell_type": "code",
   "execution_count": 11,
   "outputs": [
    {
     "data": {
      "text/plain": "<Figure size 432x288 with 1 Axes>",
      "image/png": "[encoded data removed]"
     },
     "metadata": {
      "needs_background": "light"
     },
     "output_type": "display_data"
    }
   ],
   "source": [
    "plt.plot(inv_y,color='red',label='Original')\n",
    "plt.plot(inv_y_predict,color='green',label='Predict')\n",
    "plt.xlabel('the number of test data')\n",
    "plt.ylabel('close_price')\n",
    "plt.title('TEST')\n",
    "plt.legend()\n",
    "plt.show()"
   ],
   "metadata": {
    "collapsed": false,
    "pycharm": {
     "name": "#%%\n"
    }
   }
  },
  {
   "cell_type": "code",
   "execution_count": 13,
   "outputs": [
    {
     "name": "stderr",
     "output_type": "stream",
     "text": [
      "D:\\zzyAnaconda\\lib\\site-packages\\IPython\\core\\pylabtools.py:151: UserWarning: Glyph 25439 (\\N{CJK UNIFIED IDEOGRAPH-635F}) missing from current font.\n",
      "  fig.canvas.print_figure(bytes_io, **kw)\n",
      "D:\\zzyAnaconda\\lib\\site-packages\\IPython\\core\\pylabtools.py:151: UserWarning: Glyph 22833 (\\N{CJK UNIFIED IDEOGRAPH-5931}) missing from current font.\n",
      "  fig.canvas.print_figure(bytes_io, **kw)\n"
     ]
    },
    {
     "data": {
      "text/plain": "<Figure size 576x360 with 1 Axes>",
      "image/png": "[encoded data removed]"
     },
     "metadata": {
      "needs_background": "light"
     },
     "output_type": "display_data"
    }
   ],
   "source": [
    "import matplotlib.pyplot as plt\n",
    "\n",
    "# 假设 history 是模型训练过程的历史记录\n",
    "# 提取训练损失和验证损失\n",
    "train_loss = history.history['loss']\n",
    "val_loss = history.history.get('val_loss', [])  # 如果有验证损失的话\n",
    "\n",
    "# 创建损失变化图的横坐标，即每个epoch的编号\n",
    "epochs_range = range(1, len(train_loss) + 1)\n",
    "\n",
    "# 绘图\n",
    "plt.figure(figsize=(8, 5))\n",
    "plt.plot(epochs_range, train_loss, label='train loss')\n",
    "if val_loss:  # 如果有验证集损失\n",
    "    plt.plot(epochs_range, val_loss, label='val loss')\n",
    "\n",
    "plt.title('train and validation loss')\n",
    "plt.xlabel('Epochs')\n",
    "plt.ylabel('损失')\n",
    "plt.legend()\n",
    "plt.show()"
   ],
   "metadata": {
    "collapsed": false,
    "pycharm": {
     "name": "#%%\n"
    }
   }
  },
  {
   "cell_type": "code",
   "execution_count": 12,
   "outputs": [
    {
     "name": "stdout",
     "output_type": "stream",
     "text": [
      "MSE: 168.604095\n",
      "RMSE: 12.984764\n",
      "MAE: 10.162806\n",
      "R_square: 0.506303\n"
     ]
    }
   ],
   "source": [
    "from sklearn.metrics import mean_squared_error, mean_absolute_error, r2_score\n",
    "\n",
    "#回归评价指标\n",
    "# calculate MSE 均方误差\n",
    "mse=mean_squared_error(inv_y,inv_y_predict)\n",
    "# calculate RMSE 均方根误差\n",
    "rmse = np.sqrt(mean_squared_error(inv_y, inv_y_predict))\n",
    "#calculate MAE 平均绝对误差\n",
    "mae=mean_absolute_error(inv_y,inv_y_predict)\n",
    "#calculate R square\n",
    "r_square=r2_score(inv_y,inv_y_predict)\n",
    "print('MSE: %.6f' % mse)\n",
    "print('RMSE: %.6f' % rmse)\n",
    "print('MAE: %.6f' % mae)\n",
    "print('R_square: %.6f' % r_square)"
   ],
   "metadata": {
    "collapsed": false,
    "pycharm": {
     "name": "#%%\n"
    }
   }
  },
  {
   "cell_type": "code",
   "execution_count": 13,
   "outputs": [],
   "source": [],
   "metadata": {
    "collapsed": false,
    "pycharm": {
     "name": "#%%\n"
    }
   }
  }
 ],
 "metadata": {
  "kernelspec": {
   "display_name": "Python 3",
   "language": "python",
   "name": "python3"
  },
  "language_info": {
   "codemirror_mode": {
    "name": "ipython",
    "version": 2
   },
   "file_extension": ".py",
   "mimetype": "text/x-python",
   "name": "python",
   "nbconvert_exporter": "python",
   "pygments_lexer": "ipython2",
   "version": "2.7.6"
  }
 },
 "nbformat": 4,
 "nbformat_minor": 0
}