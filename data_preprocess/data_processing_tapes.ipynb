{
 "cells": [
  {
   "cell_type": "code",
   "execution_count": 4,
   "outputs": [],
   "source": [
    "import os\n",
    "import re\n",
    "import pandas as pd\n",
    "import numpy as np"
   ],
   "metadata": {
    "collapsed": false,
    "pycharm": {
     "name": "#%%\n"
    }
   }
  },
  {
   "cell_type": "code",
   "execution_count": 5,
   "outputs": [
    {
     "data": {
      "text/plain": "['UoB_Set01_2025-01-02tapes.csv',\n 'UoB_Set01_2025-01-03tapes.csv',\n 'UoB_Set01_2025-01-06tapes.csv',\n 'UoB_Set01_2025-01-07tapes.csv',\n 'UoB_Set01_2025-01-08tapes.csv']"
     },
     "execution_count": 5,
     "metadata": {},
     "output_type": "execute_result"
    }
   ],
   "source": [
    "dir_path = r\"E:/mini project bristol/JPMorgan_Set01/JPMorgan_Set01/Tapes\"\n",
    "file_ls = os.listdir(dir_path)  #get every name of the file\n",
    "file_ls[:5]"
   ],
   "metadata": {
    "collapsed": false,
    "pycharm": {
     "name": "#%%\n"
    }
   }
  },
  {
   "cell_type": "code",
   "execution_count": 6,
   "outputs": [
    {
     "data": {
      "text/plain": "125"
     },
     "execution_count": 6,
     "metadata": {},
     "output_type": "execute_result"
    }
   ],
   "source": [
    "len(file_ls)"
   ],
   "metadata": {
    "collapsed": false,
    "pycharm": {
     "name": "#%%\n"
    }
   }
  },
  {
   "cell_type": "code",
   "execution_count": 7,
   "outputs": [],
   "source": [
    "#found the max and min deal price\n",
    "def detailprice(name):\n",
    "    tapes=pd.read_csv(r\"E:/mini project bristol/JPMorgan_Set01/JPMorgan_Set01/Tapes/\"+name+\"\",header=None,names=[\"Times\",\"price\",\"volume\"])\n",
    "    tapes['price'] = pd.to_numeric(tapes['price'], errors='coerce')\n",
    "    max_price=max(tapes.price)\n",
    "    min_price=min(tapes.price)\n",
    "    open_price=tapes[\"price\"].iloc[0]\n",
    "    close_price=tapes[\"price\"].iloc[-1]\n",
    "    return max_price,min_price,open_price,close_price"
   ],
   "metadata": {
    "collapsed": false,
    "pycharm": {
     "name": "#%%\n"
    }
   }
  },
  {
   "cell_type": "code",
   "execution_count": 8,
   "outputs": [
    {
     "data": {
      "text/plain": "list"
     },
     "execution_count": 8,
     "metadata": {},
     "output_type": "execute_result"
    }
   ],
   "source": [
    "max_price=[]\n",
    "min_price=[]\n",
    "open_price=[]\n",
    "close_price=[]\n",
    "for i in file_ls:\n",
    "    max_price.append(detailprice(i)[0])\n",
    "    min_price.append(detailprice(i)[1])\n",
    "    open_price.append(detailprice(i)[2])\n",
    "    close_price.append(detailprice(i)[3])\n",
    "type(max_price)"
   ],
   "metadata": {
    "collapsed": false,
    "pycharm": {
     "name": "#%%\n"
    }
   }
  },
  {
   "cell_type": "code",
   "execution_count": 9,
   "outputs": [],
   "source": [
    "data_pattern=r'\\d{4}-\\d{2}-\\d{2}'# found the date in the file\n",
    "date=[]\n",
    "for i in file_ls:\n",
    "    match=re.search(data_pattern,i)\n",
    "    date.append(match.group())\n",
    "date=pd.to_datetime(date)\n"
   ],
   "metadata": {
    "collapsed": false,
    "pycharm": {
     "name": "#%%\n"
    }
   }
  },
  {
   "cell_type": "code",
   "execution_count": 14,
   "outputs": [
    {
     "data": {
      "text/plain": "        date  max_price  min_price  open_price  close_price\n0 2025-01-02        303        243         267          288\n1 2025-01-03        317        270         281          291\n2 2025-01-06        346        276         278          327\n3 2025-01-07        388        317         336          369\n4 2025-01-08        374        303         365          311",
      "text/html": "<div>\n<style scoped>\n    .dataframe tbody tr th:only-of-type {\n        vertical-align: middle;\n    }\n\n    .dataframe tbody tr th {\n        vertical-align: top;\n    }\n\n    .dataframe thead th {\n        text-align: right;\n    }\n</style>\n<table border=\"1\" class=\"dataframe\">\n  <thead>\n    <tr style=\"text-align: right;\">\n      <th></th>\n      <th>date</th>\n      <th>max_price</th>\n      <th>min_price</th>\n      <th>open_price</th>\n      <th>close_price</th>\n    </tr>\n  </thead>\n  <tbody>\n    <tr>\n      <th>0</th>\n      <td>2025-01-02</td>\n      <td>303</td>\n      <td>243</td>\n      <td>267</td>\n      <td>288</td>\n    </tr>\n    <tr>\n      <th>1</th>\n      <td>2025-01-03</td>\n      <td>317</td>\n      <td>270</td>\n      <td>281</td>\n      <td>291</td>\n    </tr>\n    <tr>\n      <th>2</th>\n      <td>2025-01-06</td>\n      <td>346</td>\n      <td>276</td>\n      <td>278</td>\n      <td>327</td>\n    </tr>\n    <tr>\n      <th>3</th>\n      <td>2025-01-07</td>\n      <td>388</td>\n      <td>317</td>\n      <td>336</td>\n      <td>369</td>\n    </tr>\n    <tr>\n      <th>4</th>\n      <td>2025-01-08</td>\n      <td>374</td>\n      <td>303</td>\n      <td>365</td>\n      <td>311</td>\n    </tr>\n  </tbody>\n</table>\n</div>"
     },
     "execution_count": 14,
     "metadata": {},
     "output_type": "execute_result"
    }
   ],
   "source": [
    "file_ls_series = pd.Series(file_ls)\n",
    "results_df=[]\n",
    "def apply_detailprice(filename):\n",
    "    return detailprice(filename)  # Make sure that this function returns a tuple or list of four values\n",
    "\n",
    "results_df = file_ls_series.apply(apply_detailprice).apply(pd.Series)\n",
    "results_df.columns = ['max_price', 'min_price', 'open_price', 'close_price']\n",
    "date=pd.Series(date)\n",
    "results_df.insert(0,\"date\",date)\n",
    "results_df.head(5)\n",
    "\n"
   ],
   "metadata": {
    "collapsed": false,
    "pycharm": {
     "name": "#%%\n"
    }
   }
  },
  {
   "cell_type": "code",
   "execution_count": 15,
   "outputs": [
    {
     "data": {
      "text/plain": "        date\n0 2025-01-02\n1 2025-01-03\n2 2025-01-04\n3 2025-01-05\n4 2025-01-06",
      "text/html": "<div>\n<style scoped>\n    .dataframe tbody tr th:only-of-type {\n        vertical-align: middle;\n    }\n\n    .dataframe tbody tr th {\n        vertical-align: top;\n    }\n\n    .dataframe thead th {\n        text-align: right;\n    }\n</style>\n<table border=\"1\" class=\"dataframe\">\n  <thead>\n    <tr style=\"text-align: right;\">\n      <th></th>\n      <th>date</th>\n    </tr>\n  </thead>\n  <tbody>\n    <tr>\n      <th>0</th>\n      <td>2025-01-02</td>\n    </tr>\n    <tr>\n      <th>1</th>\n      <td>2025-01-03</td>\n    </tr>\n    <tr>\n      <th>2</th>\n      <td>2025-01-04</td>\n    </tr>\n    <tr>\n      <th>3</th>\n      <td>2025-01-05</td>\n    </tr>\n    <tr>\n      <th>4</th>\n      <td>2025-01-06</td>\n    </tr>\n  </tbody>\n</table>\n</div>"
     },
     "execution_count": 15,
     "metadata": {},
     "output_type": "execute_result"
    }
   ],
   "source": [
    "start_date,end_date=date.min(),date.max()# create a new dataframe which have all date in this range\n",
    "date_range=pd.date_range(start=start_date,end=end_date)\n",
    "date_range=pd.Series(date_range)\n",
    "df_full = pd.DataFrame(date_range, columns=['date'])\n",
    "df_full.head(5)"
   ],
   "metadata": {
    "collapsed": false,
    "pycharm": {
     "name": "#%%\n"
    }
   }
  },
  {
   "cell_type": "code",
   "execution_count": 16,
   "outputs": [
    {
     "data": {
      "text/plain": "        date  max_price  min_price  open_price  close_price\n0 2025-01-02      303.0      243.0       267.0        288.0\n1 2025-01-03      317.0      270.0       281.0        291.0\n2 2025-01-04        NaN        NaN         NaN          NaN\n3 2025-01-05        NaN        NaN         NaN          NaN\n4 2025-01-06      346.0      276.0       278.0        327.0",
      "text/html": "<div>\n<style scoped>\n    .dataframe tbody tr th:only-of-type {\n        vertical-align: middle;\n    }\n\n    .dataframe tbody tr th {\n        vertical-align: top;\n    }\n\n    .dataframe thead th {\n        text-align: right;\n    }\n</style>\n<table border=\"1\" class=\"dataframe\">\n  <thead>\n    <tr style=\"text-align: right;\">\n      <th></th>\n      <th>date</th>\n      <th>max_price</th>\n      <th>min_price</th>\n      <th>open_price</th>\n      <th>close_price</th>\n    </tr>\n  </thead>\n  <tbody>\n    <tr>\n      <th>0</th>\n      <td>2025-01-02</td>\n      <td>303.0</td>\n      <td>243.0</td>\n      <td>267.0</td>\n      <td>288.0</td>\n    </tr>\n    <tr>\n      <th>1</th>\n      <td>2025-01-03</td>\n      <td>317.0</td>\n      <td>270.0</td>\n      <td>281.0</td>\n      <td>291.0</td>\n    </tr>\n    <tr>\n      <th>2</th>\n      <td>2025-01-04</td>\n      <td>NaN</td>\n      <td>NaN</td>\n      <td>NaN</td>\n      <td>NaN</td>\n    </tr>\n    <tr>\n      <th>3</th>\n      <td>2025-01-05</td>\n      <td>NaN</td>\n      <td>NaN</td>\n      <td>NaN</td>\n      <td>NaN</td>\n    </tr>\n    <tr>\n      <th>4</th>\n      <td>2025-01-06</td>\n      <td>346.0</td>\n      <td>276.0</td>\n      <td>278.0</td>\n      <td>327.0</td>\n    </tr>\n  </tbody>\n</table>\n</div>"
     },
     "execution_count": 16,
     "metadata": {},
     "output_type": "execute_result"
    }
   ],
   "source": [
    "df_merged=pd.merge(df_full,results_df,on=\"date\",how=\"left\")# left join 2 df\n",
    "df_merged.head(5)"
   ],
   "metadata": {
    "collapsed": false,
    "pycharm": {
     "name": "#%%\n"
    }
   }
  },
  {
   "cell_type": "code",
   "execution_count": 19,
   "outputs": [],
   "source": [
    "df_merged.to_csv(\"E:/mini project bristol/processed data(LOBS,tapes)/processed_tapes.csv\")"
   ],
   "metadata": {
    "collapsed": false,
    "pycharm": {
     "name": "#%%\n"
    }
   }
  },
  {
   "cell_type": "code",
   "execution_count": null,
   "outputs": [],
   "source": [],
   "metadata": {
    "collapsed": false,
    "pycharm": {
     "name": "#%%\n"
    }
   }
  }
 ],
 "metadata": {
  "kernelspec": {
   "display_name": "Python 3",
   "language": "python",
   "name": "python3"
  },
  "language_info": {
   "codemirror_mode": {
    "name": "ipython",
    "version": 2
   },
   "file_extension": ".py",
   "mimetype": "text/x-python",
   "name": "python",
   "nbconvert_exporter": "python",
   "pygments_lexer": "ipython2",
   "version": "2.7.6"
  }
 },
 "nbformat": 4,
 "nbformat_minor": 0
}