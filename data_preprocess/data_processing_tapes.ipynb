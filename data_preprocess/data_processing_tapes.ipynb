{
 "cells": [
  {
   "cell_type": "code",
   "execution_count": 1,
   "outputs": [],
   "source": [
    "import pandas as pd\n",
    "import numpy as np"
   ],
   "metadata": {
    "collapsed": false,
    "pycharm": {
     "name": "#%%\n"
    }
   }
  },
  {
   "cell_type": "code",
   "execution_count": 7,
   "outputs": [
    {
     "data": {
      "text/plain": "           Times  price  number\n0         10.881    267       1\n1         11.067    269       1\n2         11.222    267       2\n3         12.338    270       2\n4         13.733    267       3\n...          ...    ...     ...\n23806  30598.085    287       2\n23807  30598.085    288       2\n23808  30599.108    292       1\n23809  30599.728    290       1\n23810  30599.728    288       1\n\n[23811 rows x 3 columns]",
      "text/html": "<div>\n<style scoped>\n    .dataframe tbody tr th:only-of-type {\n        vertical-align: middle;\n    }\n\n    .dataframe tbody tr th {\n        vertical-align: top;\n    }\n\n    .dataframe thead th {\n        text-align: right;\n    }\n</style>\n<table border=\"1\" class=\"dataframe\">\n  <thead>\n    <tr style=\"text-align: right;\">\n      <th></th>\n      <th>Times</th>\n      <th>price</th>\n      <th>number</th>\n    </tr>\n  </thead>\n  <tbody>\n    <tr>\n      <th>0</th>\n      <td>10.881</td>\n      <td>267</td>\n      <td>1</td>\n    </tr>\n    <tr>\n      <th>1</th>\n      <td>11.067</td>\n      <td>269</td>\n      <td>1</td>\n    </tr>\n    <tr>\n      <th>2</th>\n      <td>11.222</td>\n      <td>267</td>\n      <td>2</td>\n    </tr>\n    <tr>\n      <th>3</th>\n      <td>12.338</td>\n      <td>270</td>\n      <td>2</td>\n    </tr>\n    <tr>\n      <th>4</th>\n      <td>13.733</td>\n      <td>267</td>\n      <td>3</td>\n    </tr>\n    <tr>\n      <th>...</th>\n      <td>...</td>\n      <td>...</td>\n      <td>...</td>\n    </tr>\n    <tr>\n      <th>23806</th>\n      <td>30598.085</td>\n      <td>287</td>\n      <td>2</td>\n    </tr>\n    <tr>\n      <th>23807</th>\n      <td>30598.085</td>\n      <td>288</td>\n      <td>2</td>\n    </tr>\n    <tr>\n      <th>23808</th>\n      <td>30599.108</td>\n      <td>292</td>\n      <td>1</td>\n    </tr>\n    <tr>\n      <th>23809</th>\n      <td>30599.728</td>\n      <td>290</td>\n      <td>1</td>\n    </tr>\n    <tr>\n      <th>23810</th>\n      <td>30599.728</td>\n      <td>288</td>\n      <td>1</td>\n    </tr>\n  </tbody>\n</table>\n<p>23811 rows × 3 columns</p>\n</div>"
     },
     "execution_count": 7,
     "metadata": {},
     "output_type": "execute_result"
    }
   ],
   "source": [
    "tapes=pd.read_csv(\"E:/mini project bristol/JPMorgan_Set01/JPMorgan_Set01/Tapes/UoB_Set01_2025-01-02tapes.csv\",header=None,names=[\"Times\",\"price\",\"number\"])\n",
    "tapes"
   ],
   "metadata": {
    "collapsed": false,
    "pycharm": {
     "name": "#%%\n"
    }
   }
  },
  {
   "cell_type": "code",
   "execution_count": null,
   "outputs": [],
   "source": [],
   "metadata": {
    "collapsed": false,
    "pycharm": {
     "name": "#%%\n"
    }
   }
  }
 ],
 "metadata": {
  "kernelspec": {
   "display_name": "Python 3",
   "language": "python",
   "name": "python3"
  },
  "language_info": {
   "codemirror_mode": {
    "name": "ipython",
    "version": 2
   },
   "file_extension": ".py",
   "mimetype": "text/x-python",
   "name": "python",
   "nbconvert_exporter": "python",
   "pygments_lexer": "ipython2",
   "version": "2.7.6"
  }
 },
 "nbformat": 4,
 "nbformat_minor": 0
}