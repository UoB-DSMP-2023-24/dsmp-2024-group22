{
 "cells": [
  {
   "cell_type": "code",
   "execution_count": 15,
   "outputs": [],
   "source": [
    "import os\n",
    "import re\n",
    "import pandas as pd\n",
    "import numpy as np"
   ],
   "metadata": {
    "collapsed": false,
    "pycharm": {
     "name": "#%%\n"
    }
   }
  },
  {
   "cell_type": "code",
   "execution_count": 16,
   "outputs": [
    {
     "data": {
      "text/plain": "['UoB_Set01_2025-01-02tapes.csv',\n 'UoB_Set01_2025-01-03tapes.csv',\n 'UoB_Set01_2025-01-06tapes.csv',\n 'UoB_Set01_2025-01-07tapes.csv',\n 'UoB_Set01_2025-01-08tapes.csv']"
     },
     "execution_count": 16,
     "metadata": {},
     "output_type": "execute_result"
    }
   ],
   "source": [
    "dir_path = r\"E:\\BRISTOL COURSE\\TB2\\mini project bristol\\JPMorgan_Set01\\Tapes\"\n",
    "file_ls = os.listdir(dir_path)  #get every name of the file\n",
    "file_ls[:5]"
   ],
   "metadata": {
    "collapsed": false,
    "pycharm": {
     "name": "#%%\n"
    }
   }
  },
  {
   "cell_type": "code",
   "execution_count": 17,
   "outputs": [
    {
     "data": {
      "text/plain": "125"
     },
     "execution_count": 17,
     "metadata": {},
     "output_type": "execute_result"
    }
   ],
   "source": [
    "len(file_ls)"
   ],
   "metadata": {
    "collapsed": false,
    "pycharm": {
     "name": "#%%\n"
    }
   }
  },
  {
   "cell_type": "code",
   "execution_count": 68,
   "outputs": [],
   "source": [
    "#found the max and min deal price\n",
    "def detailprice(name):\n",
    "    date=[]\n",
    "    segments = []\n",
    "    tapes = pd.read_csv(r\"E:/BRISTOL COURSE/TB2/mini project bristol/JPMorgan_Set01/Tapes/\" + name + \"\", header=None,\n",
    "                        names=[\"Times\", \"price\", \"volume\"])\n",
    "    tapes['price'] = pd.to_numeric(tapes['price'], errors='coerce')\n",
    "    segment_size = len(tapes) // 50\n",
    "    data_pattern = r'\\d{4}-\\d{2}-\\d{2}'\n",
    "    match = re.search(data_pattern, name)\n",
    "    date.append(match.group())\n",
    "    for i in range(50):\n",
    "        start_idx = i * segment_size\n",
    "        # 对于最后一个段，取所有剩余的数据点\n",
    "        end_idx = start_idx + segment_size if i < 49 else len(tapes)\n",
    "\n",
    "        segment = tapes.iloc[start_idx:end_idx]\n",
    "        max_price = segment['price'].max()\n",
    "        min_price = segment['price'].min()\n",
    "        open_price = segment['price'].iloc[0]\n",
    "        close_price = segment['price'].iloc[-1]\n",
    "        segments.append({\n",
    "            'period': date[0]+f\"-{i+1}\",\n",
    "            'max_price': max_price,\n",
    "            'min_price': min_price,\n",
    "            'open_price': open_price,\n",
    "            'close_price': close_price\n",
    "        })\n",
    "        segments_df = pd.DataFrame(segments)\n",
    "    return segments_df"
   ],
   "metadata": {
    "collapsed": false,
    "pycharm": {
     "name": "#%%\n"
    }
   }
  },
  {
   "cell_type": "code",
   "execution_count": 69,
   "outputs": [
    {
     "data": {
      "text/plain": "             period  max_price  min_price  open_price  close_price\n0      2025-01-02-1        270        249         267          261\n1      2025-01-02-2        269        248         264          266\n2      2025-01-02-3        270        248         269          254\n3      2025-01-02-4        269        247         255          265\n4      2025-01-02-5        267        247         262          261\n...             ...        ...        ...         ...          ...\n6245  2025-07-01-46        113         93         109          110\n6246  2025-07-01-47        113         93         109          109\n6247  2025-07-01-48        113         93         109          107\n6248  2025-07-01-49        113         93         107           98\n6249  2025-07-01-50        113         93          98          107\n\n[6250 rows x 5 columns]",
      "text/html": "<div>\n<style scoped>\n    .dataframe tbody tr th:only-of-type {\n        vertical-align: middle;\n    }\n\n    .dataframe tbody tr th {\n        vertical-align: top;\n    }\n\n    .dataframe thead th {\n        text-align: right;\n    }\n</style>\n<table border=\"1\" class=\"dataframe\">\n  <thead>\n    <tr style=\"text-align: right;\">\n      <th></th>\n      <th>period</th>\n      <th>max_price</th>\n      <th>min_price</th>\n      <th>open_price</th>\n      <th>close_price</th>\n    </tr>\n  </thead>\n  <tbody>\n    <tr>\n      <th>0</th>\n      <td>2025-01-02-1</td>\n      <td>270</td>\n      <td>249</td>\n      <td>267</td>\n      <td>261</td>\n    </tr>\n    <tr>\n      <th>1</th>\n      <td>2025-01-02-2</td>\n      <td>269</td>\n      <td>248</td>\n      <td>264</td>\n      <td>266</td>\n    </tr>\n    <tr>\n      <th>2</th>\n      <td>2025-01-02-3</td>\n      <td>270</td>\n      <td>248</td>\n      <td>269</td>\n      <td>254</td>\n    </tr>\n    <tr>\n      <th>3</th>\n      <td>2025-01-02-4</td>\n      <td>269</td>\n      <td>247</td>\n      <td>255</td>\n      <td>265</td>\n    </tr>\n    <tr>\n      <th>4</th>\n      <td>2025-01-02-5</td>\n      <td>267</td>\n      <td>247</td>\n      <td>262</td>\n      <td>261</td>\n    </tr>\n    <tr>\n      <th>...</th>\n      <td>...</td>\n      <td>...</td>\n      <td>...</td>\n      <td>...</td>\n      <td>...</td>\n    </tr>\n    <tr>\n      <th>6245</th>\n      <td>2025-07-01-46</td>\n      <td>113</td>\n      <td>93</td>\n      <td>109</td>\n      <td>110</td>\n    </tr>\n    <tr>\n      <th>6246</th>\n      <td>2025-07-01-47</td>\n      <td>113</td>\n      <td>93</td>\n      <td>109</td>\n      <td>109</td>\n    </tr>\n    <tr>\n      <th>6247</th>\n      <td>2025-07-01-48</td>\n      <td>113</td>\n      <td>93</td>\n      <td>109</td>\n      <td>107</td>\n    </tr>\n    <tr>\n      <th>6248</th>\n      <td>2025-07-01-49</td>\n      <td>113</td>\n      <td>93</td>\n      <td>107</td>\n      <td>98</td>\n    </tr>\n    <tr>\n      <th>6249</th>\n      <td>2025-07-01-50</td>\n      <td>113</td>\n      <td>93</td>\n      <td>98</td>\n      <td>107</td>\n    </tr>\n  </tbody>\n</table>\n<p>6250 rows × 5 columns</p>\n</div>"
     },
     "execution_count": 69,
     "metadata": {},
     "output_type": "execute_result"
    }
   ],
   "source": [
    "# 初始空DataFrame，用于定义列名\n",
    "result_df = pd.DataFrame(columns=['period', 'max_price', 'min_price', 'open_price', 'close_price'])\n",
    "# 用于存储每个文件处理结果的DataFrame列表\n",
    "df_list = []\n",
    "for i in file_ls:\n",
    "    segments_df = detailprice(i)  # 调用detailprice函数处理每个文件\n",
    "    df_list.append(segments_df)  # 将结果添加到列表中\n",
    "# 在循环结束后，一次性拼接所有DataFrame\n",
    "result_df = pd.concat(df_list, axis=0, ignore_index=True)  # 使用ignore_index=True重置索引\n",
    "# 现在 result_df 包含了所有文件处理后的数据，无需再创建新的DataFrame\n",
    "result_df"
   ],
   "metadata": {
    "collapsed": false,
    "pycharm": {
     "name": "#%%\n"
    }
   }
  },
  {
   "cell_type": "code",
   "execution_count": 70,
   "outputs": [],
   "source": [
    "result_df.to_csv(\"sperated_tapes.csv\")"
   ],
   "metadata": {
    "collapsed": false,
    "pycharm": {
     "name": "#%%\n"
    }
   }
  },
  {
   "cell_type": "code",
   "execution_count": 54,
   "outputs": [
    {
     "data": {
      "text/plain": "DatetimeIndex(['2025-01-02', '2025-01-03', '2025-01-06', '2025-01-07',\n               '2025-01-08', '2025-01-09', '2025-01-10', '2025-01-13',\n               '2025-01-14', '2025-01-15',\n               ...\n               '2025-06-18', '2025-06-19', '2025-06-20', '2025-06-23',\n               '2025-06-24', '2025-06-25', '2025-06-26', '2025-06-27',\n               '2025-06-30', '2025-07-01'],\n              dtype='datetime64[ns]', length=125, freq=None)"
     },
     "execution_count": 54,
     "metadata": {},
     "output_type": "execute_result"
    }
   ],
   "source": [
    "data_pattern = r'\\d{4}-\\d{2}-\\d{2}'  # found the date in the file\n",
    "date = []\n",
    "for i in file_ls:\n",
    "    match = re.search(data_pattern, i)\n",
    "    date.append(match.group())\n",
    "date = pd.to_datetime(date)\n",
    "date"
   ],
   "metadata": {
    "collapsed": false,
    "pycharm": {
     "name": "#%%\n"
    }
   }
  },
  {
   "cell_type": "code",
   "execution_count": 14,
   "outputs": [
    {
     "data": {
      "text/plain": "        date  max_price  min_price  open_price  close_price\n0 2025-01-02        303        243         267          288\n1 2025-01-03        317        270         281          291\n2 2025-01-06        346        276         278          327\n3 2025-01-07        388        317         336          369\n4 2025-01-08        374        303         365          311",
      "text/html": "<div>\n<style scoped>\n    .dataframe tbody tr th:only-of-type {\n        vertical-align: middle;\n    }\n\n    .dataframe tbody tr th {\n        vertical-align: top;\n    }\n\n    .dataframe thead th {\n        text-align: right;\n    }\n</style>\n<table border=\"1\" class=\"dataframe\">\n  <thead>\n    <tr style=\"text-align: right;\">\n      <th></th>\n      <th>date</th>\n      <th>max_price</th>\n      <th>min_price</th>\n      <th>open_price</th>\n      <th>close_price</th>\n    </tr>\n  </thead>\n  <tbody>\n    <tr>\n      <th>0</th>\n      <td>2025-01-02</td>\n      <td>303</td>\n      <td>243</td>\n      <td>267</td>\n      <td>288</td>\n    </tr>\n    <tr>\n      <th>1</th>\n      <td>2025-01-03</td>\n      <td>317</td>\n      <td>270</td>\n      <td>281</td>\n      <td>291</td>\n    </tr>\n    <tr>\n      <th>2</th>\n      <td>2025-01-06</td>\n      <td>346</td>\n      <td>276</td>\n      <td>278</td>\n      <td>327</td>\n    </tr>\n    <tr>\n      <th>3</th>\n      <td>2025-01-07</td>\n      <td>388</td>\n      <td>317</td>\n      <td>336</td>\n      <td>369</td>\n    </tr>\n    <tr>\n      <th>4</th>\n      <td>2025-01-08</td>\n      <td>374</td>\n      <td>303</td>\n      <td>365</td>\n      <td>311</td>\n    </tr>\n  </tbody>\n</table>\n</div>"
     },
     "execution_count": 14,
     "metadata": {},
     "output_type": "execute_result"
    }
   ],
   "source": [
    "file_ls_series = pd.Series(file_ls)\n",
    "results_df = []\n",
    "\n",
    "\n",
    "def apply_detailprice(filename):\n",
    "    return detailprice(filename)  # Make sure that this function returns a tuple or list of four values\n",
    "\n",
    "\n",
    "results_df = file_ls_series.apply(apply_detailprice).apply(pd.Series)\n",
    "results_df.columns = ['max_price', 'min_price', 'open_price', 'close_price']\n",
    "date = pd.Series(date)\n",
    "results_df.insert(0, \"date\", date)\n",
    "results_df.head(5)\n",
    "\n"
   ],
   "metadata": {
    "collapsed": false,
    "pycharm": {
     "name": "#%%\n"
    }
   }
  },
  {
   "cell_type": "code",
   "execution_count": 15,
   "outputs": [
    {
     "data": {
      "text/plain": "        date\n0 2025-01-02\n1 2025-01-03\n2 2025-01-04\n3 2025-01-05\n4 2025-01-06",
      "text/html": "<div>\n<style scoped>\n    .dataframe tbody tr th:only-of-type {\n        vertical-align: middle;\n    }\n\n    .dataframe tbody tr th {\n        vertical-align: top;\n    }\n\n    .dataframe thead th {\n        text-align: right;\n    }\n</style>\n<table border=\"1\" class=\"dataframe\">\n  <thead>\n    <tr style=\"text-align: right;\">\n      <th></th>\n      <th>date</th>\n    </tr>\n  </thead>\n  <tbody>\n    <tr>\n      <th>0</th>\n      <td>2025-01-02</td>\n    </tr>\n    <tr>\n      <th>1</th>\n      <td>2025-01-03</td>\n    </tr>\n    <tr>\n      <th>2</th>\n      <td>2025-01-04</td>\n    </tr>\n    <tr>\n      <th>3</th>\n      <td>2025-01-05</td>\n    </tr>\n    <tr>\n      <th>4</th>\n      <td>2025-01-06</td>\n    </tr>\n  </tbody>\n</table>\n</div>"
     },
     "execution_count": 15,
     "metadata": {},
     "output_type": "execute_result"
    }
   ],
   "source": [
    "start_date, end_date = date.min(), date.max()  # create a new dataframe which have all date in this range\n",
    "date_range = pd.date_range(start=start_date, end=end_date)\n",
    "date_range = pd.Series(date_range)\n",
    "df_full = pd.DataFrame(date_range, columns=['date'])\n",
    "df_full.head(5)"
   ],
   "metadata": {
    "collapsed": false,
    "pycharm": {
     "name": "#%%\n"
    }
   }
  },
  {
   "cell_type": "code",
   "execution_count": 16,
   "outputs": [
    {
     "data": {
      "text/plain": "        date  max_price  min_price  open_price  close_price\n0 2025-01-02      303.0      243.0       267.0        288.0\n1 2025-01-03      317.0      270.0       281.0        291.0\n2 2025-01-04        NaN        NaN         NaN          NaN\n3 2025-01-05        NaN        NaN         NaN          NaN\n4 2025-01-06      346.0      276.0       278.0        327.0",
      "text/html": "<div>\n<style scoped>\n    .dataframe tbody tr th:only-of-type {\n        vertical-align: middle;\n    }\n\n    .dataframe tbody tr th {\n        vertical-align: top;\n    }\n\n    .dataframe thead th {\n        text-align: right;\n    }\n</style>\n<table border=\"1\" class=\"dataframe\">\n  <thead>\n    <tr style=\"text-align: right;\">\n      <th></th>\n      <th>date</th>\n      <th>max_price</th>\n      <th>min_price</th>\n      <th>open_price</th>\n      <th>close_price</th>\n    </tr>\n  </thead>\n  <tbody>\n    <tr>\n      <th>0</th>\n      <td>2025-01-02</td>\n      <td>303.0</td>\n      <td>243.0</td>\n      <td>267.0</td>\n      <td>288.0</td>\n    </tr>\n    <tr>\n      <th>1</th>\n      <td>2025-01-03</td>\n      <td>317.0</td>\n      <td>270.0</td>\n      <td>281.0</td>\n      <td>291.0</td>\n    </tr>\n    <tr>\n      <th>2</th>\n      <td>2025-01-04</td>\n      <td>NaN</td>\n      <td>NaN</td>\n      <td>NaN</td>\n      <td>NaN</td>\n    </tr>\n    <tr>\n      <th>3</th>\n      <td>2025-01-05</td>\n      <td>NaN</td>\n      <td>NaN</td>\n      <td>NaN</td>\n      <td>NaN</td>\n    </tr>\n    <tr>\n      <th>4</th>\n      <td>2025-01-06</td>\n      <td>346.0</td>\n      <td>276.0</td>\n      <td>278.0</td>\n      <td>327.0</td>\n    </tr>\n  </tbody>\n</table>\n</div>"
     },
     "execution_count": 16,
     "metadata": {},
     "output_type": "execute_result"
    }
   ],
   "source": [
    "df_merged = pd.merge(df_full, results_df, on=\"date\", how=\"left\")  # left join 2 df\n",
    "df_merged.head(5)"
   ],
   "metadata": {
    "collapsed": false,
    "pycharm": {
     "name": "#%%\n"
    }
   }
  },
  {
   "cell_type": "code",
   "execution_count": 19,
   "outputs": [],
   "source": [
    "df_merged.to_csv(\"E:/mini project bristol/processed data(LOBS,tapes)/processed_tapes.csv\")"
   ],
   "metadata": {
    "collapsed": false,
    "pycharm": {
     "name": "#%%\n"
    }
   }
  },
  {
   "cell_type": "code",
   "execution_count": null,
   "outputs": [],
   "source": [],
   "metadata": {
    "collapsed": false,
    "pycharm": {
     "name": "#%%\n"
    }
   }
  }
 ],
 "metadata": {
  "kernelspec": {
   "display_name": "Python 3",
   "language": "python",
   "name": "python3"
  },
  "language_info": {
   "codemirror_mode": {
    "name": "ipython",
    "version": 2
   },
   "file_extension": ".py",
   "mimetype": "text/x-python",
   "name": "python",
   "nbconvert_exporter": "python",
   "pygments_lexer": "ipython2",
   "version": "2.7.6"
  }
 },
 "nbformat": 4,
 "nbformat_minor": 0
}