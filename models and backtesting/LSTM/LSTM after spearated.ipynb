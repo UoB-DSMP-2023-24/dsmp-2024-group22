{
 "cells": [
  {
   "cell_type": "code",
   "execution_count": 1,
   "outputs": [
    {
     "name": "stderr",
     "output_type": "stream",
     "text": [
      "D:\\zzyAnaconda\\lib\\site-packages\\scipy\\__init__.py:146: UserWarning: A NumPy version >=1.16.5 and <1.23.0 is required for this version of SciPy (detected version 1.26.4\n",
      "  warnings.warn(f\"A NumPy version >={np_minversion} and <{np_maxversion}\"\n"
     ]
    }
   ],
   "source": [
    "import keras\n",
    "import numpy as np\n",
    "import pandas as pd\n",
    "from matplotlib import pyplot as plt\n",
    "import matplotlib.dates as mdates\n",
    "from sklearn.preprocessing import MinMaxScaler\n",
    "from keras.models import Sequential\n",
    "from keras.layers import LSTM, Dense,Dropout\n",
    "from sklearn.metrics import mean_squared_error, mean_absolute_error, r2_score\n",
    "import tensorflow as tf"
   ],
   "metadata": {
    "collapsed": false,
    "pycharm": {
     "name": "#%%\n"
    }
   }
  },
  {
   "cell_type": "code",
   "execution_count": 2,
   "outputs": [],
   "source": [
    "#定义series_to_supervised()函数\n",
    "#将时间序列转换为监督学习问题\n",
    "def series_to_supervised(data, n_in=1, n_out=1, dropnan=True):\n",
    "\t\"\"\"\n",
    "\tFrame a time series as a supervised learning dataset.\n",
    "\tArguments:\n",
    "\t\tdata: Sequence of observations as a list or NumPy array.\n",
    "\t\tn_in: Number of lag observations as input (X).\n",
    "\t\tn_out: Number of observations as output (y).\n",
    "\t\tdropnan: Boolean whether or not to drop rows with NaN values.\n",
    "\tReturns:\n",
    "\t\tPandas DataFrame of series framed for supervised learning.\n",
    "\t\"\"\"\n",
    "\tn_vars = 1 if type(data) is list else data.shape[1]\n",
    "\tdf = pd.DataFrame(data)\n",
    "\tcols, names = list(), list()\n",
    "\t# input sequence (t-n, ... t-1)\n",
    "\tfor i in range(n_in, 0, -1):\n",
    "\t\tcols.append(df.shift(i))\n",
    "\t\tnames += [('var%d(t-%d)' % (j+1, i)) for j in range(n_vars)]\n",
    "\t# forecast sequence (t, t+1, ... t+n)\n",
    "\tfor i in range(0, n_out):\n",
    "\t\tcols.append(df.shift(-i))\n",
    "\t\tif i == 0:\n",
    "\t\t\tnames += [('var%d(t)' % (j+1)) for j in range(n_vars)]\n",
    "\t\telse:\n",
    "\t\t\tnames += [('var%d(t+%d)' % (j+1, i)) for j in range(n_vars)]\n",
    "\t# put it all together\n",
    "\tagg = pd.concat(cols, axis=1)\n",
    "\tagg.columns = names\n",
    "\t# drop rows with NaN values\n",
    "\tif dropnan:\n",
    "\t\tagg.dropna(inplace=True)\n",
    "\treturn agg"
   ],
   "metadata": {
    "collapsed": false,
    "pycharm": {
     "name": "#%%\n"
    }
   }
  },
  {
   "cell_type": "code",
   "execution_count": 16,
   "outputs": [],
   "source": [
    "df_s=pd.read_csv(\"E:\\git\\dsmp-2024-group22\\data_preprocess\\DATA\\sperated_tapes.csv\",parse_dates=['period'],index_col='period')\n",
    "df_s=df_s.drop(\"Unnamed: 0\",axis=1)\n",
    "df_s=df_s.dropna()\n",
    "# df_s=df_s.sort_values(by='period')\n",
    "df_s=df_s.drop([\"Volume\"],axis=1)"
   ],
   "metadata": {
    "collapsed": false,
    "pycharm": {
     "name": "#%%\n"
    }
   }
  },
  {
   "cell_type": "code",
   "execution_count": 17,
   "outputs": [
    {
     "data": {
      "text/plain": "               max_price  min_price  open_price  close_price\nperiod                                                      \n2025-04-28-1         160        140         158          153\n2025-04-28-2         161        144         152          160\n2025-04-28-3         162        142         158          161\n2025-04-28-4         162        141         161          160\n2025-04-28-5         160        140         160          154\n...                  ...        ...         ...          ...\n2025-07-01-46        113         93         109          110\n2025-07-01-47        113         93         109          109\n2025-07-01-48        113         93         109          107\n2025-07-01-49        113         93         107           98\n2025-07-01-50        113         93          98          107\n\n[2250 rows x 4 columns]",
      "text/html": "<div>\n<style scoped>\n    .dataframe tbody tr th:only-of-type {\n        vertical-align: middle;\n    }\n\n    .dataframe tbody tr th {\n        vertical-align: top;\n    }\n\n    .dataframe thead th {\n        text-align: right;\n    }\n</style>\n<table border=\"1\" class=\"dataframe\">\n  <thead>\n    <tr style=\"text-align: right;\">\n      <th></th>\n      <th>max_price</th>\n      <th>min_price</th>\n      <th>open_price</th>\n      <th>close_price</th>\n    </tr>\n    <tr>\n      <th>period</th>\n      <th></th>\n      <th></th>\n      <th></th>\n      <th></th>\n    </tr>\n  </thead>\n  <tbody>\n    <tr>\n      <th>2025-04-28-1</th>\n      <td>160</td>\n      <td>140</td>\n      <td>158</td>\n      <td>153</td>\n    </tr>\n    <tr>\n      <th>2025-04-28-2</th>\n      <td>161</td>\n      <td>144</td>\n      <td>152</td>\n      <td>160</td>\n    </tr>\n    <tr>\n      <th>2025-04-28-3</th>\n      <td>162</td>\n      <td>142</td>\n      <td>158</td>\n      <td>161</td>\n    </tr>\n    <tr>\n      <th>2025-04-28-4</th>\n      <td>162</td>\n      <td>141</td>\n      <td>161</td>\n      <td>160</td>\n    </tr>\n    <tr>\n      <th>2025-04-28-5</th>\n      <td>160</td>\n      <td>140</td>\n      <td>160</td>\n      <td>154</td>\n    </tr>\n    <tr>\n      <th>...</th>\n      <td>...</td>\n      <td>...</td>\n      <td>...</td>\n      <td>...</td>\n    </tr>\n    <tr>\n      <th>2025-07-01-46</th>\n      <td>113</td>\n      <td>93</td>\n      <td>109</td>\n      <td>110</td>\n    </tr>\n    <tr>\n      <th>2025-07-01-47</th>\n      <td>113</td>\n      <td>93</td>\n      <td>109</td>\n      <td>109</td>\n    </tr>\n    <tr>\n      <th>2025-07-01-48</th>\n      <td>113</td>\n      <td>93</td>\n      <td>109</td>\n      <td>107</td>\n    </tr>\n    <tr>\n      <th>2025-07-01-49</th>\n      <td>113</td>\n      <td>93</td>\n      <td>107</td>\n      <td>98</td>\n    </tr>\n    <tr>\n      <th>2025-07-01-50</th>\n      <td>113</td>\n      <td>93</td>\n      <td>98</td>\n      <td>107</td>\n    </tr>\n  </tbody>\n</table>\n<p>2250 rows × 4 columns</p>\n</div>"
     },
     "execution_count": 17,
     "metadata": {},
     "output_type": "execute_result"
    }
   ],
   "source": [
    "df_s[4000:]"
   ],
   "metadata": {
    "collapsed": false,
    "pycharm": {
     "name": "#%%\n"
    }
   }
  },
  {
   "cell_type": "code",
   "execution_count": 18,
   "outputs": [
    {
     "data": {
      "text/plain": "array([[0.555944  , 0.55714285, 0.5819398 , 0.56      ],\n       [0.55244756, 0.55357146, 0.5719063 , 0.5766667 ],\n       [0.555944  , 0.55357146, 0.58862877, 0.5366667 ],\n       ...,\n       [0.006993  , 0.        , 0.05351171, 0.04666668],\n       [0.006993  , 0.        , 0.04682273, 0.01666668],\n       [0.006993  , 0.        , 0.01672241, 0.04666668]], dtype=float32)"
     },
     "execution_count": 18,
     "metadata": {},
     "output_type": "execute_result"
    }
   ],
   "source": [
    "values=df_s.values\n",
    "values=values.astype('float32')\n",
    "scaler = MinMaxScaler(feature_range=(0, 1))\n",
    "scaled = scaler.fit_transform(values)\n",
    "scaled"
   ],
   "metadata": {
    "collapsed": false,
    "pycharm": {
     "name": "#%%\n"
    }
   }
  },
  {
   "cell_type": "code",
   "execution_count": 19,
   "outputs": [
    {
     "data": {
      "text/plain": "      var1(t-1)  var2(t-1)  var3(t-1)  var4(t-1)   var4(t)\n1      0.555944   0.557143   0.581940   0.560000  0.576667\n2      0.552448   0.553571   0.571906   0.576667  0.536667\n3      0.555944   0.553571   0.588629   0.536667  0.573333\n4      0.552448   0.550000   0.541806   0.573333  0.560000\n5      0.545455   0.550000   0.565217   0.560000  0.553333\n...         ...        ...        ...        ...       ...\n6245   0.006993   0.000000   0.050167   0.063333  0.056667\n6246   0.006993   0.000000   0.053512   0.056667  0.053333\n6247   0.006993   0.000000   0.053512   0.053333  0.046667\n6248   0.006993   0.000000   0.053512   0.046667  0.016667\n6249   0.006993   0.000000   0.046823   0.016667  0.046667\n\n[6249 rows x 5 columns]",
      "text/html": "<div>\n<style scoped>\n    .dataframe tbody tr th:only-of-type {\n        vertical-align: middle;\n    }\n\n    .dataframe tbody tr th {\n        vertical-align: top;\n    }\n\n    .dataframe thead th {\n        text-align: right;\n    }\n</style>\n<table border=\"1\" class=\"dataframe\">\n  <thead>\n    <tr style=\"text-align: right;\">\n      <th></th>\n      <th>var1(t-1)</th>\n      <th>var2(t-1)</th>\n      <th>var3(t-1)</th>\n      <th>var4(t-1)</th>\n      <th>var4(t)</th>\n    </tr>\n  </thead>\n  <tbody>\n    <tr>\n      <th>1</th>\n      <td>0.555944</td>\n      <td>0.557143</td>\n      <td>0.581940</td>\n      <td>0.560000</td>\n      <td>0.576667</td>\n    </tr>\n    <tr>\n      <th>2</th>\n      <td>0.552448</td>\n      <td>0.553571</td>\n      <td>0.571906</td>\n      <td>0.576667</td>\n      <td>0.536667</td>\n    </tr>\n    <tr>\n      <th>3</th>\n      <td>0.555944</td>\n      <td>0.553571</td>\n      <td>0.588629</td>\n      <td>0.536667</td>\n      <td>0.573333</td>\n    </tr>\n    <tr>\n      <th>4</th>\n      <td>0.552448</td>\n      <td>0.550000</td>\n      <td>0.541806</td>\n      <td>0.573333</td>\n      <td>0.560000</td>\n    </tr>\n    <tr>\n      <th>5</th>\n      <td>0.545455</td>\n      <td>0.550000</td>\n      <td>0.565217</td>\n      <td>0.560000</td>\n      <td>0.553333</td>\n    </tr>\n    <tr>\n      <th>...</th>\n      <td>...</td>\n      <td>...</td>\n      <td>...</td>\n      <td>...</td>\n      <td>...</td>\n    </tr>\n    <tr>\n      <th>6245</th>\n      <td>0.006993</td>\n      <td>0.000000</td>\n      <td>0.050167</td>\n      <td>0.063333</td>\n      <td>0.056667</td>\n    </tr>\n    <tr>\n      <th>6246</th>\n      <td>0.006993</td>\n      <td>0.000000</td>\n      <td>0.053512</td>\n      <td>0.056667</td>\n      <td>0.053333</td>\n    </tr>\n    <tr>\n      <th>6247</th>\n      <td>0.006993</td>\n      <td>0.000000</td>\n      <td>0.053512</td>\n      <td>0.053333</td>\n      <td>0.046667</td>\n    </tr>\n    <tr>\n      <th>6248</th>\n      <td>0.006993</td>\n      <td>0.000000</td>\n      <td>0.053512</td>\n      <td>0.046667</td>\n      <td>0.016667</td>\n    </tr>\n    <tr>\n      <th>6249</th>\n      <td>0.006993</td>\n      <td>0.000000</td>\n      <td>0.046823</td>\n      <td>0.016667</td>\n      <td>0.046667</td>\n    </tr>\n  </tbody>\n</table>\n<p>6249 rows × 5 columns</p>\n</div>"
     },
     "execution_count": 19,
     "metadata": {},
     "output_type": "execute_result"
    }
   ],
   "source": [
    "reframed = series_to_supervised(scaled, 1, 1)\n",
    "reframed.drop(reframed.columns[[4,5,6]],axis=1,inplace=True)\n",
    "reframed"
   ],
   "metadata": {
    "collapsed": false,
    "pycharm": {
     "name": "#%%\n"
    }
   }
  },
  {
   "cell_type": "code",
   "execution_count": 20,
   "outputs": [
    {
     "name": "stdout",
     "output_type": "stream",
     "text": [
      "(3999, 1, 4) (3999,)\n",
      "(2250, 1, 4) (2250,)\n"
     ]
    }
   ],
   "source": [
    "# 划分训练集和测试集\n",
    "values = reframed.values\n",
    "l=3999\n",
    "train = values[0:l]\n",
    "test = values[l:]\n",
    "# 划分训练集和测试集的输入和输出\n",
    "train_X, train_y = train[:, :-1], train[:, -1]\n",
    "test_X, test_y = test[:, :-1], test[:, -1]\n",
    "#转化为三维数据\n",
    "# reshape input to be 3D [samples, timesteps, features]\n",
    "train_X = train_X.reshape((train_X.shape[0], 1, train_X.shape[1]))\n",
    "test_X = test_X.reshape((test_X.shape[0], 1, test_X.shape[1]))\n",
    "print(train_X.shape, train_y.shape)\n",
    "print(test_X.shape, test_y.shape)"
   ],
   "metadata": {
    "collapsed": false,
    "pycharm": {
     "name": "#%%\n"
    }
   }
  },
  {
   "cell_type": "code",
   "execution_count": 21,
   "outputs": [
    {
     "name": "stdout",
     "output_type": "stream",
     "text": [
      "Epoch 1/50\n"
     ]
    },
    {
     "name": "stderr",
     "output_type": "stream",
     "text": [
      "D:\\zzyAnaconda\\lib\\site-packages\\keras\\src\\layers\\rnn\\rnn.py:204: UserWarning: Do not pass an `input_shape`/`input_dim` argument to a layer. When using Sequential models, prefer using an `Input(shape)` object as the first layer in the model instead.\n",
      "  super().__init__(**kwargs)\n"
     ]
    },
    {
     "name": "stdout",
     "output_type": "stream",
     "text": [
      "40/40 - 1s - 26ms/step - loss: 0.3403 - val_loss: 0.0664\n",
      "Epoch 2/50\n",
      "40/40 - 0s - 2ms/step - loss: 0.1096 - val_loss: 0.0771\n",
      "Epoch 3/50\n",
      "40/40 - 0s - 2ms/step - loss: 0.0552 - val_loss: 0.0371\n",
      "Epoch 4/50\n",
      "40/40 - 0s - 2ms/step - loss: 0.0557 - val_loss: 0.0231\n",
      "Epoch 5/50\n",
      "40/40 - 0s - 2ms/step - loss: 0.0358 - val_loss: 0.0191\n",
      "Epoch 6/50\n",
      "40/40 - 0s - 2ms/step - loss: 0.0299 - val_loss: 0.0179\n",
      "Epoch 7/50\n",
      "40/40 - 0s - 2ms/step - loss: 0.0285 - val_loss: 0.0173\n",
      "Epoch 8/50\n",
      "40/40 - 0s - 2ms/step - loss: 0.0277 - val_loss: 0.0150\n",
      "Epoch 9/50\n",
      "40/40 - 0s - 2ms/step - loss: 0.0283 - val_loss: 0.0142\n",
      "Epoch 10/50\n",
      "40/40 - 0s - 2ms/step - loss: 0.0278 - val_loss: 0.0133\n",
      "Epoch 11/50\n",
      "40/40 - 0s - 2ms/step - loss: 0.0279 - val_loss: 0.0129\n",
      "Epoch 12/50\n",
      "40/40 - 0s - 2ms/step - loss: 0.0280 - val_loss: 0.0127\n",
      "Epoch 13/50\n",
      "40/40 - 0s - 2ms/step - loss: 0.0280 - val_loss: 0.0126\n",
      "Epoch 14/50\n",
      "40/40 - 0s - 2ms/step - loss: 0.0275 - val_loss: 0.0125\n",
      "Epoch 15/50\n",
      "40/40 - 0s - 2ms/step - loss: 0.0270 - val_loss: 0.0121\n",
      "Epoch 16/50\n",
      "40/40 - 0s - 2ms/step - loss: 0.0265 - val_loss: 0.0115\n",
      "Epoch 17/50\n",
      "40/40 - 0s - 2ms/step - loss: 0.0259 - val_loss: 0.0115\n",
      "Epoch 18/50\n",
      "40/40 - 0s - 2ms/step - loss: 0.0273 - val_loss: 0.0119\n",
      "Epoch 19/50\n",
      "40/40 - 0s - 2ms/step - loss: 0.0259 - val_loss: 0.0118\n",
      "Epoch 20/50\n",
      "40/40 - 0s - 2ms/step - loss: 0.0253 - val_loss: 0.0115\n",
      "Epoch 21/50\n",
      "40/40 - 0s - 2ms/step - loss: 0.0245 - val_loss: 0.0115\n",
      "Epoch 22/50\n",
      "40/40 - 0s - 2ms/step - loss: 0.0251 - val_loss: 0.0117\n",
      "Epoch 23/50\n",
      "40/40 - 0s - 2ms/step - loss: 0.0249 - val_loss: 0.0118\n",
      "Epoch 24/50\n",
      "40/40 - 0s - 2ms/step - loss: 0.0253 - val_loss: 0.0118\n",
      "Epoch 25/50\n",
      "40/40 - 0s - 2ms/step - loss: 0.0240 - val_loss: 0.0117\n",
      "Epoch 26/50\n",
      "40/40 - 0s - 2ms/step - loss: 0.0234 - val_loss: 0.0118\n",
      "Epoch 27/50\n",
      "40/40 - 0s - 2ms/step - loss: 0.0240 - val_loss: 0.0123\n",
      "Epoch 28/50\n",
      "40/40 - 0s - 2ms/step - loss: 0.0231 - val_loss: 0.0126\n",
      "Epoch 29/50\n",
      "40/40 - 0s - 2ms/step - loss: 0.0234 - val_loss: 0.0131\n",
      "Epoch 30/50\n",
      "40/40 - 0s - 2ms/step - loss: 0.0235 - val_loss: 0.0150\n",
      "Epoch 31/50\n",
      "40/40 - 0s - 2ms/step - loss: 0.0239 - val_loss: 0.0151\n",
      "Epoch 32/50\n",
      "40/40 - 0s - 2ms/step - loss: 0.0262 - val_loss: 0.0171\n",
      "Epoch 33/50\n",
      "40/40 - 0s - 2ms/step - loss: 0.0287 - val_loss: 0.0182\n",
      "Epoch 34/50\n",
      "40/40 - 0s - 2ms/step - loss: 0.0319 - val_loss: 0.0173\n",
      "Epoch 35/50\n",
      "40/40 - 0s - 2ms/step - loss: 0.0321 - val_loss: 0.0153\n",
      "Epoch 36/50\n",
      "40/40 - 0s - 2ms/step - loss: 0.0270 - val_loss: 0.0137\n",
      "Epoch 37/50\n",
      "40/40 - 0s - 2ms/step - loss: 0.0248 - val_loss: 0.0126\n",
      "Epoch 38/50\n",
      "40/40 - 0s - 2ms/step - loss: 0.0237 - val_loss: 0.0122\n",
      "Epoch 39/50\n",
      "40/40 - 0s - 2ms/step - loss: 0.0222 - val_loss: 0.0121\n",
      "Epoch 40/50\n",
      "40/40 - 0s - 2ms/step - loss: 0.0221 - val_loss: 0.0122\n",
      "Epoch 41/50\n",
      "40/40 - 0s - 2ms/step - loss: 0.0218 - val_loss: 0.0124\n",
      "Epoch 42/50\n",
      "40/40 - 0s - 2ms/step - loss: 0.0223 - val_loss: 0.0124\n",
      "Epoch 43/50\n",
      "40/40 - 0s - 2ms/step - loss: 0.0222 - val_loss: 0.0130\n",
      "Epoch 44/50\n",
      "40/40 - 0s - 2ms/step - loss: 0.0231 - val_loss: 0.0129\n",
      "Epoch 45/50\n",
      "40/40 - 0s - 2ms/step - loss: 0.0234 - val_loss: 0.0137\n",
      "Epoch 46/50\n",
      "40/40 - 0s - 2ms/step - loss: 0.0245 - val_loss: 0.0136\n",
      "Epoch 47/50\n",
      "40/40 - 0s - 2ms/step - loss: 0.0238 - val_loss: 0.0140\n",
      "Epoch 48/50\n",
      "40/40 - 0s - 2ms/step - loss: 0.0253 - val_loss: 0.0138\n",
      "Epoch 49/50\n",
      "40/40 - 0s - 2ms/step - loss: 0.0250 - val_loss: 0.0137\n",
      "Epoch 50/50\n",
      "40/40 - 0s - 2ms/step - loss: 0.0248 - val_loss: 0.0136\n"
     ]
    },
    {
     "data": {
      "text/plain": "<Figure size 720x432 with 1 Axes>",
      "image/png": "[encoded data removed]"
     },
     "metadata": {
      "needs_background": "light"
     },
     "output_type": "display_data"
    }
   ],
   "source": [
    "# 搭建LSTM模型\n",
    "model=tf.keras.models.Sequential()\n",
    "model.add(LSTM(64, input_shape=(train_X.shape[1], train_X.shape[2])))\n",
    "model.add(Dropout(0.122))\n",
    "model.add(Dense(1,activation='relu'))\n",
    "model.compile(loss='mae', optimizer='adam')\n",
    "# fit network\n",
    "history = model.fit(train_X, train_y, epochs=50, batch_size=100, validation_data=(test_X, test_y), verbose=2,shuffle=False)\n",
    "\n",
    "# 绘制损失图\n",
    "plt.figure(figsize=(10, 6))\n",
    "plt.plot(history.history['loss'], label='train')\n",
    "plt.plot(history.history['val_loss'], label='test')\n",
    "plt.title('jpmorgan train and test LSTM loss', fontsize='12')\n",
    "plt.ylabel('loss', fontsize='10')\n",
    "plt.xlabel('epoch', fontsize='10')\n",
    "plt.legend()\n",
    "plt.show()"
   ],
   "metadata": {
    "collapsed": false,
    "pycharm": {
     "name": "#%%\n"
    }
   }
  },
  {
   "cell_type": "code",
   "execution_count": 22,
   "outputs": [
    {
     "name": "stdout",
     "output_type": "stream",
     "text": [
      "\u001B[1m71/71\u001B[0m \u001B[32m━━━━━━━━━━━━━━━━━━━━\u001B[0m\u001B[37m\u001B[0m \u001B[1m0s\u001B[0m 2ms/step\n"
     ]
    }
   ],
   "source": [
    "#模型预测收益率\n",
    "y_predict = model.predict(test_X)\n",
    "test_X1 = test_X.reshape((test_X.shape[0], test_X.shape[2]))"
   ],
   "metadata": {
    "collapsed": false,
    "pycharm": {
     "name": "#%%\n"
    }
   }
  },
  {
   "cell_type": "code",
   "execution_count": 23,
   "outputs": [
    {
     "name": "stdout",
     "output_type": "stream",
     "text": [
      "反归一化后的预测结果： [151.92876  152.20717  153.83765  ... 111.19788  110.824295 108.790985]\n",
      "反归一化后的真实结果： [153. 160. 161. ... 107.  98. 107.]\n"
     ]
    }
   ],
   "source": [
    "# invert scaling for forecast\n",
    "#将预测结果按比例反归一化\n",
    "inv_y_test = np.concatenate((test_X1[:, :3],y_predict), axis=1)\n",
    "inv_y_test = scaler.inverse_transform(inv_y_test)\n",
    "inv_y_predict=inv_y_test[:,-1]\n",
    "\n",
    "# invert scaling for actual\n",
    "#将真实结果按比例反归一化\n",
    "test_y = test_y.reshape((len(test_y), 1))\n",
    "inv_y_train = np.concatenate((test_X1[:, :3],test_y), axis=1)\n",
    "inv_y_train = scaler.inverse_transform(inv_y_train)\n",
    "inv_y = inv_y_train[:, -1]\n",
    "print('反归一化后的预测结果：',inv_y_predict)\n",
    "print('反归一化后的真实结果：',inv_y)"
   ],
   "metadata": {
    "collapsed": false,
    "pycharm": {
     "name": "#%%\n"
    }
   }
  },
  {
   "cell_type": "code",
   "execution_count": 24,
   "outputs": [
    {
     "data": {
      "text/plain": "array([151.92876 , 152.20717 , 153.83765 , ..., 111.19788 , 110.824295,\n       108.790985], dtype=float32)"
     },
     "execution_count": 24,
     "metadata": {},
     "output_type": "execute_result"
    }
   ],
   "source": [
    "inv_y_predict"
   ],
   "metadata": {
    "collapsed": false,
    "pycharm": {
     "name": "#%%\n"
    }
   }
  },
  {
   "cell_type": "code",
   "execution_count": 25,
   "outputs": [
    {
     "data": {
      "text/plain": "<Figure size 432x288 with 1 Axes>",
      "image/png": "[encoded data removed]"
     },
     "metadata": {
      "needs_background": "light"
     },
     "output_type": "display_data"
    }
   ],
   "source": [
    "plt.plot(inv_y,color='red',label='Original')\n",
    "plt.plot(inv_y_predict,color='green',label='Predict')\n",
    "plt.xlabel('the number of test data')\n",
    "plt.ylabel('close_price')\n",
    "plt.title('TEST')\n",
    "plt.legend()\n",
    "plt.show()"
   ],
   "metadata": {
    "collapsed": false,
    "pycharm": {
     "name": "#%%\n"
    }
   }
  },
  {
   "cell_type": "code",
   "execution_count": 26,
   "outputs": [
    {
     "name": "stdout",
     "output_type": "stream",
     "text": [
      "MSE: 27.138670\n",
      "RMSE: 5.209479\n",
      "MAE: 4.068237\n",
      "R_square: 0.969689\n"
     ]
    }
   ],
   "source": [
    "#回归评价指标\n",
    "# calculate MSE 均方误差\n",
    "mse=mean_squared_error(inv_y,inv_y_predict)\n",
    "# calculate RMSE 均方根误差\n",
    "rmse = np.sqrt(mean_squared_error(inv_y, inv_y_predict))\n",
    "#calculate MAE 平均绝对误差\n",
    "mae=mean_absolute_error(inv_y,inv_y_predict)\n",
    "#calculate R square\n",
    "r_square=r2_score(inv_y,inv_y_predict)\n",
    "print('MSE: %.6f' % mse)\n",
    "print('RMSE: %.6f' % rmse)\n",
    "print('MAE: %.6f' % mae)\n",
    "print('R_square: %.6f' % r_square)"
   ],
   "metadata": {
    "collapsed": false,
    "pycharm": {
     "name": "#%%\n"
    }
   }
  },
  {
   "cell_type": "code",
   "execution_count": 29,
   "outputs": [
    {
     "data": {
      "text/plain": "period\n2025-04-28-1     152.052261\n2025-04-28-2     152.442184\n2025-04-28-3     154.090729\n2025-04-28-4     155.025620\n2025-04-28-5     155.110199\n                    ...    \n2025-07-01-46    110.052704\n2025-07-01-47    109.887672\n2025-07-01-48    109.707230\n2025-07-01-49    109.346497\n2025-07-01-50    107.335434\nLength: 2250, dtype: float32"
     },
     "execution_count": 29,
     "metadata": {},
     "output_type": "execute_result"
    }
   ],
   "source": [
    "df_new=df_s[4000:]\n",
    "predict_closeprice=pd.Series(inv_y_predict,index=df_new.index)\n",
    "predict_closeprice"
   ],
   "metadata": {
    "collapsed": false,
    "pycharm": {
     "name": "#%%\n"
    }
   }
  },
  {
   "cell_type": "code",
   "execution_count": 30,
   "outputs": [
    {
     "name": "stderr",
     "output_type": "stream",
     "text": [
      "C:\\Users\\14620\\AppData\\Local\\Temp/ipykernel_5320/2518012641.py:1: SettingWithCopyWarning: \n",
      "A value is trying to be set on a copy of a slice from a DataFrame.\n",
      "Try using .loc[row_indexer,col_indexer] = value instead\n",
      "\n",
      "See the caveats in the documentation: https://pandas.pydata.org/pandas-docs/stable/user_guide/indexing.html#returning-a-view-versus-a-copy\n",
      "  df_new[\"predict_closeprice\"]=predict_closeprice\n"
     ]
    },
    {
     "data": {
      "text/plain": "               max_price  min_price  open_price  close_price  \\\n2025-04-28-1         160        140         158          153   \n2025-04-28-2         161        144         152          160   \n2025-04-28-3         162        142         158          161   \n2025-04-28-4         162        141         161          160   \n2025-04-28-5         160        140         160          154   \n...                  ...        ...         ...          ...   \n2025-07-01-46        113         93         109          110   \n2025-07-01-47        113         93         109          109   \n2025-07-01-48        113         93         109          107   \n2025-07-01-49        113         93         107           98   \n2025-07-01-50        113         93          98          107   \n\n               predict_closeprice  \n2025-04-28-1           152.052261  \n2025-04-28-2           152.442184  \n2025-04-28-3           154.090729  \n2025-04-28-4           155.025620  \n2025-04-28-5           155.110199  \n...                           ...  \n2025-07-01-46          110.052704  \n2025-07-01-47          109.887672  \n2025-07-01-48          109.707230  \n2025-07-01-49          109.346497  \n2025-07-01-50          107.335434  \n\n[2250 rows x 5 columns]",
      "text/html": "<div>\n<style scoped>\n    .dataframe tbody tr th:only-of-type {\n        vertical-align: middle;\n    }\n\n    .dataframe tbody tr th {\n        vertical-align: top;\n    }\n\n    .dataframe thead th {\n        text-align: right;\n    }\n</style>\n<table border=\"1\" class=\"dataframe\">\n  <thead>\n    <tr style=\"text-align: right;\">\n      <th></th>\n      <th>max_price</th>\n      <th>min_price</th>\n      <th>open_price</th>\n      <th>close_price</th>\n      <th>predict_closeprice</th>\n    </tr>\n  </thead>\n  <tbody>\n    <tr>\n      <th>2025-04-28-1</th>\n      <td>160</td>\n      <td>140</td>\n      <td>158</td>\n      <td>153</td>\n      <td>152.052261</td>\n    </tr>\n    <tr>\n      <th>2025-04-28-2</th>\n      <td>161</td>\n      <td>144</td>\n      <td>152</td>\n      <td>160</td>\n      <td>152.442184</td>\n    </tr>\n    <tr>\n      <th>2025-04-28-3</th>\n      <td>162</td>\n      <td>142</td>\n      <td>158</td>\n      <td>161</td>\n      <td>154.090729</td>\n    </tr>\n    <tr>\n      <th>2025-04-28-4</th>\n      <td>162</td>\n      <td>141</td>\n      <td>161</td>\n      <td>160</td>\n      <td>155.025620</td>\n    </tr>\n    <tr>\n      <th>2025-04-28-5</th>\n      <td>160</td>\n      <td>140</td>\n      <td>160</td>\n      <td>154</td>\n      <td>155.110199</td>\n    </tr>\n    <tr>\n      <th>...</th>\n      <td>...</td>\n      <td>...</td>\n      <td>...</td>\n      <td>...</td>\n      <td>...</td>\n    </tr>\n    <tr>\n      <th>2025-07-01-46</th>\n      <td>113</td>\n      <td>93</td>\n      <td>109</td>\n      <td>110</td>\n      <td>110.052704</td>\n    </tr>\n    <tr>\n      <th>2025-07-01-47</th>\n      <td>113</td>\n      <td>93</td>\n      <td>109</td>\n      <td>109</td>\n      <td>109.887672</td>\n    </tr>\n    <tr>\n      <th>2025-07-01-48</th>\n      <td>113</td>\n      <td>93</td>\n      <td>109</td>\n      <td>107</td>\n      <td>109.707230</td>\n    </tr>\n    <tr>\n      <th>2025-07-01-49</th>\n      <td>113</td>\n      <td>93</td>\n      <td>107</td>\n      <td>98</td>\n      <td>109.346497</td>\n    </tr>\n    <tr>\n      <th>2025-07-01-50</th>\n      <td>113</td>\n      <td>93</td>\n      <td>98</td>\n      <td>107</td>\n      <td>107.335434</td>\n    </tr>\n  </tbody>\n</table>\n<p>2250 rows × 5 columns</p>\n</div>"
     },
     "execution_count": 30,
     "metadata": {},
     "output_type": "execute_result"
    }
   ],
   "source": [
    "df_new[\"predict_closeprice\"]=predict_closeprice\n",
    "df_new.index.name = None\n",
    "df_new"
   ],
   "metadata": {
    "collapsed": false,
    "pycharm": {
     "name": "#%%\n"
    }
   }
  },
  {
   "cell_type": "code",
   "execution_count": 32,
   "outputs": [
    {
     "name": "stderr",
     "output_type": "stream",
     "text": [
      "C:\\Users\\14620\\AppData\\Local\\Temp/ipykernel_5320/434174716.py:1: SettingWithCopyWarning: \n",
      "A value is trying to be set on a copy of a slice from a DataFrame\n",
      "\n",
      "See the caveats in the documentation: https://pandas.pydata.org/pandas-docs/stable/user_guide/indexing.html#returning-a-view-versus-a-copy\n",
      "  df_new.rename(columns={'max_price': 'High', 'min_price': 'Low','open_price': 'Open','predict_closeprice': 'Close'}, inplace=True)\n"
     ]
    },
    {
     "data": {
      "text/plain": "               High  Low  Open       Close\n2025-04-28-1    160  140   158  152.052261\n2025-04-28-2    161  144   152  152.442184\n2025-04-28-3    162  142   158  154.090729\n2025-04-28-4    162  141   161  155.025620\n2025-04-28-5    160  140   160  155.110199\n...             ...  ...   ...         ...\n2025-07-01-46   113   93   109  110.052704\n2025-07-01-47   113   93   109  109.887672\n2025-07-01-48   113   93   109  109.707230\n2025-07-01-49   113   93   107  109.346497\n2025-07-01-50   113   93    98  107.335434\n\n[2250 rows x 4 columns]",
      "text/html": "<div>\n<style scoped>\n    .dataframe tbody tr th:only-of-type {\n        vertical-align: middle;\n    }\n\n    .dataframe tbody tr th {\n        vertical-align: top;\n    }\n\n    .dataframe thead th {\n        text-align: right;\n    }\n</style>\n<table border=\"1\" class=\"dataframe\">\n  <thead>\n    <tr style=\"text-align: right;\">\n      <th></th>\n      <th>High</th>\n      <th>Low</th>\n      <th>Open</th>\n      <th>Close</th>\n    </tr>\n  </thead>\n  <tbody>\n    <tr>\n      <th>2025-04-28-1</th>\n      <td>160</td>\n      <td>140</td>\n      <td>158</td>\n      <td>152.052261</td>\n    </tr>\n    <tr>\n      <th>2025-04-28-2</th>\n      <td>161</td>\n      <td>144</td>\n      <td>152</td>\n      <td>152.442184</td>\n    </tr>\n    <tr>\n      <th>2025-04-28-3</th>\n      <td>162</td>\n      <td>142</td>\n      <td>158</td>\n      <td>154.090729</td>\n    </tr>\n    <tr>\n      <th>2025-04-28-4</th>\n      <td>162</td>\n      <td>141</td>\n      <td>161</td>\n      <td>155.025620</td>\n    </tr>\n    <tr>\n      <th>2025-04-28-5</th>\n      <td>160</td>\n      <td>140</td>\n      <td>160</td>\n      <td>155.110199</td>\n    </tr>\n    <tr>\n      <th>...</th>\n      <td>...</td>\n      <td>...</td>\n      <td>...</td>\n      <td>...</td>\n    </tr>\n    <tr>\n      <th>2025-07-01-46</th>\n      <td>113</td>\n      <td>93</td>\n      <td>109</td>\n      <td>110.052704</td>\n    </tr>\n    <tr>\n      <th>2025-07-01-47</th>\n      <td>113</td>\n      <td>93</td>\n      <td>109</td>\n      <td>109.887672</td>\n    </tr>\n    <tr>\n      <th>2025-07-01-48</th>\n      <td>113</td>\n      <td>93</td>\n      <td>109</td>\n      <td>109.707230</td>\n    </tr>\n    <tr>\n      <th>2025-07-01-49</th>\n      <td>113</td>\n      <td>93</td>\n      <td>107</td>\n      <td>109.346497</td>\n    </tr>\n    <tr>\n      <th>2025-07-01-50</th>\n      <td>113</td>\n      <td>93</td>\n      <td>98</td>\n      <td>107.335434</td>\n    </tr>\n  </tbody>\n</table>\n<p>2250 rows × 4 columns</p>\n</div>"
     },
     "execution_count": 32,
     "metadata": {},
     "output_type": "execute_result"
    }
   ],
   "source": [
    "df_new.rename(columns={'max_price': 'High', 'min_price': 'Low','open_price': 'Open','predict_closeprice': 'Close'}, inplace=True)\n",
    "df_new=df_new.drop([\"close_price\"],axis=1)\n",
    "df_new"
   ],
   "metadata": {
    "collapsed": false,
    "pycharm": {
     "name": "#%%\n"
    }
   }
  },
  {
   "cell_type": "code",
   "execution_count": 33,
   "outputs": [],
   "source": [
    "new_order = ['Open', 'High', 'Low','Close']\n",
    "df_new=df_new[new_order]"
   ],
   "metadata": {
    "collapsed": false,
    "pycharm": {
     "name": "#%%\n"
    }
   }
  },
  {
   "cell_type": "code",
   "execution_count": 34,
   "outputs": [],
   "source": [
    "df_new.to_csv(\"E:/git/dsmp-2024-group22/data_preprocess/DATA/LSTM_prediction.csv\")"
   ],
   "metadata": {
    "collapsed": false,
    "pycharm": {
     "name": "#%%\n"
    }
   }
  },
  {
   "cell_type": "code",
   "execution_count": null,
   "outputs": [],
   "source": [],
   "metadata": {
    "collapsed": false,
    "pycharm": {
     "name": "#%%\n"
    }
   }
  },
  {
   "cell_type": "code",
   "execution_count": null,
   "outputs": [],
   "source": [],
   "metadata": {
    "collapsed": false,
    "pycharm": {
     "name": "#%%\n"
    }
   }
  }
 ],
 "metadata": {
  "kernelspec": {
   "display_name": "Python 3",
   "language": "python",
   "name": "python3"
  },
  "language_info": {
   "codemirror_mode": {
    "name": "ipython",
    "version": 2
   },
   "file_extension": ".py",
   "mimetype": "text/x-python",
   "name": "python",
   "nbconvert_exporter": "python",
   "pygments_lexer": "ipython2",
   "version": "2.7.6"
  }
 },
 "nbformat": 4,
 "nbformat_minor": 0
}