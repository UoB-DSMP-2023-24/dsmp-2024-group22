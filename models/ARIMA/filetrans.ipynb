{
 "cells": [
  {
   "cell_type": "code",
   "execution_count": 1,
   "id": "initial_id",
   "metadata": {
    "collapsed": true,
    "ExecuteTime": {
     "end_time": "2024-04-20T19:42:46.569109800Z",
     "start_time": "2024-04-20T19:42:45.512413Z"
    }
   },
   "outputs": [
    {
     "name": "stderr",
     "output_type": "stream",
     "text": [
      "C:\\Users\\ROG\\AppData\\Local\\Temp\\ipykernel_29832\\790690006.py:1: DeprecationWarning: \n",
      "Pyarrow will become a required dependency of pandas in the next major release of pandas (pandas 3.0),\n",
      "(to allow more performant data types, such as the Arrow string type, and better interoperability with other libraries)\n",
      "but was not found to be installed on your system.\n",
      "If this would cause problems for you,\n",
      "please provide us feedback at https://github.com/pandas-dev/pandas/issues/54466\n",
      "        \n",
      "  import pandas as pd\n"
     ]
    },
    {
     "name": "stdout",
     "output_type": "stream",
     "text": [
      "文件已成功保存到: C:\\Users\\ROG\\Desktop\\so this is the sadness\\MINI Project\\Data\\Updated_pred_df.xlsx\n"
     ]
    }
   ],
   "source": [
    "import pandas as pd\n",
    "\n",
    "# 步骤 1: 读取Excel文件\n",
    "file_path = r'C:\\Users\\ROG\\Desktop\\so this is the sadness\\MINI Project\\Data\\pred_df.xlsx'\n",
    "data = pd.read_excel(file_path)\n",
    "\n",
    "# 步骤 2: 将Date列设置为索引\n",
    "# 假设Date列已经是正确的日期格式，如果不是，您可能需要先转换它\n",
    "data['Date'] = pd.to_datetime(data['Date'])\n",
    "data.set_index('Date', inplace=True)\n",
    "\n",
    "# 步骤 3: 保存到新的Excel文件\n",
    "output_path = r'C:\\Users\\ROG\\Desktop\\so this is the sadness\\MINI Project\\Data\\Updated_pred_df.xlsx'\n",
    "data.to_excel(output_path)\n",
    "\n",
    "print(\"文件已成功保存到:\", output_path)"
   ]
  },
  {
   "cell_type": "code",
   "outputs": [],
   "source": [],
   "metadata": {
    "collapsed": false
   },
   "id": "2c1ceed218762277"
  }
 ],
 "metadata": {
  "kernelspec": {
   "display_name": "Python 3",
   "language": "python",
   "name": "python3"
  },
  "language_info": {
   "codemirror_mode": {
    "name": "ipython",
    "version": 2
   },
   "file_extension": ".py",
   "mimetype": "text/x-python",
   "name": "python",
   "nbconvert_exporter": "python",
   "pygments_lexer": "ipython2",
   "version": "2.7.6"
  }
 },
 "nbformat": 4,
 "nbformat_minor": 5
}
